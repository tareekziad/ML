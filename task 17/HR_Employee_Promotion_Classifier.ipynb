{
 "cells": [
  {
   "cell_type": "markdown",
   "id": "8e606e44",
   "metadata": {},
   "source": [
    "## Import Helper Libraries "
   ]
  },
  {
   "cell_type": "code",
   "execution_count": 2,
   "id": "bc31e312",
   "metadata": {
    "id": "bc31e312"
   },
   "outputs": [],
   "source": [
    "import pandas as pd \n",
    "import numpy as np \n",
    "import seaborn as sns\n",
    "import matplotlib.pyplot as plt \n",
    "import warnings"
   ]
  },
  {
   "cell_type": "code",
   "execution_count": 3,
   "id": "9f9d6f7a",
   "metadata": {
    "id": "9f9d6f7a"
   },
   "outputs": [],
   "source": [
    "from sklearn.preprocessing import MinMaxScaler , RobustScaler , StandardScaler\n",
    "from sklearn.preprocessing import OneHotEncoder , LabelEncoder\n",
    "from category_encoders import BinaryEncoder\n",
    "from sklearn.svm import SVC\n",
    "from imblearn.pipeline import Pipeline\n",
    "from sklearn.compose import ColumnTransformer\n",
    "from imblearn.combine import SMOTETomek\n",
    "from imblearn.under_sampling import TomekLinks\n",
    "from imblearn.over_sampling import SMOTE\n",
    "from imblearn.under_sampling import RandomUnderSampler\n",
    "from sklearn.preprocessing import PolynomialFeatures\n",
    "from sklearn.linear_model import LogisticRegression\n",
    "from sklearn.neighbors import KNeighborsClassifier\n",
    "from sklearn.naive_bayes import MultinomialNB , GaussianNB , BernoulliNB\n",
    "from sklearn.model_selection import train_test_split , cross_validate\n",
    "from sklearn.metrics import accuracy_score , plot_confusion_matrix , ConfusionMatrixDisplay, confusion_matrix ,plot_roc_curve , recall_score , f1_score , precision_score\n",
    "from sklearn.tree import DecisionTreeClassifier\n",
    "from sklearn.ensemble import BaggingClassifier , VotingClassifier , RandomForestClassifier , AdaBoostClassifier , GradientBoostingClassifier\n",
    "from xgboost import XGBClassifier\n",
    "import joblib"
   ]
  },
  {
   "cell_type": "code",
   "execution_count": 4,
   "id": "47b15060",
   "metadata": {
    "id": "47b15060"
   },
   "outputs": [],
   "source": [
    "warnings.filterwarnings('ignore')"
   ]
  },
  {
   "cell_type": "code",
   "execution_count": 5,
   "id": "27871e37",
   "metadata": {
    "id": "27871e37"
   },
   "outputs": [],
   "source": [
    "sns.set_theme(context = 'paper' , style = 'darkgrid' , palette = 'Paired' , \n",
    "             rc = {'figure.figsize' : (8 , 4)})"
   ]
  },
  {
   "cell_type": "code",
   "execution_count": 6,
   "id": "dd92ad14",
   "metadata": {
    "id": "dd92ad14"
   },
   "outputs": [],
   "source": [
    "%matplotlib inline"
   ]
  },
  {
   "cell_type": "markdown",
   "id": "c403a235",
   "metadata": {},
   "source": [
    "## Read Dataset & Make Some Univariate Analysis To Understand Features "
   ]
  },
  {
   "cell_type": "code",
   "execution_count": 7,
   "id": "752d2ab8",
   "metadata": {
    "colab": {
     "base_uri": "https://localhost:8080/",
     "height": 322
    },
    "id": "752d2ab8",
    "outputId": "d6872fec-e46d-42fd-909f-88746db2ae9b",
    "scrolled": true
   },
   "outputs": [
    {
     "data": {
      "text/html": [
       "<div>\n",
       "<style scoped>\n",
       "    .dataframe tbody tr th:only-of-type {\n",
       "        vertical-align: middle;\n",
       "    }\n",
       "\n",
       "    .dataframe tbody tr th {\n",
       "        vertical-align: top;\n",
       "    }\n",
       "\n",
       "    .dataframe thead th {\n",
       "        text-align: right;\n",
       "    }\n",
       "</style>\n",
       "<table border=\"1\" class=\"dataframe\">\n",
       "  <thead>\n",
       "    <tr style=\"text-align: right;\">\n",
       "      <th></th>\n",
       "      <th>employee_id</th>\n",
       "      <th>department</th>\n",
       "      <th>region</th>\n",
       "      <th>education</th>\n",
       "      <th>gender</th>\n",
       "      <th>recruitment_channel</th>\n",
       "      <th>no_of_trainings</th>\n",
       "      <th>age</th>\n",
       "      <th>previous_year_rating</th>\n",
       "      <th>length_of_service</th>\n",
       "      <th>awards_won?</th>\n",
       "      <th>avg_training_score</th>\n",
       "      <th>is_promoted</th>\n",
       "    </tr>\n",
       "  </thead>\n",
       "  <tbody>\n",
       "    <tr>\n",
       "      <th>0</th>\n",
       "      <td>65438</td>\n",
       "      <td>Sales &amp; Marketing</td>\n",
       "      <td>region_7</td>\n",
       "      <td>Master's &amp; above</td>\n",
       "      <td>f</td>\n",
       "      <td>sourcing</td>\n",
       "      <td>1</td>\n",
       "      <td>35</td>\n",
       "      <td>5.0</td>\n",
       "      <td>8</td>\n",
       "      <td>0</td>\n",
       "      <td>49</td>\n",
       "      <td>0</td>\n",
       "    </tr>\n",
       "    <tr>\n",
       "      <th>1</th>\n",
       "      <td>65141</td>\n",
       "      <td>Operations</td>\n",
       "      <td>region_22</td>\n",
       "      <td>Bachelor's</td>\n",
       "      <td>m</td>\n",
       "      <td>other</td>\n",
       "      <td>1</td>\n",
       "      <td>30</td>\n",
       "      <td>5.0</td>\n",
       "      <td>4</td>\n",
       "      <td>0</td>\n",
       "      <td>60</td>\n",
       "      <td>0</td>\n",
       "    </tr>\n",
       "    <tr>\n",
       "      <th>2</th>\n",
       "      <td>7513</td>\n",
       "      <td>Sales &amp; Marketing</td>\n",
       "      <td>region_19</td>\n",
       "      <td>Bachelor's</td>\n",
       "      <td>m</td>\n",
       "      <td>sourcing</td>\n",
       "      <td>1</td>\n",
       "      <td>34</td>\n",
       "      <td>3.0</td>\n",
       "      <td>7</td>\n",
       "      <td>0</td>\n",
       "      <td>50</td>\n",
       "      <td>0</td>\n",
       "    </tr>\n",
       "    <tr>\n",
       "      <th>3</th>\n",
       "      <td>2542</td>\n",
       "      <td>Sales &amp; Marketing</td>\n",
       "      <td>region_23</td>\n",
       "      <td>Bachelor's</td>\n",
       "      <td>m</td>\n",
       "      <td>other</td>\n",
       "      <td>2</td>\n",
       "      <td>39</td>\n",
       "      <td>1.0</td>\n",
       "      <td>10</td>\n",
       "      <td>0</td>\n",
       "      <td>50</td>\n",
       "      <td>0</td>\n",
       "    </tr>\n",
       "    <tr>\n",
       "      <th>4</th>\n",
       "      <td>48945</td>\n",
       "      <td>Technology</td>\n",
       "      <td>region_26</td>\n",
       "      <td>Bachelor's</td>\n",
       "      <td>m</td>\n",
       "      <td>other</td>\n",
       "      <td>1</td>\n",
       "      <td>45</td>\n",
       "      <td>3.0</td>\n",
       "      <td>2</td>\n",
       "      <td>0</td>\n",
       "      <td>73</td>\n",
       "      <td>0</td>\n",
       "    </tr>\n",
       "  </tbody>\n",
       "</table>\n",
       "</div>"
      ],
      "text/plain": [
       "   employee_id         department     region         education gender  \\\n",
       "0        65438  Sales & Marketing   region_7  Master's & above      f   \n",
       "1        65141         Operations  region_22        Bachelor's      m   \n",
       "2         7513  Sales & Marketing  region_19        Bachelor's      m   \n",
       "3         2542  Sales & Marketing  region_23        Bachelor's      m   \n",
       "4        48945         Technology  region_26        Bachelor's      m   \n",
       "\n",
       "  recruitment_channel  no_of_trainings  age  previous_year_rating  \\\n",
       "0            sourcing                1   35                   5.0   \n",
       "1               other                1   30                   5.0   \n",
       "2            sourcing                1   34                   3.0   \n",
       "3               other                2   39                   1.0   \n",
       "4               other                1   45                   3.0   \n",
       "\n",
       "   length_of_service  awards_won?  avg_training_score  is_promoted  \n",
       "0                  8            0                  49            0  \n",
       "1                  4            0                  60            0  \n",
       "2                  7            0                  50            0  \n",
       "3                 10            0                  50            0  \n",
       "4                  2            0                  73            0  "
      ]
     },
     "execution_count": 7,
     "metadata": {},
     "output_type": "execute_result"
    }
   ],
   "source": [
    "df = pd.read_csv('train.csv')\n",
    "df.head()"
   ]
  },
  {
   "cell_type": "code",
   "execution_count": 8,
   "id": "4f86d5ef",
   "metadata": {
    "id": "4f86d5ef"
   },
   "outputs": [],
   "source": [
    "df.drop(['employee_id'] , axis = 1 , inplace = True)"
   ]
  },
  {
   "cell_type": "markdown",
   "id": "7b99a85d",
   "metadata": {},
   "source": [
    "## Check Data Info For Missing Values & Show How DataTypes Represent Features "
   ]
  },
  {
   "cell_type": "code",
   "execution_count": 9,
   "id": "e55f87a6",
   "metadata": {
    "colab": {
     "base_uri": "https://localhost:8080/"
    },
    "id": "e55f87a6",
    "outputId": "b04f17b1-9875-4e7b-ab1c-de9a582bd5bb",
    "scrolled": true
   },
   "outputs": [
    {
     "name": "stdout",
     "output_type": "stream",
     "text": [
      "<class 'pandas.core.frame.DataFrame'>\n",
      "RangeIndex: 54808 entries, 0 to 54807\n",
      "Data columns (total 12 columns):\n",
      " #   Column                Non-Null Count  Dtype  \n",
      "---  ------                --------------  -----  \n",
      " 0   department            54808 non-null  object \n",
      " 1   region                54808 non-null  object \n",
      " 2   education             52399 non-null  object \n",
      " 3   gender                54808 non-null  object \n",
      " 4   recruitment_channel   54808 non-null  object \n",
      " 5   no_of_trainings       54808 non-null  int64  \n",
      " 6   age                   54808 non-null  int64  \n",
      " 7   previous_year_rating  50684 non-null  float64\n",
      " 8   length_of_service     54808 non-null  int64  \n",
      " 9   awards_won?           54808 non-null  int64  \n",
      " 10  avg_training_score    54808 non-null  int64  \n",
      " 11  is_promoted           54808 non-null  int64  \n",
      "dtypes: float64(1), int64(6), object(5)\n",
      "memory usage: 5.0+ MB\n"
     ]
    }
   ],
   "source": [
    "df.info()"
   ]
  },
  {
   "cell_type": "markdown",
   "id": "c3830d34",
   "metadata": {},
   "source": [
    "## Check Missing Records "
   ]
  },
  {
   "cell_type": "code",
   "execution_count": 10,
   "id": "c8bf9ad5",
   "metadata": {
    "colab": {
     "base_uri": "https://localhost:8080/"
    },
    "id": "c8bf9ad5",
    "outputId": "011a7428-9919-4a28-ffd5-cfea4427f984"
   },
   "outputs": [
    {
     "data": {
      "text/plain": [
       "department              0.000000\n",
       "region                  0.000000\n",
       "education               4.395344\n",
       "gender                  0.000000\n",
       "recruitment_channel     0.000000\n",
       "no_of_trainings         0.000000\n",
       "age                     0.000000\n",
       "previous_year_rating    7.524449\n",
       "length_of_service       0.000000\n",
       "awards_won?             0.000000\n",
       "avg_training_score      0.000000\n",
       "is_promoted             0.000000\n",
       "dtype: float64"
      ]
     },
     "execution_count": 10,
     "metadata": {},
     "output_type": "execute_result"
    }
   ],
   "source": [
    "df.isnull().mean()*100"
   ]
  },
  {
   "cell_type": "markdown",
   "id": "79f6ed4a",
   "metadata": {},
   "source": [
    "## Check Duplicated Data "
   ]
  },
  {
   "cell_type": "code",
   "execution_count": 11,
   "id": "ff0ab435",
   "metadata": {
    "colab": {
     "base_uri": "https://localhost:8080/"
    },
    "id": "ff0ab435",
    "outputId": "df124c18-41a6-49b0-c2fb-17988cc4e1a7",
    "scrolled": true
   },
   "outputs": [
    {
     "data": {
      "text/plain": [
       "219"
      ]
     },
     "execution_count": 11,
     "metadata": {},
     "output_type": "execute_result"
    }
   ],
   "source": [
    "df.duplicated().sum()"
   ]
  },
  {
   "cell_type": "markdown",
   "id": "ef772cae",
   "metadata": {},
   "source": [
    "## Drop Missing Records That Have Small Ratio Of Missing & Drop Duplicated Too"
   ]
  },
  {
   "cell_type": "code",
   "execution_count": 12,
   "id": "00ca0699",
   "metadata": {
    "id": "00ca0699"
   },
   "outputs": [],
   "source": [
    "df.drop_duplicates(inplace = True , ignore_index = True)"
   ]
  },
  {
   "cell_type": "code",
   "execution_count": 13,
   "id": "1b995032",
   "metadata": {
    "id": "1b995032"
   },
   "outputs": [],
   "source": [
    "df.dropna(subset = ['education' , 'previous_year_rating'] , axis = 0 , inplace = True)"
   ]
  },
  {
   "cell_type": "code",
   "execution_count": 14,
   "id": "77420475",
   "metadata": {
    "id": "77420475"
   },
   "outputs": [],
   "source": [
    "df.reset_index(inplace = True , drop = True)"
   ]
  },
  {
   "cell_type": "markdown",
   "id": "74af5a4f",
   "metadata": {},
   "source": [
    "## Make Some Univariate Analysis To See Distribution Of Feature & Unique Values "
   ]
  },
  {
   "cell_type": "code",
   "execution_count": 15,
   "id": "810ec278",
   "metadata": {
    "colab": {
     "base_uri": "https://localhost:8080/"
    },
    "id": "810ec278",
    "outputId": "00568591-49c9-4773-b9a6-74d59a25faae",
    "scrolled": true
   },
   "outputs": [
    {
     "data": {
      "text/plain": [
       "array(['Sales & Marketing', 'Operations', 'Technology', 'Analytics',\n",
       "       'R&D', 'Procurement', 'Finance', 'HR', 'Legal'], dtype=object)"
      ]
     },
     "execution_count": 15,
     "metadata": {},
     "output_type": "execute_result"
    }
   ],
   "source": [
    "df['department'].unique()"
   ]
  },
  {
   "cell_type": "code",
   "execution_count": 16,
   "id": "4e7a1430",
   "metadata": {
    "colab": {
     "base_uri": "https://localhost:8080/",
     "height": 297
    },
    "id": "4e7a1430",
    "outputId": "5f74711e-feae-4d8f-94fa-7991590ce54d",
    "scrolled": true
   },
   "outputs": [
    {
     "data": {
      "text/plain": [
       "<AxesSubplot:xlabel='count', ylabel='department'>"
      ]
     },
     "execution_count": 16,
     "metadata": {},
     "output_type": "execute_result"
    },
    {
     "data": {
      "image/png": "[encoded data removed]",
      "text/plain": [
       "<Figure size 432x288 with 1 Axes>"
      ]
     },
     "metadata": {
      "needs_background": "light"
     },
     "output_type": "display_data"
    }
   ],
   "source": [
    "sns.countplot(y = df['department'])"
   ]
  },
  {
   "cell_type": "code",
   "execution_count": 17,
   "id": "1d2c9d48",
   "metadata": {
    "colab": {
     "base_uri": "https://localhost:8080/"
    },
    "id": "1d2c9d48",
    "outputId": "2d687981-af22-4e1f-9848-4079ec886a87"
   },
   "outputs": [
    {
     "data": {
      "text/plain": [
       "34"
      ]
     },
     "execution_count": 17,
     "metadata": {},
     "output_type": "execute_result"
    }
   ],
   "source": [
    "len(df['region'].unique())"
   ]
  },
  {
   "cell_type": "code",
   "execution_count": 18,
   "id": "5bd38527",
   "metadata": {
    "colab": {
     "base_uri": "https://localhost:8080/",
     "height": 514
    },
    "id": "5bd38527",
    "outputId": "d117992c-6912-4cec-b162-6000527b824a"
   },
   "outputs": [
    {
     "data": {
      "text/plain": [
       "<AxesSubplot:xlabel='count', ylabel='region'>"
      ]
     },
     "execution_count": 18,
     "metadata": {},
     "output_type": "execute_result"
    },
    {
     "data": {
      "image/png": "[encoded data removed]",
      "text/plain": [
       "<Figure size 576x576 with 1 Axes>"
      ]
     },
     "metadata": {
      "needs_background": "light"
     },
     "output_type": "display_data"
    }
   ],
   "source": [
    "plt.figure(figsize = (8 , 8))\n",
    "sns.countplot(y = df['region'])"
   ]
  },
  {
   "cell_type": "code",
   "execution_count": 19,
   "id": "2bb3e25b",
   "metadata": {
    "colab": {
     "base_uri": "https://localhost:8080/"
    },
    "id": "2bb3e25b",
    "outputId": "0aee819b-6c6b-458e-c003-c1343acce8a1"
   },
   "outputs": [
    {
     "data": {
      "text/plain": [
       "array([\"Master's & above\", \"Bachelor's\", 'Below Secondary'], dtype=object)"
      ]
     },
     "execution_count": 19,
     "metadata": {},
     "output_type": "execute_result"
    }
   ],
   "source": [
    "df['education'].unique()"
   ]
  },
  {
   "cell_type": "code",
   "execution_count": 20,
   "id": "2b7051bc",
   "metadata": {
    "colab": {
     "base_uri": "https://localhost:8080/",
     "height": 297
    },
    "id": "2b7051bc",
    "outputId": "a76b4e71-e6d6-42bc-86f4-8c150700519b"
   },
   "outputs": [
    {
     "data": {
      "text/plain": [
       "<AxesSubplot:xlabel='education', ylabel='count'>"
      ]
     },
     "execution_count": 20,
     "metadata": {},
     "output_type": "execute_result"
    },
    {
     "data": {
      "image/png": "[encoded data removed]",
      "text/plain": [
       "<Figure size 432x288 with 1 Axes>"
      ]
     },
     "metadata": {
      "needs_background": "light"
     },
     "output_type": "display_data"
    }
   ],
   "source": [
    "sns.countplot(df['education'])"
   ]
  },
  {
   "cell_type": "code",
   "execution_count": 21,
   "id": "3c65ce51",
   "metadata": {
    "colab": {
     "base_uri": "https://localhost:8080/"
    },
    "id": "3c65ce51",
    "outputId": "5e3de718-3c82-4944-b4cd-1b9305ea1aa0"
   },
   "outputs": [
    {
     "data": {
      "text/plain": [
       "array(['f', 'm'], dtype=object)"
      ]
     },
     "execution_count": 21,
     "metadata": {},
     "output_type": "execute_result"
    }
   ],
   "source": [
    "df['gender'].unique()"
   ]
  },
  {
   "cell_type": "code",
   "execution_count": 22,
   "id": "4abba18d",
   "metadata": {
    "colab": {
     "base_uri": "https://localhost:8080/",
     "height": 297
    },
    "id": "4abba18d",
    "outputId": "92e8a983-f35c-401b-cde0-5c47de886985"
   },
   "outputs": [
    {
     "data": {
      "text/plain": [
       "<AxesSubplot:xlabel='gender', ylabel='count'>"
      ]
     },
     "execution_count": 22,
     "metadata": {},
     "output_type": "execute_result"
    },
    {
     "data": {
      "image/png": "[encoded data removed]",
      "text/plain": [
       "<Figure size 432x288 with 1 Axes>"
      ]
     },
     "metadata": {
      "needs_background": "light"
     },
     "output_type": "display_data"
    }
   ],
   "source": [
    "sns.countplot(df['gender'])"
   ]
  },
  {
   "cell_type": "code",
   "execution_count": 23,
   "id": "3277466c",
   "metadata": {
    "colab": {
     "base_uri": "https://localhost:8080/"
    },
    "id": "3277466c",
    "outputId": "3db113a3-837b-47ca-9295-f529c21399b7"
   },
   "outputs": [
    {
     "data": {
      "text/plain": [
       "array(['sourcing', 'other', 'referred'], dtype=object)"
      ]
     },
     "execution_count": 23,
     "metadata": {},
     "output_type": "execute_result"
    }
   ],
   "source": [
    "df['recruitment_channel'].unique()"
   ]
  },
  {
   "cell_type": "code",
   "execution_count": 24,
   "id": "1f6a532b",
   "metadata": {
    "colab": {
     "base_uri": "https://localhost:8080/",
     "height": 298
    },
    "id": "1f6a532b",
    "outputId": "0b8c76e0-165e-4070-8936-6c75a7102f20"
   },
   "outputs": [
    {
     "data": {
      "text/plain": [
       "<AxesSubplot:xlabel='recruitment_channel', ylabel='count'>"
      ]
     },
     "execution_count": 24,
     "metadata": {},
     "output_type": "execute_result"
    },
    {
     "data": {
      "image/png": "[encoded data removed]",
      "text/plain": [
       "<Figure size 432x288 with 1 Axes>"
      ]
     },
     "metadata": {
      "needs_background": "light"
     },
     "output_type": "display_data"
    }
   ],
   "source": [
    "sns.countplot(df['recruitment_channel'])"
   ]
  },
  {
   "cell_type": "code",
   "execution_count": 25,
   "id": "270677af",
   "metadata": {
    "colab": {
     "base_uri": "https://localhost:8080/"
    },
    "id": "270677af",
    "outputId": "4885390b-7bc8-4946-d555-0b9b2635447f"
   },
   "outputs": [
    {
     "data": {
      "text/plain": [
       "array([ 1,  2,  3,  4,  7,  5,  6, 10,  8,  9], dtype=int64)"
      ]
     },
     "execution_count": 25,
     "metadata": {},
     "output_type": "execute_result"
    }
   ],
   "source": [
    "df['no_of_trainings'].unique()"
   ]
  },
  {
   "cell_type": "code",
   "execution_count": 26,
   "id": "e3089a8a",
   "metadata": {
    "colab": {
     "base_uri": "https://localhost:8080/",
     "height": 297
    },
    "id": "e3089a8a",
    "outputId": "542dcb0a-b55d-4641-a54c-7163e8f97bb7"
   },
   "outputs": [
    {
     "data": {
      "text/plain": [
       "<AxesSubplot:xlabel='count', ylabel='no_of_trainings'>"
      ]
     },
     "execution_count": 26,
     "metadata": {},
     "output_type": "execute_result"
    },
    {
     "data": {
      "image/png": "[encoded data removed]",
      "text/plain": [
       "<Figure size 432x288 with 1 Axes>"
      ]
     },
     "metadata": {
      "needs_background": "light"
     },
     "output_type": "display_data"
    }
   ],
   "source": [
    "sns.countplot(y = df['no_of_trainings'])"
   ]
  },
  {
   "cell_type": "markdown",
   "id": "8ea17f54",
   "metadata": {},
   "source": [
    "## Convert NumberOfTraining To Interval (Binned)"
   ]
  },
  {
   "cell_type": "code",
   "execution_count": 27,
   "id": "8aae0e6e",
   "metadata": {
    "id": "8aae0e6e"
   },
   "outputs": [],
   "source": [
    "df['no_of_trainings'] = df['no_of_trainings'].apply(lambda x : '>1' if x > 1 else '1')"
   ]
  },
  {
   "cell_type": "code",
   "execution_count": 28,
   "id": "5d2640ce",
   "metadata": {
    "colab": {
     "base_uri": "https://localhost:8080/"
    },
    "id": "5d2640ce",
    "outputId": "aa82d8a2-8758-4957-8d48-8ddd056690a9"
   },
   "outputs": [
    {
     "data": {
      "text/plain": [
       "array(['1', '>1'], dtype=object)"
      ]
     },
     "execution_count": 28,
     "metadata": {},
     "output_type": "execute_result"
    }
   ],
   "source": [
    "df['no_of_trainings'].unique()"
   ]
  },
  {
   "cell_type": "code",
   "execution_count": 29,
   "id": "a1ee9a17",
   "metadata": {
    "colab": {
     "base_uri": "https://localhost:8080/",
     "height": 298
    },
    "id": "a1ee9a17",
    "outputId": "9f357bdb-de27-4378-9a57-abcb117700ad"
   },
   "outputs": [
    {
     "data": {
      "text/plain": [
       "<AxesSubplot:xlabel='no_of_trainings', ylabel='count'>"
      ]
     },
     "execution_count": 29,
     "metadata": {},
     "output_type": "execute_result"
    },
    {
     "data": {
      "image/png": "[encoded data removed]",
      "text/plain": [
       "<Figure size 432x288 with 1 Axes>"
      ]
     },
     "metadata": {
      "needs_background": "light"
     },
     "output_type": "display_data"
    }
   ],
   "source": [
    "sns.countplot(df['no_of_trainings'])"
   ]
  },
  {
   "cell_type": "code",
   "execution_count": 30,
   "id": "e064fb90",
   "metadata": {
    "colab": {
     "base_uri": "https://localhost:8080/",
     "height": 81
    },
    "id": "e064fb90",
    "outputId": "1b0111d2-06ec-4fe0-9c17-91883c6aad15"
   },
   "outputs": [
    {
     "data": {
      "text/html": [
       "<div>\n",
       "<style scoped>\n",
       "    .dataframe tbody tr th:only-of-type {\n",
       "        vertical-align: middle;\n",
       "    }\n",
       "\n",
       "    .dataframe tbody tr th {\n",
       "        vertical-align: top;\n",
       "    }\n",
       "\n",
       "    .dataframe thead th {\n",
       "        text-align: right;\n",
       "    }\n",
       "</style>\n",
       "<table border=\"1\" class=\"dataframe\">\n",
       "  <thead>\n",
       "    <tr style=\"text-align: right;\">\n",
       "      <th></th>\n",
       "      <th>count</th>\n",
       "      <th>mean</th>\n",
       "      <th>std</th>\n",
       "      <th>min</th>\n",
       "      <th>25%</th>\n",
       "      <th>50%</th>\n",
       "      <th>75%</th>\n",
       "      <th>max</th>\n",
       "    </tr>\n",
       "  </thead>\n",
       "  <tbody>\n",
       "    <tr>\n",
       "      <th>age</th>\n",
       "      <td>48557.0</td>\n",
       "      <td>35.595836</td>\n",
       "      <td>7.537914</td>\n",
       "      <td>20.0</td>\n",
       "      <td>30.0</td>\n",
       "      <td>34.0</td>\n",
       "      <td>39.0</td>\n",
       "      <td>60.0</td>\n",
       "    </tr>\n",
       "  </tbody>\n",
       "</table>\n",
       "</div>"
      ],
      "text/plain": [
       "       count       mean       std   min   25%   50%   75%   max\n",
       "age  48557.0  35.595836  7.537914  20.0  30.0  34.0  39.0  60.0"
      ]
     },
     "execution_count": 30,
     "metadata": {},
     "output_type": "execute_result"
    }
   ],
   "source": [
    "df['age'].describe().to_frame().T"
   ]
  },
  {
   "cell_type": "code",
   "execution_count": 31,
   "id": "5a7165bd",
   "metadata": {
    "colab": {
     "base_uri": "https://localhost:8080/",
     "height": 297
    },
    "id": "5a7165bd",
    "outputId": "18e6ee14-176e-48b7-9642-3ab26b963572"
   },
   "outputs": [
    {
     "data": {
      "text/plain": [
       "<AxesSubplot:xlabel='age', ylabel='Density'>"
      ]
     },
     "execution_count": 31,
     "metadata": {},
     "output_type": "execute_result"
    },
    {
     "data": {
      "image/png": "[encoded data removed]",
      "text/plain": [
       "<Figure size 432x288 with 1 Axes>"
      ]
     },
     "metadata": {
      "needs_background": "light"
     },
     "output_type": "display_data"
    }
   ],
   "source": [
    "sns.kdeplot(df['age'] , shade = True , hue = df['is_promoted'])"
   ]
  },
  {
   "cell_type": "code",
   "execution_count": 32,
   "id": "f8165ef8",
   "metadata": {
    "colab": {
     "base_uri": "https://localhost:8080/",
     "height": 297
    },
    "id": "f8165ef8",
    "outputId": "f1d778ce-487d-4291-c2b8-d2a9b4812195"
   },
   "outputs": [
    {
     "data": {
      "text/plain": [
       "<AxesSubplot:xlabel='age'>"
      ]
     },
     "execution_count": 32,
     "metadata": {},
     "output_type": "execute_result"
    },
    {
     "data": {
      "image/png": "[encoded data removed]",
      "text/plain": [
       "<Figure size 432x288 with 1 Axes>"
      ]
     },
     "metadata": {
      "needs_background": "light"
     },
     "output_type": "display_data"
    }
   ],
   "source": [
    "sns.boxplot(df['age'])"
   ]
  },
  {
   "cell_type": "markdown",
   "id": "2b1050c3",
   "metadata": {},
   "source": [
    "## Age With Outliers Points But Is True Values "
   ]
  },
  {
   "cell_type": "code",
   "execution_count": 33,
   "id": "c343bc47",
   "metadata": {},
   "outputs": [
    {
     "data": {
      "text/html": [
       "<div>\n",
       "<style scoped>\n",
       "    .dataframe tbody tr th:only-of-type {\n",
       "        vertical-align: middle;\n",
       "    }\n",
       "\n",
       "    .dataframe tbody tr th {\n",
       "        vertical-align: top;\n",
       "    }\n",
       "\n",
       "    .dataframe thead th {\n",
       "        text-align: right;\n",
       "    }\n",
       "</style>\n",
       "<table border=\"1\" class=\"dataframe\">\n",
       "  <thead>\n",
       "    <tr style=\"text-align: right;\">\n",
       "      <th></th>\n",
       "      <th>department</th>\n",
       "      <th>region</th>\n",
       "      <th>education</th>\n",
       "      <th>gender</th>\n",
       "      <th>recruitment_channel</th>\n",
       "      <th>no_of_trainings</th>\n",
       "      <th>age</th>\n",
       "      <th>previous_year_rating</th>\n",
       "      <th>length_of_service</th>\n",
       "      <th>awards_won?</th>\n",
       "      <th>avg_training_score</th>\n",
       "      <th>is_promoted</th>\n",
       "    </tr>\n",
       "  </thead>\n",
       "  <tbody>\n",
       "    <tr>\n",
       "      <th>28</th>\n",
       "      <td>Operations</td>\n",
       "      <td>region_2</td>\n",
       "      <td>Bachelor's</td>\n",
       "      <td>m</td>\n",
       "      <td>sourcing</td>\n",
       "      <td>&gt;1</td>\n",
       "      <td>57</td>\n",
       "      <td>4.0</td>\n",
       "      <td>6</td>\n",
       "      <td>0</td>\n",
       "      <td>58</td>\n",
       "      <td>0</td>\n",
       "    </tr>\n",
       "    <tr>\n",
       "      <th>37</th>\n",
       "      <td>HR</td>\n",
       "      <td>region_2</td>\n",
       "      <td>Bachelor's</td>\n",
       "      <td>m</td>\n",
       "      <td>sourcing</td>\n",
       "      <td>1</td>\n",
       "      <td>59</td>\n",
       "      <td>4.0</td>\n",
       "      <td>26</td>\n",
       "      <td>0</td>\n",
       "      <td>52</td>\n",
       "      <td>0</td>\n",
       "    </tr>\n",
       "    <tr>\n",
       "      <th>43</th>\n",
       "      <td>Procurement</td>\n",
       "      <td>region_2</td>\n",
       "      <td>Master's &amp; above</td>\n",
       "      <td>f</td>\n",
       "      <td>sourcing</td>\n",
       "      <td>1</td>\n",
       "      <td>56</td>\n",
       "      <td>3.0</td>\n",
       "      <td>12</td>\n",
       "      <td>0</td>\n",
       "      <td>73</td>\n",
       "      <td>0</td>\n",
       "    </tr>\n",
       "    <tr>\n",
       "      <th>82</th>\n",
       "      <td>Finance</td>\n",
       "      <td>region_2</td>\n",
       "      <td>Master's &amp; above</td>\n",
       "      <td>m</td>\n",
       "      <td>other</td>\n",
       "      <td>1</td>\n",
       "      <td>60</td>\n",
       "      <td>5.0</td>\n",
       "      <td>17</td>\n",
       "      <td>0</td>\n",
       "      <td>59</td>\n",
       "      <td>0</td>\n",
       "    </tr>\n",
       "    <tr>\n",
       "      <th>203</th>\n",
       "      <td>Analytics</td>\n",
       "      <td>region_2</td>\n",
       "      <td>Bachelor's</td>\n",
       "      <td>m</td>\n",
       "      <td>sourcing</td>\n",
       "      <td>&gt;1</td>\n",
       "      <td>54</td>\n",
       "      <td>3.0</td>\n",
       "      <td>9</td>\n",
       "      <td>0</td>\n",
       "      <td>86</td>\n",
       "      <td>0</td>\n",
       "    </tr>\n",
       "    <tr>\n",
       "      <th>...</th>\n",
       "      <td>...</td>\n",
       "      <td>...</td>\n",
       "      <td>...</td>\n",
       "      <td>...</td>\n",
       "      <td>...</td>\n",
       "      <td>...</td>\n",
       "      <td>...</td>\n",
       "      <td>...</td>\n",
       "      <td>...</td>\n",
       "      <td>...</td>\n",
       "      <td>...</td>\n",
       "      <td>...</td>\n",
       "    </tr>\n",
       "    <tr>\n",
       "      <th>48399</th>\n",
       "      <td>Sales &amp; Marketing</td>\n",
       "      <td>region_2</td>\n",
       "      <td>Bachelor's</td>\n",
       "      <td>m</td>\n",
       "      <td>sourcing</td>\n",
       "      <td>1</td>\n",
       "      <td>57</td>\n",
       "      <td>1.0</td>\n",
       "      <td>13</td>\n",
       "      <td>0</td>\n",
       "      <td>50</td>\n",
       "      <td>0</td>\n",
       "    </tr>\n",
       "    <tr>\n",
       "      <th>48402</th>\n",
       "      <td>Analytics</td>\n",
       "      <td>region_2</td>\n",
       "      <td>Master's &amp; above</td>\n",
       "      <td>m</td>\n",
       "      <td>other</td>\n",
       "      <td>1</td>\n",
       "      <td>54</td>\n",
       "      <td>5.0</td>\n",
       "      <td>5</td>\n",
       "      <td>0</td>\n",
       "      <td>87</td>\n",
       "      <td>0</td>\n",
       "    </tr>\n",
       "    <tr>\n",
       "      <th>48502</th>\n",
       "      <td>Procurement</td>\n",
       "      <td>region_2</td>\n",
       "      <td>Master's &amp; above</td>\n",
       "      <td>f</td>\n",
       "      <td>sourcing</td>\n",
       "      <td>1</td>\n",
       "      <td>55</td>\n",
       "      <td>4.0</td>\n",
       "      <td>12</td>\n",
       "      <td>0</td>\n",
       "      <td>70</td>\n",
       "      <td>0</td>\n",
       "    </tr>\n",
       "    <tr>\n",
       "      <th>48510</th>\n",
       "      <td>Technology</td>\n",
       "      <td>region_7</td>\n",
       "      <td>Master's &amp; above</td>\n",
       "      <td>m</td>\n",
       "      <td>other</td>\n",
       "      <td>1</td>\n",
       "      <td>54</td>\n",
       "      <td>4.0</td>\n",
       "      <td>7</td>\n",
       "      <td>0</td>\n",
       "      <td>81</td>\n",
       "      <td>1</td>\n",
       "    </tr>\n",
       "    <tr>\n",
       "      <th>48543</th>\n",
       "      <td>Sales &amp; Marketing</td>\n",
       "      <td>region_14</td>\n",
       "      <td>Bachelor's</td>\n",
       "      <td>m</td>\n",
       "      <td>other</td>\n",
       "      <td>1</td>\n",
       "      <td>59</td>\n",
       "      <td>3.0</td>\n",
       "      <td>11</td>\n",
       "      <td>0</td>\n",
       "      <td>65</td>\n",
       "      <td>1</td>\n",
       "    </tr>\n",
       "  </tbody>\n",
       "</table>\n",
       "<p>2051 rows × 12 columns</p>\n",
       "</div>"
      ],
      "text/plain": [
       "              department     region         education gender  \\\n",
       "28            Operations   region_2        Bachelor's      m   \n",
       "37                    HR   region_2        Bachelor's      m   \n",
       "43           Procurement   region_2  Master's & above      f   \n",
       "82               Finance   region_2  Master's & above      m   \n",
       "203            Analytics   region_2        Bachelor's      m   \n",
       "...                  ...        ...               ...    ...   \n",
       "48399  Sales & Marketing   region_2        Bachelor's      m   \n",
       "48402          Analytics   region_2  Master's & above      m   \n",
       "48502        Procurement   region_2  Master's & above      f   \n",
       "48510         Technology   region_7  Master's & above      m   \n",
       "48543  Sales & Marketing  region_14        Bachelor's      m   \n",
       "\n",
       "      recruitment_channel no_of_trainings  age  previous_year_rating  \\\n",
       "28               sourcing              >1   57                   4.0   \n",
       "37               sourcing               1   59                   4.0   \n",
       "43               sourcing               1   56                   3.0   \n",
       "82                  other               1   60                   5.0   \n",
       "203              sourcing              >1   54                   3.0   \n",
       "...                   ...             ...  ...                   ...   \n",
       "48399            sourcing               1   57                   1.0   \n",
       "48402               other               1   54                   5.0   \n",
       "48502            sourcing               1   55                   4.0   \n",
       "48510               other               1   54                   4.0   \n",
       "48543               other               1   59                   3.0   \n",
       "\n",
       "       length_of_service  awards_won?  avg_training_score  is_promoted  \n",
       "28                     6            0                  58            0  \n",
       "37                    26            0                  52            0  \n",
       "43                    12            0                  73            0  \n",
       "82                    17            0                  59            0  \n",
       "203                    9            0                  86            0  \n",
       "...                  ...          ...                 ...          ...  \n",
       "48399                 13            0                  50            0  \n",
       "48402                  5            0                  87            0  \n",
       "48502                 12            0                  70            0  \n",
       "48510                  7            0                  81            1  \n",
       "48543                 11            0                  65            1  \n",
       "\n",
       "[2051 rows x 12 columns]"
      ]
     },
     "execution_count": 33,
     "metadata": {},
     "output_type": "execute_result"
    }
   ],
   "source": [
    "df[df['age'] > 52]"
   ]
  },
  {
   "cell_type": "code",
   "execution_count": 34,
   "id": "dd3e0623",
   "metadata": {
    "colab": {
     "base_uri": "https://localhost:8080/"
    },
    "id": "dd3e0623",
    "outputId": "7383770c-5c69-47ee-dacb-3e991640d2b7"
   },
   "outputs": [
    {
     "data": {
      "text/plain": [
       "array([5., 3., 1., 4., 2.])"
      ]
     },
     "execution_count": 34,
     "metadata": {},
     "output_type": "execute_result"
    }
   ],
   "source": [
    "df['previous_year_rating'].unique()"
   ]
  },
  {
   "cell_type": "code",
   "execution_count": 35,
   "id": "49bda778",
   "metadata": {
    "colab": {
     "base_uri": "https://localhost:8080/",
     "height": 298
    },
    "id": "49bda778",
    "outputId": "eeb1c115-943d-46f9-bda1-b8882ba3ba1a"
   },
   "outputs": [
    {
     "data": {
      "text/plain": [
       "<AxesSubplot:xlabel='previous_year_rating', ylabel='count'>"
      ]
     },
     "execution_count": 35,
     "metadata": {},
     "output_type": "execute_result"
    },
    {
     "data": {
      "image/png": "[encoded data removed]",
      "text/plain": [
       "<Figure size 432x288 with 1 Axes>"
      ]
     },
     "metadata": {
      "needs_background": "light"
     },
     "output_type": "display_data"
    }
   ],
   "source": [
    "sns.countplot(df['previous_year_rating'])"
   ]
  },
  {
   "cell_type": "code",
   "execution_count": 36,
   "id": "fc5eba49",
   "metadata": {
    "colab": {
     "base_uri": "https://localhost:8080/",
     "height": 81
    },
    "id": "fc5eba49",
    "outputId": "cd565539-07c6-4a5e-f3f7-91c08ff9118e"
   },
   "outputs": [
    {
     "data": {
      "text/html": [
       "<div>\n",
       "<style scoped>\n",
       "    .dataframe tbody tr th:only-of-type {\n",
       "        vertical-align: middle;\n",
       "    }\n",
       "\n",
       "    .dataframe tbody tr th {\n",
       "        vertical-align: top;\n",
       "    }\n",
       "\n",
       "    .dataframe thead th {\n",
       "        text-align: right;\n",
       "    }\n",
       "</style>\n",
       "<table border=\"1\" class=\"dataframe\">\n",
       "  <thead>\n",
       "    <tr style=\"text-align: right;\">\n",
       "      <th></th>\n",
       "      <th>count</th>\n",
       "      <th>mean</th>\n",
       "      <th>std</th>\n",
       "      <th>min</th>\n",
       "      <th>25%</th>\n",
       "      <th>50%</th>\n",
       "      <th>75%</th>\n",
       "      <th>max</th>\n",
       "    </tr>\n",
       "  </thead>\n",
       "  <tbody>\n",
       "    <tr>\n",
       "      <th>length_of_service</th>\n",
       "      <td>48557.0</td>\n",
       "      <td>6.313652</td>\n",
       "      <td>4.206657</td>\n",
       "      <td>1.0</td>\n",
       "      <td>3.0</td>\n",
       "      <td>5.0</td>\n",
       "      <td>8.0</td>\n",
       "      <td>37.0</td>\n",
       "    </tr>\n",
       "  </tbody>\n",
       "</table>\n",
       "</div>"
      ],
      "text/plain": [
       "                     count      mean       std  min  25%  50%  75%   max\n",
       "length_of_service  48557.0  6.313652  4.206657  1.0  3.0  5.0  8.0  37.0"
      ]
     },
     "execution_count": 36,
     "metadata": {},
     "output_type": "execute_result"
    }
   ],
   "source": [
    "df['length_of_service'].describe().to_frame().T"
   ]
  },
  {
   "cell_type": "code",
   "execution_count": 37,
   "id": "825718b4",
   "metadata": {
    "colab": {
     "base_uri": "https://localhost:8080/",
     "height": 298
    },
    "id": "825718b4",
    "outputId": "0ebac8ce-8534-4489-ce7a-e05fa81c4655"
   },
   "outputs": [
    {
     "data": {
      "text/plain": [
       "<AxesSubplot:xlabel='length_of_service', ylabel='Density'>"
      ]
     },
     "execution_count": 37,
     "metadata": {},
     "output_type": "execute_result"
    },
    {
     "data": {
      "image/png": "[encoded data removed]",
      "text/plain": [
       "<Figure size 432x288 with 1 Axes>"
      ]
     },
     "metadata": {
      "needs_background": "light"
     },
     "output_type": "display_data"
    }
   ],
   "source": [
    "sns.kdeplot(df['length_of_service'] , shade = True , hue = df['is_promoted'])"
   ]
  },
  {
   "cell_type": "code",
   "execution_count": 38,
   "id": "b12380e3",
   "metadata": {
    "colab": {
     "base_uri": "https://localhost:8080/",
     "height": 298
    },
    "id": "b12380e3",
    "outputId": "85ce6322-559f-471e-b582-19f467d5a274"
   },
   "outputs": [
    {
     "data": {
      "text/plain": [
       "<AxesSubplot:xlabel='length_of_service'>"
      ]
     },
     "execution_count": 38,
     "metadata": {},
     "output_type": "execute_result"
    },
    {
     "data": {
      "image/png": "[encoded data removed]",
      "text/plain": [
       "<Figure size 432x288 with 1 Axes>"
      ]
     },
     "metadata": {
      "needs_background": "light"
     },
     "output_type": "display_data"
    }
   ],
   "source": [
    "sns.boxplot(df['length_of_service'])"
   ]
  },
  {
   "cell_type": "markdown",
   "id": "38098235",
   "metadata": {},
   "source": [
    "## As Age Feature Outlier Points Is True "
   ]
  },
  {
   "cell_type": "code",
   "execution_count": 39,
   "id": "b07b85ef",
   "metadata": {
    "colab": {
     "base_uri": "https://localhost:8080/",
     "height": 162
    },
    "id": "b07b85ef",
    "outputId": "d7f76a9e-da03-4d68-a5ab-c9a463a12a13"
   },
   "outputs": [
    {
     "data": {
      "text/html": [
       "<div>\n",
       "<style scoped>\n",
       "    .dataframe tbody tr th:only-of-type {\n",
       "        vertical-align: middle;\n",
       "    }\n",
       "\n",
       "    .dataframe tbody tr th {\n",
       "        vertical-align: top;\n",
       "    }\n",
       "\n",
       "    .dataframe thead th {\n",
       "        text-align: right;\n",
       "    }\n",
       "</style>\n",
       "<table border=\"1\" class=\"dataframe\">\n",
       "  <thead>\n",
       "    <tr style=\"text-align: right;\">\n",
       "      <th></th>\n",
       "      <th>department</th>\n",
       "      <th>region</th>\n",
       "      <th>education</th>\n",
       "      <th>gender</th>\n",
       "      <th>recruitment_channel</th>\n",
       "      <th>no_of_trainings</th>\n",
       "      <th>age</th>\n",
       "      <th>previous_year_rating</th>\n",
       "      <th>length_of_service</th>\n",
       "      <th>awards_won?</th>\n",
       "      <th>avg_training_score</th>\n",
       "      <th>is_promoted</th>\n",
       "    </tr>\n",
       "  </thead>\n",
       "  <tbody>\n",
       "    <tr>\n",
       "      <th>12</th>\n",
       "      <td>Technology</td>\n",
       "      <td>region_29</td>\n",
       "      <td>Master's &amp; above</td>\n",
       "      <td>m</td>\n",
       "      <td>other</td>\n",
       "      <td>&gt;1</td>\n",
       "      <td>39</td>\n",
       "      <td>3.0</td>\n",
       "      <td>16</td>\n",
       "      <td>0</td>\n",
       "      <td>80</td>\n",
       "      <td>0</td>\n",
       "    </tr>\n",
       "    <tr>\n",
       "      <th>37</th>\n",
       "      <td>HR</td>\n",
       "      <td>region_2</td>\n",
       "      <td>Bachelor's</td>\n",
       "      <td>m</td>\n",
       "      <td>sourcing</td>\n",
       "      <td>1</td>\n",
       "      <td>59</td>\n",
       "      <td>4.0</td>\n",
       "      <td>26</td>\n",
       "      <td>0</td>\n",
       "      <td>52</td>\n",
       "      <td>0</td>\n",
       "    </tr>\n",
       "    <tr>\n",
       "      <th>52</th>\n",
       "      <td>Sales &amp; Marketing</td>\n",
       "      <td>region_4</td>\n",
       "      <td>Master's &amp; above</td>\n",
       "      <td>m</td>\n",
       "      <td>other</td>\n",
       "      <td>1</td>\n",
       "      <td>50</td>\n",
       "      <td>4.0</td>\n",
       "      <td>17</td>\n",
       "      <td>0</td>\n",
       "      <td>47</td>\n",
       "      <td>1</td>\n",
       "    </tr>\n",
       "    <tr>\n",
       "      <th>82</th>\n",
       "      <td>Finance</td>\n",
       "      <td>region_2</td>\n",
       "      <td>Master's &amp; above</td>\n",
       "      <td>m</td>\n",
       "      <td>other</td>\n",
       "      <td>1</td>\n",
       "      <td>60</td>\n",
       "      <td>5.0</td>\n",
       "      <td>17</td>\n",
       "      <td>0</td>\n",
       "      <td>59</td>\n",
       "      <td>0</td>\n",
       "    </tr>\n",
       "    <tr>\n",
       "      <th>92</th>\n",
       "      <td>Analytics</td>\n",
       "      <td>region_22</td>\n",
       "      <td>Master's &amp; above</td>\n",
       "      <td>m</td>\n",
       "      <td>other</td>\n",
       "      <td>1</td>\n",
       "      <td>42</td>\n",
       "      <td>2.0</td>\n",
       "      <td>19</td>\n",
       "      <td>0</td>\n",
       "      <td>79</td>\n",
       "      <td>0</td>\n",
       "    </tr>\n",
       "    <tr>\n",
       "      <th>...</th>\n",
       "      <td>...</td>\n",
       "      <td>...</td>\n",
       "      <td>...</td>\n",
       "      <td>...</td>\n",
       "      <td>...</td>\n",
       "      <td>...</td>\n",
       "      <td>...</td>\n",
       "      <td>...</td>\n",
       "      <td>...</td>\n",
       "      <td>...</td>\n",
       "      <td>...</td>\n",
       "      <td>...</td>\n",
       "    </tr>\n",
       "    <tr>\n",
       "      <th>48390</th>\n",
       "      <td>Sales &amp; Marketing</td>\n",
       "      <td>region_2</td>\n",
       "      <td>Master's &amp; above</td>\n",
       "      <td>f</td>\n",
       "      <td>other</td>\n",
       "      <td>1</td>\n",
       "      <td>57</td>\n",
       "      <td>5.0</td>\n",
       "      <td>24</td>\n",
       "      <td>0</td>\n",
       "      <td>49</td>\n",
       "      <td>0</td>\n",
       "    </tr>\n",
       "    <tr>\n",
       "      <th>48392</th>\n",
       "      <td>Sales &amp; Marketing</td>\n",
       "      <td>region_30</td>\n",
       "      <td>Master's &amp; above</td>\n",
       "      <td>m</td>\n",
       "      <td>sourcing</td>\n",
       "      <td>1</td>\n",
       "      <td>47</td>\n",
       "      <td>2.0</td>\n",
       "      <td>16</td>\n",
       "      <td>0</td>\n",
       "      <td>47</td>\n",
       "      <td>0</td>\n",
       "    </tr>\n",
       "    <tr>\n",
       "      <th>48452</th>\n",
       "      <td>Analytics</td>\n",
       "      <td>region_2</td>\n",
       "      <td>Master's &amp; above</td>\n",
       "      <td>m</td>\n",
       "      <td>sourcing</td>\n",
       "      <td>1</td>\n",
       "      <td>47</td>\n",
       "      <td>5.0</td>\n",
       "      <td>19</td>\n",
       "      <td>0</td>\n",
       "      <td>86</td>\n",
       "      <td>0</td>\n",
       "    </tr>\n",
       "    <tr>\n",
       "      <th>48455</th>\n",
       "      <td>Operations</td>\n",
       "      <td>region_2</td>\n",
       "      <td>Bachelor's</td>\n",
       "      <td>f</td>\n",
       "      <td>other</td>\n",
       "      <td>&gt;1</td>\n",
       "      <td>52</td>\n",
       "      <td>5.0</td>\n",
       "      <td>18</td>\n",
       "      <td>0</td>\n",
       "      <td>56</td>\n",
       "      <td>1</td>\n",
       "    </tr>\n",
       "    <tr>\n",
       "      <th>48553</th>\n",
       "      <td>Technology</td>\n",
       "      <td>region_14</td>\n",
       "      <td>Bachelor's</td>\n",
       "      <td>m</td>\n",
       "      <td>sourcing</td>\n",
       "      <td>1</td>\n",
       "      <td>48</td>\n",
       "      <td>3.0</td>\n",
       "      <td>17</td>\n",
       "      <td>0</td>\n",
       "      <td>78</td>\n",
       "      <td>0</td>\n",
       "    </tr>\n",
       "  </tbody>\n",
       "</table>\n",
       "<p>2297 rows × 12 columns</p>\n",
       "</div>"
      ],
      "text/plain": [
       "              department     region         education gender  \\\n",
       "12            Technology  region_29  Master's & above      m   \n",
       "37                    HR   region_2        Bachelor's      m   \n",
       "52     Sales & Marketing   region_4  Master's & above      m   \n",
       "82               Finance   region_2  Master's & above      m   \n",
       "92             Analytics  region_22  Master's & above      m   \n",
       "...                  ...        ...               ...    ...   \n",
       "48390  Sales & Marketing   region_2  Master's & above      f   \n",
       "48392  Sales & Marketing  region_30  Master's & above      m   \n",
       "48452          Analytics   region_2  Master's & above      m   \n",
       "48455         Operations   region_2        Bachelor's      f   \n",
       "48553         Technology  region_14        Bachelor's      m   \n",
       "\n",
       "      recruitment_channel no_of_trainings  age  previous_year_rating  \\\n",
       "12                  other              >1   39                   3.0   \n",
       "37               sourcing               1   59                   4.0   \n",
       "52                  other               1   50                   4.0   \n",
       "82                  other               1   60                   5.0   \n",
       "92                  other               1   42                   2.0   \n",
       "...                   ...             ...  ...                   ...   \n",
       "48390               other               1   57                   5.0   \n",
       "48392            sourcing               1   47                   2.0   \n",
       "48452            sourcing               1   47                   5.0   \n",
       "48455               other              >1   52                   5.0   \n",
       "48553            sourcing               1   48                   3.0   \n",
       "\n",
       "       length_of_service  awards_won?  avg_training_score  is_promoted  \n",
       "12                    16            0                  80            0  \n",
       "37                    26            0                  52            0  \n",
       "52                    17            0                  47            1  \n",
       "82                    17            0                  59            0  \n",
       "92                    19            0                  79            0  \n",
       "...                  ...          ...                 ...          ...  \n",
       "48390                 24            0                  49            0  \n",
       "48392                 16            0                  47            0  \n",
       "48452                 19            0                  86            0  \n",
       "48455                 18            0                  56            1  \n",
       "48553                 17            0                  78            0  \n",
       "\n",
       "[2297 rows x 12 columns]"
      ]
     },
     "execution_count": 39,
     "metadata": {},
     "output_type": "execute_result"
    }
   ],
   "source": [
    "df[df['length_of_service'] > 15]"
   ]
  },
  {
   "cell_type": "code",
   "execution_count": 40,
   "id": "6d7aeaad",
   "metadata": {
    "colab": {
     "base_uri": "https://localhost:8080/"
    },
    "id": "6d7aeaad",
    "outputId": "9362a82d-ef51-4ebc-8342-6739f344c7d7"
   },
   "outputs": [
    {
     "data": {
      "text/plain": [
       "array([0, 1], dtype=int64)"
      ]
     },
     "execution_count": 40,
     "metadata": {},
     "output_type": "execute_result"
    }
   ],
   "source": [
    "df['awards_won?'].unique()"
   ]
  },
  {
   "cell_type": "code",
   "execution_count": 41,
   "id": "e34fce24",
   "metadata": {
    "colab": {
     "base_uri": "https://localhost:8080/",
     "height": 298
    },
    "id": "e34fce24",
    "outputId": "d85df670-9487-4f68-969a-e937d4bbf502"
   },
   "outputs": [
    {
     "data": {
      "text/plain": [
       "<AxesSubplot:xlabel='awards_won?', ylabel='count'>"
      ]
     },
     "execution_count": 41,
     "metadata": {},
     "output_type": "execute_result"
    },
    {
     "data": {
      "image/png": "[encoded data removed]",
      "text/plain": [
       "<Figure size 432x288 with 1 Axes>"
      ]
     },
     "metadata": {
      "needs_background": "light"
     },
     "output_type": "display_data"
    }
   ],
   "source": [
    "sns.countplot(df['awards_won?'])"
   ]
  },
  {
   "cell_type": "code",
   "execution_count": 42,
   "id": "65d08c9e",
   "metadata": {
    "colab": {
     "base_uri": "https://localhost:8080/",
     "height": 81
    },
    "id": "65d08c9e",
    "outputId": "2b98ede8-ea40-492b-b811-85e1fa2815e2"
   },
   "outputs": [
    {
     "data": {
      "text/html": [
       "<div>\n",
       "<style scoped>\n",
       "    .dataframe tbody tr th:only-of-type {\n",
       "        vertical-align: middle;\n",
       "    }\n",
       "\n",
       "    .dataframe tbody tr th {\n",
       "        vertical-align: top;\n",
       "    }\n",
       "\n",
       "    .dataframe thead th {\n",
       "        text-align: right;\n",
       "    }\n",
       "</style>\n",
       "<table border=\"1\" class=\"dataframe\">\n",
       "  <thead>\n",
       "    <tr style=\"text-align: right;\">\n",
       "      <th></th>\n",
       "      <th>count</th>\n",
       "      <th>mean</th>\n",
       "      <th>std</th>\n",
       "      <th>min</th>\n",
       "      <th>25%</th>\n",
       "      <th>50%</th>\n",
       "      <th>75%</th>\n",
       "      <th>max</th>\n",
       "    </tr>\n",
       "  </thead>\n",
       "  <tbody>\n",
       "    <tr>\n",
       "      <th>avg_training_score</th>\n",
       "      <td>48557.0</td>\n",
       "      <td>63.61157</td>\n",
       "      <td>13.276493</td>\n",
       "      <td>39.0</td>\n",
       "      <td>51.0</td>\n",
       "      <td>60.0</td>\n",
       "      <td>76.0</td>\n",
       "      <td>99.0</td>\n",
       "    </tr>\n",
       "  </tbody>\n",
       "</table>\n",
       "</div>"
      ],
      "text/plain": [
       "                      count      mean        std   min   25%   50%   75%   max\n",
       "avg_training_score  48557.0  63.61157  13.276493  39.0  51.0  60.0  76.0  99.0"
      ]
     },
     "execution_count": 42,
     "metadata": {},
     "output_type": "execute_result"
    }
   ],
   "source": [
    "df['avg_training_score'].describe().to_frame().T"
   ]
  },
  {
   "cell_type": "code",
   "execution_count": 43,
   "id": "40b547eb",
   "metadata": {
    "colab": {
     "base_uri": "https://localhost:8080/",
     "height": 298
    },
    "id": "40b547eb",
    "outputId": "8853001e-744d-4a1e-f397-395cae03faf0"
   },
   "outputs": [
    {
     "data": {
      "text/plain": [
       "<AxesSubplot:xlabel='avg_training_score', ylabel='Density'>"
      ]
     },
     "execution_count": 43,
     "metadata": {},
     "output_type": "execute_result"
    },
    {
     "data": {
      "image/png": "[encoded data removed]",
      "text/plain": [
       "<Figure size 432x288 with 1 Axes>"
      ]
     },
     "metadata": {
      "needs_background": "light"
     },
     "output_type": "display_data"
    }
   ],
   "source": [
    "sns.kdeplot(df['avg_training_score'] , shade = True , hue = df['is_promoted'])"
   ]
  },
  {
   "cell_type": "code",
   "execution_count": 44,
   "id": "6a7ad804",
   "metadata": {
    "colab": {
     "base_uri": "https://localhost:8080/",
     "height": 298
    },
    "id": "6a7ad804",
    "outputId": "06017190-6227-4243-e876-3ccdad4b78ec"
   },
   "outputs": [
    {
     "data": {
      "text/plain": [
       "<AxesSubplot:xlabel='avg_training_score'>"
      ]
     },
     "execution_count": 44,
     "metadata": {},
     "output_type": "execute_result"
    },
    {
     "data": {
      "image/png": "[encoded data removed]",
      "text/plain": [
       "<Figure size 432x288 with 1 Axes>"
      ]
     },
     "metadata": {
      "needs_background": "light"
     },
     "output_type": "display_data"
    }
   ],
   "source": [
    "sns.boxplot(df['avg_training_score'])"
   ]
  },
  {
   "cell_type": "code",
   "execution_count": 45,
   "id": "0b1a392f",
   "metadata": {
    "colab": {
     "base_uri": "https://localhost:8080/"
    },
    "id": "0b1a392f",
    "outputId": "5948571c-72db-4704-d734-2c9648e5952a"
   },
   "outputs": [
    {
     "data": {
      "text/plain": [
       "array([0, 1], dtype=int64)"
      ]
     },
     "execution_count": 45,
     "metadata": {},
     "output_type": "execute_result"
    }
   ],
   "source": [
    "df['is_promoted'].unique()"
   ]
  },
  {
   "cell_type": "code",
   "execution_count": 46,
   "id": "0f7dafa6",
   "metadata": {
    "colab": {
     "base_uri": "https://localhost:8080/"
    },
    "id": "0f7dafa6",
    "outputId": "c134066a-c3bf-4c6f-85ef-0373d650e9d4"
   },
   "outputs": [
    {
     "data": {
      "text/plain": [
       "0    44326\n",
       "1     4231\n",
       "Name: is_promoted, dtype: int64"
      ]
     },
     "execution_count": 46,
     "metadata": {},
     "output_type": "execute_result"
    }
   ],
   "source": [
    "df['is_promoted'].value_counts()"
   ]
  },
  {
   "cell_type": "markdown",
   "id": "2432d799",
   "metadata": {},
   "source": [
    "## Imbalanced Class :("
   ]
  },
  {
   "cell_type": "code",
   "execution_count": 47,
   "id": "77fcd454",
   "metadata": {
    "colab": {
     "base_uri": "https://localhost:8080/",
     "height": 298
    },
    "id": "77fcd454",
    "outputId": "41ce3a05-5532-4ebd-b1fb-81d2f50b2abe",
    "scrolled": true
   },
   "outputs": [
    {
     "data": {
      "text/plain": [
       "<AxesSubplot:xlabel='is_promoted', ylabel='count'>"
      ]
     },
     "execution_count": 47,
     "metadata": {},
     "output_type": "execute_result"
    },
    {
     "data": {
      "image/png": "[encoded data removed]",
      "text/plain": [
       "<Figure size 432x288 with 1 Axes>"
      ]
     },
     "metadata": {
      "needs_background": "light"
     },
     "output_type": "display_data"
    }
   ],
   "source": [
    "sns.countplot(df['is_promoted'])"
   ]
  },
  {
   "cell_type": "markdown",
   "id": "c8ba97a6",
   "metadata": {},
   "source": [
    "## Correlation Between Features "
   ]
  },
  {
   "cell_type": "code",
   "execution_count": 48,
   "id": "sGx7J4BrIxhJ",
   "metadata": {
    "colab": {
     "base_uri": "https://localhost:8080/",
     "height": 369
    },
    "id": "sGx7J4BrIxhJ",
    "outputId": "1a64f6e0-290d-48e4-9836-7254b30d1cc4"
   },
   "outputs": [
    {
     "data": {
      "text/plain": [
       "<AxesSubplot:>"
      ]
     },
     "execution_count": 48,
     "metadata": {},
     "output_type": "execute_result"
    },
    {
     "data": {
      "image/png": "[encoded data removed]",
      "text/plain": [
       "<Figure size 432x288 with 2 Axes>"
      ]
     },
     "metadata": {
      "needs_background": "light"
     },
     "output_type": "display_data"
    }
   ],
   "source": [
    "sns.heatmap(df.select_dtypes('number').corr()  , annot = True , cmap = 'Paired')"
   ]
  },
  {
   "cell_type": "markdown",
   "id": "042f21cd",
   "metadata": {},
   "source": [
    "## Map Education Into Labels "
   ]
  },
  {
   "cell_type": "code",
   "execution_count": 49,
   "id": "572e4712",
   "metadata": {
    "id": "572e4712"
   },
   "outputs": [],
   "source": [
    "mapper = {'Below Secondary' : 1 , \"Bachelor's\" : 2 , \"Master's & above\" : 3}\n",
    "df['education'] = df['education'].map(mapper)"
   ]
  },
  {
   "cell_type": "markdown",
   "id": "bc03e81d",
   "metadata": {},
   "source": [
    "## Use OneHot & Binary Encoder To Encode Our Categorical Feature  "
   ]
  },
  {
   "cell_type": "code",
   "execution_count": 50,
   "id": "47487382",
   "metadata": {
    "id": "47487382"
   },
   "outputs": [],
   "source": [
    "col_to_Bencdr = ['department' , 'region']\n",
    "col_to_OHEencdr = ['gender' , 'recruitment_channel' , 'no_of_trainings']"
   ]
  },
  {
   "cell_type": "code",
   "execution_count": 51,
   "id": "geVtZl1QjvxY",
   "metadata": {
    "id": "geVtZl1QjvxY"
   },
   "outputs": [],
   "source": [
    "OHE = OneHotEncoder(sparse = False , drop = 'first')\n",
    "Bin = BinaryEncoder()"
   ]
  },
  {
   "cell_type": "code",
   "execution_count": 52,
   "id": "89mCO8mijTn8",
   "metadata": {
    "id": "89mCO8mijTn8"
   },
   "outputs": [],
   "source": [
    "df = pd.concat([df , pd.DataFrame(data = OHE.fit_transform(df[col_to_OHEencdr]),\n",
    "                                  columns=OHE.get_feature_names_out() )] , axis = 1 )"
   ]
  },
  {
   "cell_type": "code",
   "execution_count": 53,
   "id": "1s1lQTz-kbbe",
   "metadata": {
    "id": "1s1lQTz-kbbe"
   },
   "outputs": [],
   "source": [
    "df = pd.concat([df , Bin.fit_transform(df[col_to_Bencdr])] , axis = 1 )"
   ]
  },
  {
   "cell_type": "code",
   "execution_count": 54,
   "id": "pVxoJsM8kk-C",
   "metadata": {
    "id": "pVxoJsM8kk-C"
   },
   "outputs": [],
   "source": [
    "df.drop(col_to_Bencdr + col_to_OHEencdr , axis = 1 , inplace = True)"
   ]
  },
  {
   "cell_type": "markdown",
   "id": "6422c871",
   "metadata": {},
   "source": [
    "## We Can Use Column Transformer In PipeLine Too"
   ]
  },
  {
   "cell_type": "code",
   "execution_count": 55,
   "id": "5c4d0ad1",
   "metadata": {
    "colab": {
     "base_uri": "https://localhost:8080/"
    },
    "id": "5c4d0ad1",
    "outputId": "3411ae79-cc48-4e54-c6ce-7a455e25f683"
   },
   "outputs": [
    {
     "data": {
      "text/html": [
       "<style>#sk-container-id-1 {color: black;background-color: white;}#sk-container-id-1 pre{padding: 0;}#sk-container-id-1 div.sk-toggleable {background-color: white;}#sk-container-id-1 label.sk-toggleable__label {cursor: pointer;display: block;width: 100%;margin-bottom: 0;padding: 0.3em;box-sizing: border-box;text-align: center;}#sk-container-id-1 label.sk-toggleable__label-arrow:before {content: \"▸\";float: left;margin-right: 0.25em;color: #696969;}#sk-container-id-1 label.sk-toggleable__label-arrow:hover:before {color: black;}#sk-container-id-1 div.sk-estimator:hover label.sk-toggleable__label-arrow:before {color: black;}#sk-container-id-1 div.sk-toggleable__content {max-height: 0;max-width: 0;overflow: hidden;text-align: left;background-color: #f0f8ff;}#sk-container-id-1 div.sk-toggleable__content pre {margin: 0.2em;color: black;border-radius: 0.25em;background-color: #f0f8ff;}#sk-container-id-1 input.sk-toggleable__control:checked~div.sk-toggleable__content {max-height: 200px;max-width: 100%;overflow: auto;}#sk-container-id-1 input.sk-toggleable__control:checked~label.sk-toggleable__label-arrow:before {content: \"▾\";}#sk-container-id-1 div.sk-estimator input.sk-toggleable__control:checked~label.sk-toggleable__label {background-color: #d4ebff;}#sk-container-id-1 div.sk-label input.sk-toggleable__control:checked~label.sk-toggleable__label {background-color: #d4ebff;}#sk-container-id-1 input.sk-hidden--visually {border: 0;clip: rect(1px 1px 1px 1px);clip: rect(1px, 1px, 1px, 1px);height: 1px;margin: -1px;overflow: hidden;padding: 0;position: absolute;width: 1px;}#sk-container-id-1 div.sk-estimator {font-family: monospace;background-color: #f0f8ff;border: 1px dotted black;border-radius: 0.25em;box-sizing: border-box;margin-bottom: 0.5em;}#sk-container-id-1 div.sk-estimator:hover {background-color: #d4ebff;}#sk-container-id-1 div.sk-parallel-item::after {content: \"\";width: 100%;border-bottom: 1px solid gray;flex-grow: 1;}#sk-container-id-1 div.sk-label:hover label.sk-toggleable__label {background-color: #d4ebff;}#sk-container-id-1 div.sk-serial::before {content: \"\";position: absolute;border-left: 1px solid gray;box-sizing: border-box;top: 0;bottom: 0;left: 50%;z-index: 0;}#sk-container-id-1 div.sk-serial {display: flex;flex-direction: column;align-items: center;background-color: white;padding-right: 0.2em;padding-left: 0.2em;position: relative;}#sk-container-id-1 div.sk-item {position: relative;z-index: 1;}#sk-container-id-1 div.sk-parallel {display: flex;align-items: stretch;justify-content: center;background-color: white;position: relative;}#sk-container-id-1 div.sk-item::before, #sk-container-id-1 div.sk-parallel-item::before {content: \"\";position: absolute;border-left: 1px solid gray;box-sizing: border-box;top: 0;bottom: 0;left: 50%;z-index: -1;}#sk-container-id-1 div.sk-parallel-item {display: flex;flex-direction: column;z-index: 1;position: relative;background-color: white;}#sk-container-id-1 div.sk-parallel-item:first-child::after {align-self: flex-end;width: 50%;}#sk-container-id-1 div.sk-parallel-item:last-child::after {align-self: flex-start;width: 50%;}#sk-container-id-1 div.sk-parallel-item:only-child::after {width: 0;}#sk-container-id-1 div.sk-dashed-wrapped {border: 1px dashed gray;margin: 0 0.4em 0.5em 0.4em;box-sizing: border-box;padding-bottom: 0.4em;background-color: white;}#sk-container-id-1 div.sk-label label {font-family: monospace;font-weight: bold;display: inline-block;line-height: 1.2em;}#sk-container-id-1 div.sk-label-container {text-align: center;}#sk-container-id-1 div.sk-container {/* jupyter's `normalize.less` sets `[hidden] { display: none; }` but bootstrap.min.css set `[hidden] { display: none !important; }` so we also need the `!important` here to be able to override the default hidden behavior on the sphinx rendered scikit-learn.org. See: https://github.com/scikit-learn/scikit-learn/issues/21755 */display: inline-block !important;position: relative;}#sk-container-id-1 div.sk-text-repr-fallback {display: none;}</style><div id=\"sk-container-id-1\" class=\"sk-top-container\"><div class=\"sk-text-repr-fallback\"><pre>ColumnTransformer(remainder=&#x27;passthrough&#x27;,\n",
       "                  transformers=[(&#x27;Bin_encoder&#x27;, BinaryEncoder(),\n",
       "                                 [&#x27;department&#x27;, &#x27;region&#x27;]),\n",
       "                                (&#x27;OHE_encoder&#x27;,\n",
       "                                 OneHotEncoder(drop=&#x27;first&#x27;, sparse=False),\n",
       "                                 [&#x27;gender&#x27;, &#x27;recruitment_channel&#x27;,\n",
       "                                  &#x27;no_of_trainings&#x27;])])</pre><b>In a Jupyter environment, please rerun this cell to show the HTML representation or trust the notebook. <br />On GitHub, the HTML representation is unable to render, please try loading this page with nbviewer.org.</b></div><div class=\"sk-container\" hidden><div class=\"sk-item sk-dashed-wrapped\"><div class=\"sk-label-container\"><div class=\"sk-label sk-toggleable\"><input class=\"sk-toggleable__control sk-hidden--visually\" id=\"sk-estimator-id-1\" type=\"checkbox\" ><label for=\"sk-estimator-id-1\" class=\"sk-toggleable__label sk-toggleable__label-arrow\">ColumnTransformer</label><div class=\"sk-toggleable__content\"><pre>ColumnTransformer(remainder=&#x27;passthrough&#x27;,\n",
       "                  transformers=[(&#x27;Bin_encoder&#x27;, BinaryEncoder(),\n",
       "                                 [&#x27;department&#x27;, &#x27;region&#x27;]),\n",
       "                                (&#x27;OHE_encoder&#x27;,\n",
       "                                 OneHotEncoder(drop=&#x27;first&#x27;, sparse=False),\n",
       "                                 [&#x27;gender&#x27;, &#x27;recruitment_channel&#x27;,\n",
       "                                  &#x27;no_of_trainings&#x27;])])</pre></div></div></div><div class=\"sk-parallel\"><div class=\"sk-parallel-item\"><div class=\"sk-item\"><div class=\"sk-label-container\"><div class=\"sk-label sk-toggleable\"><input class=\"sk-toggleable__control sk-hidden--visually\" id=\"sk-estimator-id-2\" type=\"checkbox\" ><label for=\"sk-estimator-id-2\" class=\"sk-toggleable__label sk-toggleable__label-arrow\">Bin_encoder</label><div class=\"sk-toggleable__content\"><pre>[&#x27;department&#x27;, &#x27;region&#x27;]</pre></div></div></div><div class=\"sk-serial\"><div class=\"sk-item\"><div class=\"sk-estimator sk-toggleable\"><input class=\"sk-toggleable__control sk-hidden--visually\" id=\"sk-estimator-id-3\" type=\"checkbox\" ><label for=\"sk-estimator-id-3\" class=\"sk-toggleable__label sk-toggleable__label-arrow\">BinaryEncoder</label><div class=\"sk-toggleable__content\"><pre>BinaryEncoder()</pre></div></div></div></div></div></div><div class=\"sk-parallel-item\"><div class=\"sk-item\"><div class=\"sk-label-container\"><div class=\"sk-label sk-toggleable\"><input class=\"sk-toggleable__control sk-hidden--visually\" id=\"sk-estimator-id-4\" type=\"checkbox\" ><label for=\"sk-estimator-id-4\" class=\"sk-toggleable__label sk-toggleable__label-arrow\">OHE_encoder</label><div class=\"sk-toggleable__content\"><pre>[&#x27;gender&#x27;, &#x27;recruitment_channel&#x27;, &#x27;no_of_trainings&#x27;]</pre></div></div></div><div class=\"sk-serial\"><div class=\"sk-item\"><div class=\"sk-estimator sk-toggleable\"><input class=\"sk-toggleable__control sk-hidden--visually\" id=\"sk-estimator-id-5\" type=\"checkbox\" ><label for=\"sk-estimator-id-5\" class=\"sk-toggleable__label sk-toggleable__label-arrow\">OneHotEncoder</label><div class=\"sk-toggleable__content\"><pre>OneHotEncoder(drop=&#x27;first&#x27;, sparse=False)</pre></div></div></div></div></div></div><div class=\"sk-parallel-item\"><div class=\"sk-item\"><div class=\"sk-label-container\"><div class=\"sk-label sk-toggleable\"><input class=\"sk-toggleable__control sk-hidden--visually\" id=\"sk-estimator-id-6\" type=\"checkbox\" ><label for=\"sk-estimator-id-6\" class=\"sk-toggleable__label sk-toggleable__label-arrow\">remainder</label><div class=\"sk-toggleable__content\"><pre></pre></div></div></div><div class=\"sk-serial\"><div class=\"sk-item\"><div class=\"sk-estimator sk-toggleable\"><input class=\"sk-toggleable__control sk-hidden--visually\" id=\"sk-estimator-id-7\" type=\"checkbox\" ><label for=\"sk-estimator-id-7\" class=\"sk-toggleable__label sk-toggleable__label-arrow\">passthrough</label><div class=\"sk-toggleable__content\"><pre>passthrough</pre></div></div></div></div></div></div></div></div></div></div>"
      ],
      "text/plain": [
       "ColumnTransformer(remainder='passthrough',\n",
       "                  transformers=[('Bin_encoder', BinaryEncoder(),\n",
       "                                 ['department', 'region']),\n",
       "                                ('OHE_encoder',\n",
       "                                 OneHotEncoder(drop='first', sparse=False),\n",
       "                                 ['gender', 'recruitment_channel',\n",
       "                                  'no_of_trainings'])])"
      ]
     },
     "execution_count": 55,
     "metadata": {},
     "output_type": "execute_result"
    }
   ],
   "source": [
    "encoder = ColumnTransformer(transformers = [('Bin_encoder' ,BinaryEncoder(),col_to_Bencdr )\n",
    "                                            , ('OHE_encoder' ,\n",
    "                                               OneHotEncoder(sparse = False , drop = 'first'),\n",
    "                                               col_to_OHEencdr)] , remainder = 'passthrough')\n",
    "encoder"
   ]
  },
  {
   "cell_type": "code",
   "execution_count": 56,
   "id": "f810021a",
   "metadata": {
    "id": "f810021a"
   },
   "outputs": [],
   "source": [
    "x = df.drop(['is_promoted'] , axis = 1)\n",
    "y = df['is_promoted']"
   ]
  },
  {
   "cell_type": "markdown",
   "id": "3ebed0ff",
   "metadata": {},
   "source": [
    "## Use SmoteTomek To Balance Our Class "
   ]
  },
  {
   "cell_type": "code",
   "execution_count": 57,
   "id": "VHTft4HtkzmE",
   "metadata": {
    "id": "VHTft4HtkzmE"
   },
   "outputs": [],
   "source": [
    "smt = SMOTETomek(tomek = TomekLinks(sampling_strategy = 'auto'))"
   ]
  },
  {
   "cell_type": "code",
   "execution_count": 58,
   "id": "ke33YyRkk7I4",
   "metadata": {
    "id": "ke33YyRkk7I4"
   },
   "outputs": [],
   "source": [
    "x , y = smt.fit_resample(x , y)"
   ]
  },
  {
   "cell_type": "markdown",
   "id": "67a6015c",
   "metadata": {},
   "source": [
    "## List Of Models To Compare & Choose Best One "
   ]
  },
  {
   "cell_type": "code",
   "execution_count": 59,
   "id": "15d71720",
   "metadata": {
    "id": "15d71720"
   },
   "outputs": [],
   "source": [
    "models = []\n",
    "models.append(('DT' , DecisionTreeClassifier(max_depth = 18)))\n",
    "models.append(('BaggingDT' , BaggingClassifier(base_estimator = DecisionTreeClassifier(max_depth = 16) , n_estimators = 10)))\n",
    "models.append(('RF' , RandomForestClassifier()))\n",
    "models.append(('ADBoosting' , AdaBoostClassifier()))\n",
    "models.append(('GradiantBoosting' , GradientBoostingClassifier()))\n",
    "models.append(('XGB' , XGBClassifier()))\n",
    "models.append(('Voter' , VotingClassifier(estimators = [models[0] , models[1] , models[2] , models[3] , models[4]] , voting = 'hard')))\n",
    "models.append(('SVC' , SVC(kernel = 'poly' , degree = 4)))\n",
    "models.append(('LR' , LogisticRegression()))\n",
    "models.append(('NB' , MultinomialNB()))\n",
    "models.append(('KNN' , KNeighborsClassifier(n_neighbors = 31)))"
   ]
  },
  {
   "cell_type": "code",
   "execution_count": 60,
   "id": "94b49194",
   "metadata": {
    "id": "94b49194"
   },
   "outputs": [],
   "source": [
    "scoring = ['accuracy','f1','recall','precision']"
   ]
  },
  {
   "cell_type": "markdown",
   "id": "6b4f02fe",
   "metadata": {},
   "source": [
    "### Run Models Using PipeLine & Use Cross Validation To See Which Model Is The Best Generally On Data "
   ]
  },
  {
   "cell_type": "code",
   "execution_count": 304,
   "id": "011af510",
   "metadata": {
    "colab": {
     "base_uri": "https://localhost:8080/"
    },
    "id": "011af510",
    "outputId": "77ab7caf-0c63-4002-fb7d-64deb4f5f77d",
    "scrolled": false
   },
   "outputs": [
    {
     "name": "stdout",
     "output_type": "stream",
     "text": [
      "****************************************\n",
      "DT\n",
      "Train Acc :  0.9627319378157017\n",
      "Test Acc  :  0.9113065057769081\n",
      "Train F1_Score :  0.9623072946698938\n",
      "Test F1_Score  :  0.9071946874206285\n",
      "****************************************\n",
      "BaggingDT\n",
      "Train Acc :  0.9616626364557975\n",
      "Test Acc  :  0.9346453503708414\n",
      "Train F1_Score :  0.9607295772610038\n",
      "Test F1_Score  :  0.9280075468080291\n",
      "****************************************\n",
      "RF\n",
      "Train Acc :  0.9997206799438316\n",
      "Test Acc  :  0.9543388935604147\n",
      "Train F1_Score :  0.9997205488135785\n",
      "Test F1_Score  :  0.9481103460514255\n",
      "****************************************\n",
      "ADBoosting\n",
      "Train Acc :  0.8907520230684851\n",
      "Test Acc  :  0.8841307963308267\n",
      "Train F1_Score :  0.8877640835612712\n",
      "Test F1_Score  :  0.8728637035319606\n",
      "****************************************\n",
      "GradiantBoosting\n",
      "Train Acc :  0.9203796880979832\n",
      "Test Acc  :  0.9146247003859831\n",
      "Train F1_Score :  0.9163948826788749\n",
      "Test F1_Score  :  0.9031489096965224\n",
      "****************************************\n",
      "XGB\n",
      "Train Acc :  0.9193216623547942\n",
      "Test Acc  :  0.9147262276632141\n",
      "Train F1_Score :  0.9152595232990388\n",
      "Test F1_Score  :  0.9039866279289382\n",
      "****************************************\n",
      "Voter\n",
      "Train Acc :  0.965508219738273\n",
      "Test Acc  :  0.9391032794799473\n",
      "Train F1_Score :  0.964674114691306\n",
      "Test F1_Score  :  0.931168274054933\n",
      "****************************************\n",
      "SVC\n",
      "Train Acc :  0.8891748259710509\n",
      "Test Acc  :  0.8744813980578133\n",
      "Train F1_Score :  0.8879446717197942\n",
      "Test F1_Score  :  0.8695738193139043\n",
      "****************************************\n",
      "LR\n",
      "Train Acc :  0.8842853211580236\n",
      "Test Acc  :  0.8736687474268955\n",
      "Train F1_Score :  0.8818458948872049\n",
      "Test F1_Score  :  0.8676278650810343\n",
      "****************************************\n",
      "NB\n",
      "Train Acc :  0.7137730378549564\n",
      "Test Acc  :  0.7128591692850743\n",
      "Train F1_Score :  0.729896168217816\n",
      "Test F1_Score  :  0.7278636833793299\n",
      "****************************************\n",
      "KNN\n",
      "Train Acc :  0.8460128020618758\n",
      "Test Acc  :  0.8302302365240266\n",
      "Train F1_Score :  0.844647797917592\n",
      "Test F1_Score  :  0.8267102161913312\n"
     ]
    }
   ],
   "source": [
    "for model in models :\n",
    "    steps = []\n",
    "    if model[0] == 'NB':\n",
    "        steps.append(('scalr' , MinMaxScaler()))\n",
    "    else :\n",
    "        steps.append(('scalr' , StandardScaler()))\n",
    "    if model[0] == 'LR':\n",
    "        steps.append(('poly' , PolynomialFeatures(degree = 3)))\n",
    "    steps.append(model)\n",
    "    PL = Pipeline(steps = steps)\n",
    "    scores = cross_validate(estimator = PL , X = x , y = y , cv = 5 , return_train_score = True , scoring = scoring)\n",
    "    print('*'*40)\n",
    "    print(model[0])\n",
    "    print('Train Acc : ' , scores['train_accuracy'].mean())\n",
    "    print('Test Acc  : ', scores['test_accuracy'].mean())\n",
    "    print('Train F1_Score : ' , scores['train_f1'].mean())\n",
    "    print('Test F1_Score  : ', scores['test_f1'].mean())"
   ]
  },
  {
   "cell_type": "markdown",
   "id": "cac02f7a",
   "metadata": {},
   "source": [
    "## RandomForestClassifier Is The Best One Now Time For Split Data Into Train & Test"
   ]
  },
  {
   "cell_type": "code",
   "execution_count": 263,
   "id": "22ee440a",
   "metadata": {
    "id": "22ee440a"
   },
   "outputs": [],
   "source": [
    "x_train , x_test , y_train , y_test = train_test_split(x , y , test_size = 0.20 , random_state = 10 , stratify = y)"
   ]
  },
  {
   "cell_type": "code",
   "execution_count": 264,
   "id": "ovX5tloymEmW",
   "metadata": {
    "id": "ovX5tloymEmW"
   },
   "outputs": [],
   "source": [
    "steps = []\n",
    "steps.append(('RF' , RandomForestClassifier(n_estimators = 120)))"
   ]
  },
  {
   "cell_type": "code",
   "execution_count": 265,
   "id": "iGWH4F14Pt5U",
   "metadata": {
    "id": "iGWH4F14Pt5U"
   },
   "outputs": [],
   "source": [
    "PL = Pipeline(steps = steps)"
   ]
  },
  {
   "cell_type": "code",
   "execution_count": 266,
   "id": "ncDVjCNuPwwc",
   "metadata": {
    "colab": {
     "base_uri": "https://localhost:8080/"
    },
    "id": "ncDVjCNuPwwc",
    "outputId": "be3d4567-6339-4501-b652-d57db7e622c9"
   },
   "outputs": [
    {
     "data": {
      "text/html": [
       "<style>#sk-container-id-20 {color: black;background-color: white;}#sk-container-id-20 pre{padding: 0;}#sk-container-id-20 div.sk-toggleable {background-color: white;}#sk-container-id-20 label.sk-toggleable__label {cursor: pointer;display: block;width: 100%;margin-bottom: 0;padding: 0.3em;box-sizing: border-box;text-align: center;}#sk-container-id-20 label.sk-toggleable__label-arrow:before {content: \"▸\";float: left;margin-right: 0.25em;color: #696969;}#sk-container-id-20 label.sk-toggleable__label-arrow:hover:before {color: black;}#sk-container-id-20 div.sk-estimator:hover label.sk-toggleable__label-arrow:before {color: black;}#sk-container-id-20 div.sk-toggleable__content {max-height: 0;max-width: 0;overflow: hidden;text-align: left;background-color: #f0f8ff;}#sk-container-id-20 div.sk-toggleable__content pre {margin: 0.2em;color: black;border-radius: 0.25em;background-color: #f0f8ff;}#sk-container-id-20 input.sk-toggleable__control:checked~div.sk-toggleable__content {max-height: 200px;max-width: 100%;overflow: auto;}#sk-container-id-20 input.sk-toggleable__control:checked~label.sk-toggleable__label-arrow:before {content: \"▾\";}#sk-container-id-20 div.sk-estimator input.sk-toggleable__control:checked~label.sk-toggleable__label {background-color: #d4ebff;}#sk-container-id-20 div.sk-label input.sk-toggleable__control:checked~label.sk-toggleable__label {background-color: #d4ebff;}#sk-container-id-20 input.sk-hidden--visually {border: 0;clip: rect(1px 1px 1px 1px);clip: rect(1px, 1px, 1px, 1px);height: 1px;margin: -1px;overflow: hidden;padding: 0;position: absolute;width: 1px;}#sk-container-id-20 div.sk-estimator {font-family: monospace;background-color: #f0f8ff;border: 1px dotted black;border-radius: 0.25em;box-sizing: border-box;margin-bottom: 0.5em;}#sk-container-id-20 div.sk-estimator:hover {background-color: #d4ebff;}#sk-container-id-20 div.sk-parallel-item::after {content: \"\";width: 100%;border-bottom: 1px solid gray;flex-grow: 1;}#sk-container-id-20 div.sk-label:hover label.sk-toggleable__label {background-color: #d4ebff;}#sk-container-id-20 div.sk-serial::before {content: \"\";position: absolute;border-left: 1px solid gray;box-sizing: border-box;top: 0;bottom: 0;left: 50%;z-index: 0;}#sk-container-id-20 div.sk-serial {display: flex;flex-direction: column;align-items: center;background-color: white;padding-right: 0.2em;padding-left: 0.2em;position: relative;}#sk-container-id-20 div.sk-item {position: relative;z-index: 1;}#sk-container-id-20 div.sk-parallel {display: flex;align-items: stretch;justify-content: center;background-color: white;position: relative;}#sk-container-id-20 div.sk-item::before, #sk-container-id-20 div.sk-parallel-item::before {content: \"\";position: absolute;border-left: 1px solid gray;box-sizing: border-box;top: 0;bottom: 0;left: 50%;z-index: -1;}#sk-container-id-20 div.sk-parallel-item {display: flex;flex-direction: column;z-index: 1;position: relative;background-color: white;}#sk-container-id-20 div.sk-parallel-item:first-child::after {align-self: flex-end;width: 50%;}#sk-container-id-20 div.sk-parallel-item:last-child::after {align-self: flex-start;width: 50%;}#sk-container-id-20 div.sk-parallel-item:only-child::after {width: 0;}#sk-container-id-20 div.sk-dashed-wrapped {border: 1px dashed gray;margin: 0 0.4em 0.5em 0.4em;box-sizing: border-box;padding-bottom: 0.4em;background-color: white;}#sk-container-id-20 div.sk-label label {font-family: monospace;font-weight: bold;display: inline-block;line-height: 1.2em;}#sk-container-id-20 div.sk-label-container {text-align: center;}#sk-container-id-20 div.sk-container {/* jupyter's `normalize.less` sets `[hidden] { display: none; }` but bootstrap.min.css set `[hidden] { display: none !important; }` so we also need the `!important` here to be able to override the default hidden behavior on the sphinx rendered scikit-learn.org. See: https://github.com/scikit-learn/scikit-learn/issues/21755 */display: inline-block !important;position: relative;}#sk-container-id-20 div.sk-text-repr-fallback {display: none;}</style><div id=\"sk-container-id-20\" class=\"sk-top-container\"><div class=\"sk-text-repr-fallback\"><pre>Pipeline(steps=[(&#x27;RF&#x27;, RandomForestClassifier(n_estimators=120))])</pre><b>In a Jupyter environment, please rerun this cell to show the HTML representation or trust the notebook. <br />On GitHub, the HTML representation is unable to render, please try loading this page with nbviewer.org.</b></div><div class=\"sk-container\" hidden><div class=\"sk-item sk-dashed-wrapped\"><div class=\"sk-label-container\"><div class=\"sk-label sk-toggleable\"><input class=\"sk-toggleable__control sk-hidden--visually\" id=\"sk-estimator-id-44\" type=\"checkbox\" ><label for=\"sk-estimator-id-44\" class=\"sk-toggleable__label sk-toggleable__label-arrow\">Pipeline</label><div class=\"sk-toggleable__content\"><pre>Pipeline(steps=[(&#x27;RF&#x27;, RandomForestClassifier(n_estimators=120))])</pre></div></div></div><div class=\"sk-serial\"><div class=\"sk-item\"><div class=\"sk-estimator sk-toggleable\"><input class=\"sk-toggleable__control sk-hidden--visually\" id=\"sk-estimator-id-45\" type=\"checkbox\" ><label for=\"sk-estimator-id-45\" class=\"sk-toggleable__label sk-toggleable__label-arrow\">RandomForestClassifier</label><div class=\"sk-toggleable__content\"><pre>RandomForestClassifier(n_estimators=120)</pre></div></div></div></div></div></div></div>"
      ],
      "text/plain": [
       "Pipeline(steps=[('RF', RandomForestClassifier(n_estimators=120))])"
      ]
     },
     "execution_count": 266,
     "metadata": {},
     "output_type": "execute_result"
    }
   ],
   "source": [
    "PL.fit(x_train , y_train)"
   ]
  },
  {
   "cell_type": "code",
   "execution_count": 267,
   "id": "eJdOxzPuPxO8",
   "metadata": {
    "id": "eJdOxzPuPxO8"
   },
   "outputs": [],
   "source": [
    "y_train_prd = PL.predict(x_train)"
   ]
  },
  {
   "cell_type": "markdown",
   "id": "3f4d8497",
   "metadata": {},
   "source": [
    "## Train ACC"
   ]
  },
  {
   "cell_type": "code",
   "execution_count": 268,
   "id": "zwYuMBUvP5vH",
   "metadata": {
    "colab": {
     "base_uri": "https://localhost:8080/"
    },
    "id": "zwYuMBUvP5vH",
    "outputId": "f7f4e405-9314-44e6-fb02-a6049633e2c1"
   },
   "outputs": [
    {
     "data": {
      "text/plain": [
       "0.999689625010581"
      ]
     },
     "execution_count": 268,
     "metadata": {},
     "output_type": "execute_result"
    }
   ],
   "source": [
    "accuracy_score(y_true = y_train , y_pred = y_train_prd)"
   ]
  },
  {
   "cell_type": "code",
   "execution_count": 269,
   "id": "nTQMOkfvQANy",
   "metadata": {
    "colab": {
     "base_uri": "https://localhost:8080/",
     "height": 297
    },
    "id": "nTQMOkfvQANy",
    "outputId": "5195df8f-f952-4a3b-f9f6-965254e233e5"
   },
   "outputs": [
    {
     "data": {
      "text/plain": [
       "<sklearn.metrics._plot.confusion_matrix.ConfusionMatrixDisplay at 0x1b7ff51f0a0>"
      ]
     },
     "execution_count": 269,
     "metadata": {},
     "output_type": "execute_result"
    },
    {
     "data": {
      "image/png": "[encoded data removed]",
      "text/plain": [
       "<Figure size 432x288 with 2 Axes>"
      ]
     },
     "metadata": {},
     "output_type": "display_data"
    }
   ],
   "source": [
    "sns.set_style('white')\n",
    "plot_confusion_matrix(PL , x_train , y_train)"
   ]
  },
  {
   "cell_type": "markdown",
   "id": "2dd51d92",
   "metadata": {},
   "source": [
    "## F1 Score To See Performence Of Model On 2 Classes (very Good)"
   ]
  },
  {
   "cell_type": "code",
   "execution_count": 270,
   "id": "CClhwKqMQDY8",
   "metadata": {
    "colab": {
     "base_uri": "https://localhost:8080/"
    },
    "id": "CClhwKqMQDY8",
    "outputId": "2ea1bf6d-d0c7-4749-b9c8-a1d1d51e4855",
    "scrolled": true
   },
   "outputs": [
    {
     "data": {
      "text/plain": [
       "0.999689458528598"
      ]
     },
     "execution_count": 270,
     "metadata": {},
     "output_type": "execute_result"
    }
   ],
   "source": [
    "f1_score(y_true = y_train , y_pred = y_train_prd)"
   ]
  },
  {
   "cell_type": "code",
   "execution_count": 271,
   "id": "dkTcFrXUQOf9",
   "metadata": {
    "id": "dkTcFrXUQOf9"
   },
   "outputs": [],
   "source": [
    "y_test_prd = PL.predict(x_test)"
   ]
  },
  {
   "cell_type": "markdown",
   "id": "1bd814e4",
   "metadata": {},
   "source": [
    "## Test ACC"
   ]
  },
  {
   "cell_type": "code",
   "execution_count": 272,
   "id": "SuCRnk-iQSec",
   "metadata": {
    "colab": {
     "base_uri": "https://localhost:8080/"
    },
    "id": "SuCRnk-iQSec",
    "outputId": "b88c046b-d3ce-4783-ad95-373ffd2e8e75"
   },
   "outputs": [
    {
     "data": {
      "text/plain": [
       "0.9617967383330512"
      ]
     },
     "execution_count": 272,
     "metadata": {},
     "output_type": "execute_result"
    }
   ],
   "source": [
    "accuracy_score(y_true = y_test , y_pred = y_test_prd)"
   ]
  },
  {
   "cell_type": "code",
   "execution_count": 273,
   "id": "eyblhKV2QatR",
   "metadata": {
    "colab": {
     "base_uri": "https://localhost:8080/",
     "height": 297
    },
    "id": "eyblhKV2QatR",
    "outputId": "2ec3f167-9157-42e1-ab81-d44852539997"
   },
   "outputs": [
    {
     "data": {
      "text/plain": [
       "<sklearn.metrics._plot.confusion_matrix.ConfusionMatrixDisplay at 0x1b79beace20>"
      ]
     },
     "execution_count": 273,
     "metadata": {},
     "output_type": "execute_result"
    },
    {
     "data": {
      "image/png": "[encoded data removed]",
      "text/plain": [
       "<Figure size 432x288 with 2 Axes>"
      ]
     },
     "metadata": {},
     "output_type": "display_data"
    }
   ],
   "source": [
    "plot_confusion_matrix(PL , x_test , y_test)"
   ]
  },
  {
   "cell_type": "markdown",
   "id": "23bcdd35",
   "metadata": {},
   "source": [
    "## Very Good Performence On 2 Classes in Test Data "
   ]
  },
  {
   "cell_type": "code",
   "execution_count": 274,
   "id": "Dew3MSuHQg6h",
   "metadata": {
    "colab": {
     "base_uri": "https://localhost:8080/"
    },
    "id": "Dew3MSuHQg6h",
    "outputId": "80539ea6-e545-4ea3-eb78-7f11fed8934e"
   },
   "outputs": [
    {
     "data": {
      "text/plain": [
       "0.9610404557748748"
      ]
     },
     "execution_count": 274,
     "metadata": {},
     "output_type": "execute_result"
    }
   ],
   "source": [
    "f1_score(y_true = y_test , y_pred = y_test_prd)"
   ]
  },
  {
   "cell_type": "markdown",
   "id": "e2eb20de",
   "metadata": {},
   "source": [
    "## Save Pipeline That Has Model "
   ]
  },
  {
   "cell_type": "code",
   "execution_count": 275,
   "id": "FJTFT-lpQoYJ",
   "metadata": {
    "id": "FJTFT-lpQoYJ",
    "scrolled": true
   },
   "outputs": [],
   "source": [
    "joblib.dump(PL , 'Model.pkl')"
   ]
  },
  {
   "cell_type": "code",
   "execution_count": null,
   "id": "7e80e9df",
   "metadata": {},
   "outputs": [],
   "source": []
  }
 ],
 "metadata": {
  "colab": {
   "collapsed_sections": [],
   "provenance": []
  },
  "kernelspec": {
   "display_name": "Python 3 (ipykernel)",
   "language": "python",
   "name": "python3"
  },
  "language_info": {
   "codemirror_mode": {
    "name": "ipython",
    "version": 3
   },
   "file_extension": ".py",
   "mimetype": "text/x-python",
   "name": "python",
   "nbconvert_exporter": "python",
   "pygments_lexer": "ipython3",
   "version": "3.10.4"
  }
 },
 "nbformat": 4,
 "nbformat_minor": 5
}
