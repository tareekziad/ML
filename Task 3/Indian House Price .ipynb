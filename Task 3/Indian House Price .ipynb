{
 "cells": [
  {
   "cell_type": "markdown",
   "id": "ef79b9a4",
   "metadata": {},
   "source": [
    "#### Import Helper Modules "
   ]
  },
  {
   "cell_type": "code",
   "execution_count": 178,
   "id": "41bdb219",
   "metadata": {},
   "outputs": [],
   "source": [
    "import pandas as pd \n",
    "import numpy as np \n",
    "import seaborn as sns\n",
    "import matplotlib.pyplot as plt\n",
    "import warnings"
   ]
  },
  {
   "cell_type": "code",
   "execution_count": 179,
   "id": "957d0736",
   "metadata": {},
   "outputs": [],
   "source": [
    "from datasist.structdata import detect_outliers\n",
    "from category_encoders import BinaryEncoder\n",
    "from sklearn.preprocessing import LabelEncoder , OneHotEncoder , RobustScaler\n",
    "from sklearn.model_selection import train_test_split\n",
    "from sklearn.linear_model import LinearRegression , Ridge , Lasso\n",
    "from sklearn.preprocessing import PolynomialFeatures\n",
    "from sklearn.metrics import mean_squared_error , r2_score\n",
    "from geopy.geocoders import Nominatim\n",
    "import joblib"
   ]
  },
  {
   "cell_type": "code",
   "execution_count": 180,
   "id": "d8bba530",
   "metadata": {},
   "outputs": [],
   "source": [
    "warnings.filterwarnings('ignore')"
   ]
  },
  {
   "cell_type": "code",
   "execution_count": 181,
   "id": "a40a8df4",
   "metadata": {},
   "outputs": [],
   "source": [
    "sns.set_theme(context = 'notebook' , style = 'darkgrid' , palette = 'mako' \n",
    "              , font_scale = 1.1 , rc = {'figure.figsize' : (8 , 4)})"
   ]
  },
  {
   "cell_type": "code",
   "execution_count": 182,
   "id": "98abd333",
   "metadata": {},
   "outputs": [],
   "source": [
    "%matplotlib inline"
   ]
  },
  {
   "cell_type": "markdown",
   "id": "12b134b4",
   "metadata": {},
   "source": [
    "###### Read Dataset "
   ]
  },
  {
   "cell_type": "code",
   "execution_count": 183,
   "id": "72428b4a",
   "metadata": {
    "scrolled": false
   },
   "outputs": [
    {
     "data": {
      "text/html": [
       "<div>\n",
       "<style scoped>\n",
       "    .dataframe tbody tr th:only-of-type {\n",
       "        vertical-align: middle;\n",
       "    }\n",
       "\n",
       "    .dataframe tbody tr th {\n",
       "        vertical-align: top;\n",
       "    }\n",
       "\n",
       "    .dataframe thead th {\n",
       "        text-align: right;\n",
       "    }\n",
       "</style>\n",
       "<table border=\"1\" class=\"dataframe\">\n",
       "  <thead>\n",
       "    <tr style=\"text-align: right;\">\n",
       "      <th></th>\n",
       "      <th>POSTED_BY</th>\n",
       "      <th>UNDER_CONSTRUCTION</th>\n",
       "      <th>RERA</th>\n",
       "      <th>BHK_NO.</th>\n",
       "      <th>BHK_OR_RK</th>\n",
       "      <th>SQUARE_FT</th>\n",
       "      <th>READY_TO_MOVE</th>\n",
       "      <th>RESALE</th>\n",
       "      <th>ADDRESS</th>\n",
       "      <th>LONGITUDE</th>\n",
       "      <th>LATITUDE</th>\n",
       "      <th>TARGET(PRICE_IN_LACS)</th>\n",
       "    </tr>\n",
       "  </thead>\n",
       "  <tbody>\n",
       "    <tr>\n",
       "      <th>0</th>\n",
       "      <td>Owner</td>\n",
       "      <td>0</td>\n",
       "      <td>0</td>\n",
       "      <td>2</td>\n",
       "      <td>BHK</td>\n",
       "      <td>1300.236407</td>\n",
       "      <td>1</td>\n",
       "      <td>1</td>\n",
       "      <td>Ksfc Layout,Bangalore</td>\n",
       "      <td>12.969910</td>\n",
       "      <td>77.597960</td>\n",
       "      <td>55.0</td>\n",
       "    </tr>\n",
       "    <tr>\n",
       "      <th>1</th>\n",
       "      <td>Dealer</td>\n",
       "      <td>0</td>\n",
       "      <td>0</td>\n",
       "      <td>2</td>\n",
       "      <td>BHK</td>\n",
       "      <td>1275.000000</td>\n",
       "      <td>1</td>\n",
       "      <td>1</td>\n",
       "      <td>Vishweshwara Nagar,Mysore</td>\n",
       "      <td>12.274538</td>\n",
       "      <td>76.644605</td>\n",
       "      <td>51.0</td>\n",
       "    </tr>\n",
       "    <tr>\n",
       "      <th>2</th>\n",
       "      <td>Owner</td>\n",
       "      <td>0</td>\n",
       "      <td>0</td>\n",
       "      <td>2</td>\n",
       "      <td>BHK</td>\n",
       "      <td>933.159722</td>\n",
       "      <td>1</td>\n",
       "      <td>1</td>\n",
       "      <td>Jigani,Bangalore</td>\n",
       "      <td>12.778033</td>\n",
       "      <td>77.632191</td>\n",
       "      <td>43.0</td>\n",
       "    </tr>\n",
       "    <tr>\n",
       "      <th>3</th>\n",
       "      <td>Owner</td>\n",
       "      <td>0</td>\n",
       "      <td>1</td>\n",
       "      <td>2</td>\n",
       "      <td>BHK</td>\n",
       "      <td>929.921143</td>\n",
       "      <td>1</td>\n",
       "      <td>1</td>\n",
       "      <td>Sector-1 Vaishali,Ghaziabad</td>\n",
       "      <td>28.642300</td>\n",
       "      <td>77.344500</td>\n",
       "      <td>62.5</td>\n",
       "    </tr>\n",
       "    <tr>\n",
       "      <th>4</th>\n",
       "      <td>Dealer</td>\n",
       "      <td>1</td>\n",
       "      <td>0</td>\n",
       "      <td>2</td>\n",
       "      <td>BHK</td>\n",
       "      <td>999.009247</td>\n",
       "      <td>0</td>\n",
       "      <td>1</td>\n",
       "      <td>New Town,Kolkata</td>\n",
       "      <td>22.592200</td>\n",
       "      <td>88.484911</td>\n",
       "      <td>60.5</td>\n",
       "    </tr>\n",
       "  </tbody>\n",
       "</table>\n",
       "</div>"
      ],
      "text/plain": [
       "  POSTED_BY  UNDER_CONSTRUCTION  RERA  BHK_NO. BHK_OR_RK    SQUARE_FT  \\\n",
       "0     Owner                   0     0        2       BHK  1300.236407   \n",
       "1    Dealer                   0     0        2       BHK  1275.000000   \n",
       "2     Owner                   0     0        2       BHK   933.159722   \n",
       "3     Owner                   0     1        2       BHK   929.921143   \n",
       "4    Dealer                   1     0        2       BHK   999.009247   \n",
       "\n",
       "   READY_TO_MOVE  RESALE                      ADDRESS  LONGITUDE   LATITUDE  \\\n",
       "0              1       1        Ksfc Layout,Bangalore  12.969910  77.597960   \n",
       "1              1       1    Vishweshwara Nagar,Mysore  12.274538  76.644605   \n",
       "2              1       1             Jigani,Bangalore  12.778033  77.632191   \n",
       "3              1       1  Sector-1 Vaishali,Ghaziabad  28.642300  77.344500   \n",
       "4              0       1             New Town,Kolkata  22.592200  88.484911   \n",
       "\n",
       "   TARGET(PRICE_IN_LACS)  \n",
       "0                   55.0  \n",
       "1                   51.0  \n",
       "2                   43.0  \n",
       "3                   62.5  \n",
       "4                   60.5  "
      ]
     },
     "execution_count": 183,
     "metadata": {},
     "output_type": "execute_result"
    }
   ],
   "source": [
    "df = pd.read_csv('dataset.csv')\n",
    "df.head()"
   ]
  },
  {
   "cell_type": "code",
   "execution_count": 184,
   "id": "29859255",
   "metadata": {},
   "outputs": [],
   "source": [
    "# rename columns to be easy to use \n",
    "col = ['Posted_By', 'Under_Construction', 'approved', 'Number_of_Rooms', 'Property_type',\n",
    "       'House_areaSQF', 'Ready_to_move', 'Resale', 'Address', 'Longitude',\n",
    "       'Latitude', 'Price']"
   ]
  },
  {
   "cell_type": "code",
   "execution_count": 185,
   "id": "04428fc6",
   "metadata": {
    "scrolled": true
   },
   "outputs": [],
   "source": [
    "df.columns = col"
   ]
  },
  {
   "cell_type": "markdown",
   "id": "219bb725",
   "metadata": {},
   "source": [
    "###### get data info to explore our dataset"
   ]
  },
  {
   "cell_type": "code",
   "execution_count": 186,
   "id": "266fa00f",
   "metadata": {
    "scrolled": true
   },
   "outputs": [
    {
     "name": "stdout",
     "output_type": "stream",
     "text": [
      "<class 'pandas.core.frame.DataFrame'>\n",
      "RangeIndex: 29451 entries, 0 to 29450\n",
      "Data columns (total 12 columns):\n",
      " #   Column              Non-Null Count  Dtype  \n",
      "---  ------              --------------  -----  \n",
      " 0   Posted_By           29451 non-null  object \n",
      " 1   Under_Construction  29451 non-null  int64  \n",
      " 2   approved            29451 non-null  int64  \n",
      " 3   Number_of_Rooms     29451 non-null  int64  \n",
      " 4   Property_type       29451 non-null  object \n",
      " 5   House_areaSQF       29451 non-null  float64\n",
      " 6   Ready_to_move       29451 non-null  int64  \n",
      " 7   Resale              29451 non-null  int64  \n",
      " 8   Address             29451 non-null  object \n",
      " 9   Longitude           29451 non-null  float64\n",
      " 10  Latitude            29451 non-null  float64\n",
      " 11  Price               29451 non-null  float64\n",
      "dtypes: float64(4), int64(5), object(3)\n",
      "memory usage: 2.7+ MB\n"
     ]
    }
   ],
   "source": [
    "df.info()"
   ]
  },
  {
   "cell_type": "markdown",
   "id": "049d9259",
   "metadata": {},
   "source": [
    "###### Remove duplicates "
   ]
  },
  {
   "cell_type": "code",
   "execution_count": 187,
   "id": "1f3e1a6b",
   "metadata": {
    "scrolled": true
   },
   "outputs": [
    {
     "data": {
      "text/plain": [
       "401"
      ]
     },
     "execution_count": 187,
     "metadata": {},
     "output_type": "execute_result"
    }
   ],
   "source": [
    "df.duplicated().sum()"
   ]
  },
  {
   "cell_type": "code",
   "execution_count": 188,
   "id": "0e48e9b1",
   "metadata": {},
   "outputs": [],
   "source": [
    "df.drop_duplicates(inplace = True , ignore_index = True)"
   ]
  },
  {
   "cell_type": "code",
   "execution_count": 189,
   "id": "de9dce8b",
   "metadata": {},
   "outputs": [
    {
     "data": {
      "text/plain": [
       "RangeIndex(start=0, stop=29050, step=1)"
      ]
     },
     "execution_count": 189,
     "metadata": {},
     "output_type": "execute_result"
    }
   ],
   "source": [
    "df.index"
   ]
  },
  {
   "cell_type": "markdown",
   "id": "667b366a",
   "metadata": {},
   "source": [
    "###### Check missing records "
   ]
  },
  {
   "cell_type": "code",
   "execution_count": 190,
   "id": "0e92b584",
   "metadata": {
    "scrolled": true
   },
   "outputs": [
    {
     "data": {
      "text/plain": [
       "Posted_By             0.0\n",
       "Under_Construction    0.0\n",
       "approved              0.0\n",
       "Number_of_Rooms       0.0\n",
       "Property_type         0.0\n",
       "House_areaSQF         0.0\n",
       "Ready_to_move         0.0\n",
       "Resale                0.0\n",
       "Address               0.0\n",
       "Longitude             0.0\n",
       "Latitude              0.0\n",
       "Price                 0.0\n",
       "dtype: float64"
      ]
     },
     "execution_count": 190,
     "metadata": {},
     "output_type": "execute_result"
    }
   ],
   "source": [
    "df.isnull().mean()*100"
   ]
  },
  {
   "cell_type": "markdown",
   "id": "717240ec",
   "metadata": {},
   "source": [
    "###### after run anthor notebook on (Longitude , Latitude) to get any info return with more than 80% nan"
   ]
  },
  {
   "cell_type": "code",
   "execution_count": 191,
   "id": "d074a355",
   "metadata": {},
   "outputs": [],
   "source": [
    "# drop this 2 columns no benefit from them \n",
    "df.drop(['Longitude' , 'Latitude'] , axis = 1 , inplace = True )"
   ]
  },
  {
   "cell_type": "code",
   "execution_count": 192,
   "id": "f48b048b",
   "metadata": {},
   "outputs": [
    {
     "data": {
      "text/html": [
       "<div>\n",
       "<style scoped>\n",
       "    .dataframe tbody tr th:only-of-type {\n",
       "        vertical-align: middle;\n",
       "    }\n",
       "\n",
       "    .dataframe tbody tr th {\n",
       "        vertical-align: top;\n",
       "    }\n",
       "\n",
       "    .dataframe thead th {\n",
       "        text-align: right;\n",
       "    }\n",
       "</style>\n",
       "<table border=\"1\" class=\"dataframe\">\n",
       "  <thead>\n",
       "    <tr style=\"text-align: right;\">\n",
       "      <th></th>\n",
       "      <th>Posted_By</th>\n",
       "      <th>Under_Construction</th>\n",
       "      <th>approved</th>\n",
       "      <th>Number_of_Rooms</th>\n",
       "      <th>Property_type</th>\n",
       "      <th>House_areaSQF</th>\n",
       "      <th>Ready_to_move</th>\n",
       "      <th>Resale</th>\n",
       "      <th>Address</th>\n",
       "      <th>Price</th>\n",
       "    </tr>\n",
       "  </thead>\n",
       "  <tbody>\n",
       "    <tr>\n",
       "      <th>0</th>\n",
       "      <td>Owner</td>\n",
       "      <td>0</td>\n",
       "      <td>0</td>\n",
       "      <td>2</td>\n",
       "      <td>BHK</td>\n",
       "      <td>1300.236407</td>\n",
       "      <td>1</td>\n",
       "      <td>1</td>\n",
       "      <td>Ksfc Layout,Bangalore</td>\n",
       "      <td>55.0</td>\n",
       "    </tr>\n",
       "    <tr>\n",
       "      <th>1</th>\n",
       "      <td>Dealer</td>\n",
       "      <td>0</td>\n",
       "      <td>0</td>\n",
       "      <td>2</td>\n",
       "      <td>BHK</td>\n",
       "      <td>1275.000000</td>\n",
       "      <td>1</td>\n",
       "      <td>1</td>\n",
       "      <td>Vishweshwara Nagar,Mysore</td>\n",
       "      <td>51.0</td>\n",
       "    </tr>\n",
       "    <tr>\n",
       "      <th>2</th>\n",
       "      <td>Owner</td>\n",
       "      <td>0</td>\n",
       "      <td>0</td>\n",
       "      <td>2</td>\n",
       "      <td>BHK</td>\n",
       "      <td>933.159722</td>\n",
       "      <td>1</td>\n",
       "      <td>1</td>\n",
       "      <td>Jigani,Bangalore</td>\n",
       "      <td>43.0</td>\n",
       "    </tr>\n",
       "  </tbody>\n",
       "</table>\n",
       "</div>"
      ],
      "text/plain": [
       "  Posted_By  Under_Construction  approved  Number_of_Rooms Property_type  \\\n",
       "0     Owner                   0         0                2           BHK   \n",
       "1    Dealer                   0         0                2           BHK   \n",
       "2     Owner                   0         0                2           BHK   \n",
       "\n",
       "   House_areaSQF  Ready_to_move  Resale                    Address  Price  \n",
       "0    1300.236407              1       1      Ksfc Layout,Bangalore   55.0  \n",
       "1    1275.000000              1       1  Vishweshwara Nagar,Mysore   51.0  \n",
       "2     933.159722              1       1           Jigani,Bangalore   43.0  "
      ]
     },
     "execution_count": 192,
     "metadata": {},
     "output_type": "execute_result"
    }
   ],
   "source": [
    "df.head(3)"
   ]
  },
  {
   "cell_type": "markdown",
   "id": "4354ec69",
   "metadata": {},
   "source": [
    "#### Explore our categorical feature and see the distribution of each one "
   ]
  },
  {
   "cell_type": "code",
   "execution_count": 193,
   "id": "b4021bad",
   "metadata": {
    "scrolled": true
   },
   "outputs": [
    {
     "data": {
      "text/plain": [
       "<AxesSubplot:xlabel='Resale', ylabel='count'>"
      ]
     },
     "execution_count": 193,
     "metadata": {},
     "output_type": "execute_result"
    },
    {
     "data": {
      "image/png": "[encoded data removed]",
      "text/plain": [
       "<Figure size 1800x432 with 4 Axes>"
      ]
     },
     "metadata": {
      "needs_background": "light"
     },
     "output_type": "display_data"
    }
   ],
   "source": [
    "fig, axis = plt.subplots(nrows = 1, ncols = 4, figsize = (25,6))\n",
    "sns.countplot(df['Under_Construction'] , ax = axis[0])\n",
    "sns.countplot(df['approved'] , ax = axis[1])\n",
    "sns.countplot(df['Ready_to_move'] , ax = axis[2])\n",
    "sns.countplot(df['Resale'] , ax = axis[3])"
   ]
  },
  {
   "cell_type": "code",
   "execution_count": 194,
   "id": "8fc61ffc",
   "metadata": {},
   "outputs": [
    {
     "data": {
      "text/plain": [
       "<AxesSubplot:xlabel='Property_type', ylabel='count'>"
      ]
     },
     "execution_count": 194,
     "metadata": {},
     "output_type": "execute_result"
    },
    {
     "data": {
      "image/png": "[encoded data removed]",
      "text/plain": [
       "<Figure size 1080x288 with 2 Axes>"
      ]
     },
     "metadata": {
      "needs_background": "light"
     },
     "output_type": "display_data"
    }
   ],
   "source": [
    "fig , axis = plt.subplots(ncols = 2 , nrows = 1 , figsize = (15 , 4))\n",
    "sns.countplot(df['Posted_By'] , ax = axis[0])\n",
    "sns.countplot(df['Property_type'] , ax = axis[1])"
   ]
  },
  {
   "cell_type": "markdown",
   "id": "0d110ec9",
   "metadata": {},
   "source": [
    "#### Check distribution & outliers or abnormal values for area"
   ]
  },
  {
   "cell_type": "code",
   "execution_count": 195,
   "id": "096edf6a",
   "metadata": {
    "scrolled": true
   },
   "outputs": [
    {
     "data": {
      "text/plain": [
       "<AxesSubplot:xlabel='House_areaSQF', ylabel='Density'>"
      ]
     },
     "execution_count": 195,
     "metadata": {},
     "output_type": "execute_result"
    },
    {
     "data": {
      "image/png": "[encoded data removed]",
      "text/plain": [
       "<Figure size 1080x288 with 2 Axes>"
      ]
     },
     "metadata": {
      "needs_background": "light"
     },
     "output_type": "display_data"
    }
   ],
   "source": [
    "fig , axis = plt.subplots(ncols = 2 , nrows = 1 , figsize = (15 , 4))\n",
    "sns.boxplot(df['House_areaSQF'] , ax = axis[0])\n",
    "sns.distplot(df['House_areaSQF'] , ax = axis[1])"
   ]
  },
  {
   "cell_type": "markdown",
   "id": "359360b1",
   "metadata": {},
   "source": [
    "###### High area with small number of rooms and price !!!"
   ]
  },
  {
   "cell_type": "code",
   "execution_count": 196,
   "id": "e2d7791a",
   "metadata": {
    "scrolled": true
   },
   "outputs": [
    {
     "data": {
      "text/html": [
       "<div>\n",
       "<style scoped>\n",
       "    .dataframe tbody tr th:only-of-type {\n",
       "        vertical-align: middle;\n",
       "    }\n",
       "\n",
       "    .dataframe tbody tr th {\n",
       "        vertical-align: top;\n",
       "    }\n",
       "\n",
       "    .dataframe thead th {\n",
       "        text-align: right;\n",
       "    }\n",
       "</style>\n",
       "<table border=\"1\" class=\"dataframe\">\n",
       "  <thead>\n",
       "    <tr style=\"text-align: right;\">\n",
       "      <th></th>\n",
       "      <th>Posted_By</th>\n",
       "      <th>Under_Construction</th>\n",
       "      <th>approved</th>\n",
       "      <th>Number_of_Rooms</th>\n",
       "      <th>Property_type</th>\n",
       "      <th>House_areaSQF</th>\n",
       "      <th>Ready_to_move</th>\n",
       "      <th>Resale</th>\n",
       "      <th>Address</th>\n",
       "      <th>Price</th>\n",
       "    </tr>\n",
       "  </thead>\n",
       "  <tbody>\n",
       "    <tr>\n",
       "      <th>10694</th>\n",
       "      <td>Owner</td>\n",
       "      <td>0</td>\n",
       "      <td>0</td>\n",
       "      <td>3</td>\n",
       "      <td>BHK</td>\n",
       "      <td>2.545455e+08</td>\n",
       "      <td>1</td>\n",
       "      <td>1</td>\n",
       "      <td>Malur,Bangalore</td>\n",
       "      <td>28000.0</td>\n",
       "    </tr>\n",
       "    <tr>\n",
       "      <th>11178</th>\n",
       "      <td>Dealer</td>\n",
       "      <td>0</td>\n",
       "      <td>0</td>\n",
       "      <td>3</td>\n",
       "      <td>BHK</td>\n",
       "      <td>1.875000e+08</td>\n",
       "      <td>1</td>\n",
       "      <td>1</td>\n",
       "      <td>R.T. Nagar,Bangalore</td>\n",
       "      <td>30000.0</td>\n",
       "    </tr>\n",
       "    <tr>\n",
       "      <th>15601</th>\n",
       "      <td>Owner</td>\n",
       "      <td>0</td>\n",
       "      <td>0</td>\n",
       "      <td>2</td>\n",
       "      <td>BHK</td>\n",
       "      <td>8.064516e+07</td>\n",
       "      <td>1</td>\n",
       "      <td>1</td>\n",
       "      <td>Lakkasandra,Bangalore</td>\n",
       "      <td>25000.0</td>\n",
       "    </tr>\n",
       "  </tbody>\n",
       "</table>\n",
       "</div>"
      ],
      "text/plain": [
       "      Posted_By  Under_Construction  approved  Number_of_Rooms Property_type  \\\n",
       "10694     Owner                   0         0                3           BHK   \n",
       "11178    Dealer                   0         0                3           BHK   \n",
       "15601     Owner                   0         0                2           BHK   \n",
       "\n",
       "       House_areaSQF  Ready_to_move  Resale                Address    Price  \n",
       "10694   2.545455e+08              1       1        Malur,Bangalore  28000.0  \n",
       "11178   1.875000e+08              1       1   R.T. Nagar,Bangalore  30000.0  \n",
       "15601   8.064516e+07              1       1  Lakkasandra,Bangalore  25000.0  "
      ]
     },
     "execution_count": 196,
     "metadata": {},
     "output_type": "execute_result"
    }
   ],
   "source": [
    "df[df['House_areaSQF'] > 0.4*1e8]"
   ]
  },
  {
   "cell_type": "code",
   "execution_count": 197,
   "id": "e35a4420",
   "metadata": {},
   "outputs": [],
   "source": [
    "# drop this samples \n",
    "df.drop([10694 , 11178 , 15601] , axis = 0 , inplace = True)"
   ]
  },
  {
   "cell_type": "code",
   "execution_count": 198,
   "id": "3bd5717e",
   "metadata": {},
   "outputs": [
    {
     "data": {
      "text/plain": [
       "<AxesSubplot:xlabel='House_areaSQF', ylabel='Density'>"
      ]
     },
     "execution_count": 198,
     "metadata": {},
     "output_type": "execute_result"
    },
    {
     "data": {
      "image/png": "[encoded data removed]",
      "text/plain": [
       "<Figure size 1080x288 with 2 Axes>"
      ]
     },
     "metadata": {
      "needs_background": "light"
     },
     "output_type": "display_data"
    }
   ],
   "source": [
    "# see again \n",
    "fig , axis = plt.subplots(ncols = 2 , nrows = 1 , figsize = (15 , 4))\n",
    "sns.boxplot(df['House_areaSQF'] , ax = axis[0])\n",
    "sns.distplot(df['House_areaSQF'] , ax = axis[1])"
   ]
  },
  {
   "cell_type": "markdown",
   "id": "0f9c9545",
   "metadata": {},
   "source": [
    "###### still there was abnormal values "
   ]
  },
  {
   "cell_type": "code",
   "execution_count": 199,
   "id": "6ccfe081",
   "metadata": {},
   "outputs": [
    {
     "data": {
      "text/html": [
       "<div>\n",
       "<style scoped>\n",
       "    .dataframe tbody tr th:only-of-type {\n",
       "        vertical-align: middle;\n",
       "    }\n",
       "\n",
       "    .dataframe tbody tr th {\n",
       "        vertical-align: top;\n",
       "    }\n",
       "\n",
       "    .dataframe thead th {\n",
       "        text-align: right;\n",
       "    }\n",
       "</style>\n",
       "<table border=\"1\" class=\"dataframe\">\n",
       "  <thead>\n",
       "    <tr style=\"text-align: right;\">\n",
       "      <th></th>\n",
       "      <th>Posted_By</th>\n",
       "      <th>Under_Construction</th>\n",
       "      <th>approved</th>\n",
       "      <th>Number_of_Rooms</th>\n",
       "      <th>Property_type</th>\n",
       "      <th>House_areaSQF</th>\n",
       "      <th>Ready_to_move</th>\n",
       "      <th>Resale</th>\n",
       "      <th>Address</th>\n",
       "      <th>Price</th>\n",
       "    </tr>\n",
       "  </thead>\n",
       "  <tbody>\n",
       "    <tr>\n",
       "      <th>24935</th>\n",
       "      <td>Owner</td>\n",
       "      <td>0</td>\n",
       "      <td>0</td>\n",
       "      <td>3</td>\n",
       "      <td>BHK</td>\n",
       "      <td>4300000.0</td>\n",
       "      <td>1</td>\n",
       "      <td>1</td>\n",
       "      <td>New Kumaran Nagar,Chennai</td>\n",
       "      <td>43.0</td>\n",
       "    </tr>\n",
       "  </tbody>\n",
       "</table>\n",
       "</div>"
      ],
      "text/plain": [
       "      Posted_By  Under_Construction  approved  Number_of_Rooms Property_type  \\\n",
       "24935     Owner                   0         0                3           BHK   \n",
       "\n",
       "       House_areaSQF  Ready_to_move  Resale                    Address  Price  \n",
       "24935      4300000.0              1       1  New Kumaran Nagar,Chennai   43.0  "
      ]
     },
     "execution_count": 199,
     "metadata": {},
     "output_type": "execute_result"
    }
   ],
   "source": [
    "df[df['House_areaSQF'] > 4*1e6]"
   ]
  },
  {
   "cell_type": "code",
   "execution_count": 200,
   "id": "fcb734f8",
   "metadata": {},
   "outputs": [],
   "source": [
    "df.drop([24935] , axis = 0 , inplace = True)"
   ]
  },
  {
   "cell_type": "code",
   "execution_count": 201,
   "id": "83dde71b",
   "metadata": {},
   "outputs": [
    {
     "data": {
      "text/plain": [
       "<AxesSubplot:xlabel='House_areaSQF', ylabel='Density'>"
      ]
     },
     "execution_count": 201,
     "metadata": {},
     "output_type": "execute_result"
    },
    {
     "data": {
      "image/png": "[encoded data removed]",
      "text/plain": [
       "<Figure size 1080x288 with 2 Axes>"
      ]
     },
     "metadata": {
      "needs_background": "light"
     },
     "output_type": "display_data"
    }
   ],
   "source": [
    "# see again \n",
    "fig , axis = plt.subplots(ncols = 2 , nrows = 1 , figsize = (15 , 4))\n",
    "sns.boxplot(df['House_areaSQF'] , ax = axis[0])\n",
    "sns.distplot(df['House_areaSQF'] , ax = axis[1])"
   ]
  },
  {
   "cell_type": "code",
   "execution_count": 202,
   "id": "d70a656d",
   "metadata": {},
   "outputs": [],
   "source": [
    "df.drop(df[df['House_areaSQF'] > 200000].index , inplace = True , axis = 0)"
   ]
  },
  {
   "cell_type": "code",
   "execution_count": 203,
   "id": "5ecd968a",
   "metadata": {
    "scrolled": true
   },
   "outputs": [
    {
     "data": {
      "text/plain": [
       "<AxesSubplot:xlabel='House_areaSQF', ylabel='Density'>"
      ]
     },
     "execution_count": 203,
     "metadata": {},
     "output_type": "execute_result"
    },
    {
     "data": {
      "image/png": "[encoded data removed]",
      "text/plain": [
       "<Figure size 1080x288 with 2 Axes>"
      ]
     },
     "metadata": {
      "needs_background": "light"
     },
     "output_type": "display_data"
    }
   ],
   "source": [
    "# and see again \n",
    "fig , axis = plt.subplots(ncols = 2 , nrows = 1 , figsize = (15 , 4))\n",
    "sns.boxplot(df['House_areaSQF'] , ax = axis[0])\n",
    "sns.distplot(df['House_areaSQF'] , ax = axis[1])"
   ]
  },
  {
   "cell_type": "code",
   "execution_count": 204,
   "id": "2e6b09cd",
   "metadata": {
    "scrolled": true
   },
   "outputs": [
    {
     "data": {
      "text/plain": [
       "127"
      ]
     },
     "execution_count": 204,
     "metadata": {},
     "output_type": "execute_result"
    }
   ],
   "source": [
    "df[df['House_areaSQF'] > 25000].shape[0]\n",
    "# drop them too"
   ]
  },
  {
   "cell_type": "code",
   "execution_count": 205,
   "id": "35490dfe",
   "metadata": {},
   "outputs": [],
   "source": [
    "df.drop(df[df['House_areaSQF'] > 25000].index , inplace = True , axis = 0 )"
   ]
  },
  {
   "cell_type": "code",
   "execution_count": 206,
   "id": "f42474fb",
   "metadata": {},
   "outputs": [],
   "source": [
    "df.reset_index(inplace = True , drop = True)"
   ]
  },
  {
   "cell_type": "code",
   "execution_count": 207,
   "id": "32cd4dda",
   "metadata": {
    "scrolled": true
   },
   "outputs": [
    {
     "data": {
      "text/plain": [
       "<AxesSubplot:xlabel='House_areaSQF', ylabel='Price'>"
      ]
     },
     "execution_count": 207,
     "metadata": {},
     "output_type": "execute_result"
    },
    {
     "data": {
      "image/png": "[encoded data removed]",
      "text/plain": [
       "<Figure size 432x288 with 1 Axes>"
      ]
     },
     "metadata": {
      "needs_background": "light"
     },
     "output_type": "display_data"
    }
   ],
   "source": [
    "# now see distribution with price \n",
    "sns.scatterplot(data = df , x = 'House_areaSQF' , y = 'Price')"
   ]
  },
  {
   "cell_type": "markdown",
   "id": "665eba3e",
   "metadata": {},
   "source": [
    "###### log tranform to see distribution well as (normally distributed)"
   ]
  },
  {
   "cell_type": "code",
   "execution_count": 208,
   "id": "6d813a45",
   "metadata": {},
   "outputs": [
    {
     "data": {
      "text/plain": [
       "<AxesSubplot:xlabel='Price', ylabel='Density'>"
      ]
     },
     "execution_count": 208,
     "metadata": {},
     "output_type": "execute_result"
    },
    {
     "data": {
      "image/png": "[encoded data removed]",
      "text/plain": [
       "<Figure size 1080x288 with 2 Axes>"
      ]
     },
     "metadata": {
      "needs_background": "light"
     },
     "output_type": "display_data"
    }
   ],
   "source": [
    "fig , axis = plt.subplots(ncols = 2 , nrows = 1 , figsize = (15 , 4))\n",
    "sns.distplot(df['House_areaSQF'] , ax = axis[0])\n",
    "sns.distplot(df['Price'] , ax = axis[1])"
   ]
  },
  {
   "cell_type": "code",
   "execution_count": 209,
   "id": "8218a803",
   "metadata": {},
   "outputs": [],
   "source": [
    "df['LogArea'] = np.log(df['House_areaSQF'])\n",
    "df['LogPrice'] = np.log(df['Price'])"
   ]
  },
  {
   "cell_type": "code",
   "execution_count": 210,
   "id": "8e9adb47",
   "metadata": {
    "scrolled": true
   },
   "outputs": [
    {
     "data": {
      "text/plain": [
       "<AxesSubplot:xlabel='LogPrice', ylabel='Density'>"
      ]
     },
     "execution_count": 210,
     "metadata": {},
     "output_type": "execute_result"
    },
    {
     "data": {
      "image/png": "[encoded data removed]",
      "text/plain": [
       "<Figure size 1080x288 with 2 Axes>"
      ]
     },
     "metadata": {
      "needs_background": "light"
     },
     "output_type": "display_data"
    }
   ],
   "source": [
    "fig , axis = plt.subplots(ncols = 2 , nrows = 1 , figsize = (15 , 4))\n",
    "sns.distplot(df['LogArea'] , ax = axis[0])\n",
    "sns.distplot(df['LogPrice'] , ax = axis[1])"
   ]
  },
  {
   "cell_type": "markdown",
   "id": "93a4e893",
   "metadata": {},
   "source": [
    "###### Price with -ve values !!!!"
   ]
  },
  {
   "cell_type": "code",
   "execution_count": 211,
   "id": "c8142270",
   "metadata": {},
   "outputs": [],
   "source": [
    "df.drop(df[df['LogPrice'] <= 0].index , axis = 0 , inplace = True)"
   ]
  },
  {
   "cell_type": "code",
   "execution_count": 212,
   "id": "2e24029a",
   "metadata": {
    "scrolled": true
   },
   "outputs": [
    {
     "data": {
      "text/plain": [
       "<AxesSubplot:xlabel='LogArea', ylabel='LogPrice'>"
      ]
     },
     "execution_count": 212,
     "metadata": {},
     "output_type": "execute_result"
    },
    {
     "data": {
      "image/png": "[encoded data removed]",
      "text/plain": [
       "<Figure size 432x288 with 1 Axes>"
      ]
     },
     "metadata": {
      "needs_background": "light"
     },
     "output_type": "display_data"
    }
   ],
   "source": [
    "sns.scatterplot(data = df , x = 'LogArea' , y = 'LogPrice')"
   ]
  },
  {
   "cell_type": "markdown",
   "id": "de61f2e8",
   "metadata": {},
   "source": [
    "###### Still there were some values that may confuse our Model"
   ]
  },
  {
   "cell_type": "code",
   "execution_count": 213,
   "id": "e5e347a5",
   "metadata": {},
   "outputs": [],
   "source": [
    "df.drop(df[(df['LogArea'] < 3) & (df['LogPrice'] >= 2 )].index , inplace = True,axis =0)"
   ]
  },
  {
   "cell_type": "code",
   "execution_count": 214,
   "id": "8f105e7c",
   "metadata": {},
   "outputs": [
    {
     "data": {
      "text/plain": [
       "<AxesSubplot:xlabel='LogArea', ylabel='LogPrice'>"
      ]
     },
     "execution_count": 214,
     "metadata": {},
     "output_type": "execute_result"
    },
    {
     "data": {
      "image/png": "[encoded data removed]",
      "text/plain": [
       "<Figure size 432x288 with 1 Axes>"
      ]
     },
     "metadata": {
      "needs_background": "light"
     },
     "output_type": "display_data"
    }
   ],
   "source": [
    "sns.scatterplot(data = df , x = 'LogArea' , y = 'LogPrice')"
   ]
  },
  {
   "cell_type": "code",
   "execution_count": 215,
   "id": "afb5e882",
   "metadata": {},
   "outputs": [],
   "source": [
    "df.drop(df[(df['LogArea'] < 8)&(df['LogPrice'] <= 1)].index , axis = 0 , inplace = True)"
   ]
  },
  {
   "cell_type": "code",
   "execution_count": 216,
   "id": "f15c1240",
   "metadata": {},
   "outputs": [
    {
     "data": {
      "text/plain": [
       "<AxesSubplot:xlabel='LogArea', ylabel='LogPrice'>"
      ]
     },
     "execution_count": 216,
     "metadata": {},
     "output_type": "execute_result"
    },
    {
     "data": {
      "image/png": "[encoded data removed]",
      "text/plain": [
       "<Figure size 432x288 with 1 Axes>"
      ]
     },
     "metadata": {
      "needs_background": "light"
     },
     "output_type": "display_data"
    }
   ],
   "source": [
    "sns.scatterplot(data = df , x = 'LogArea' , y = 'LogPrice')"
   ]
  },
  {
   "cell_type": "code",
   "execution_count": 217,
   "id": "60cab5c8",
   "metadata": {},
   "outputs": [
    {
     "data": {
      "text/plain": [
       "(28892, 12)"
      ]
     },
     "execution_count": 217,
     "metadata": {},
     "output_type": "execute_result"
    }
   ],
   "source": [
    "df.shape"
   ]
  },
  {
   "cell_type": "markdown",
   "id": "6973f474",
   "metadata": {},
   "source": [
    "##### Now get city from address "
   ]
  },
  {
   "cell_type": "code",
   "execution_count": 218,
   "id": "1c7ded1e",
   "metadata": {},
   "outputs": [],
   "source": [
    "df['City'] = df['Address'].apply(lambda x : x.split(',')[1].strip().lower())"
   ]
  },
  {
   "cell_type": "code",
   "execution_count": 219,
   "id": "2e28bf52",
   "metadata": {},
   "outputs": [
    {
     "data": {
      "text/plain": [
       "bangalore               4231\n",
       "lalitpur                2938\n",
       "mumbai                  1987\n",
       "pune                    1963\n",
       "noida                   1708\n",
       "                        ... \n",
       "opp to nagarjuna sch       1\n",
       "patan road                 1\n",
       "nandi garden               1\n",
       "vidisha                    1\n",
       "lake view recidency        1\n",
       "Name: City, Length: 414, dtype: int64"
      ]
     },
     "execution_count": 219,
     "metadata": {},
     "output_type": "execute_result"
    }
   ],
   "source": [
    "df['City'].value_counts()"
   ]
  },
  {
   "cell_type": "code",
   "execution_count": 220,
   "id": "5c5d3a2f",
   "metadata": {},
   "outputs": [],
   "source": [
    "df.drop(['Address'] , axis = 1 ,inplace = True)"
   ]
  },
  {
   "cell_type": "code",
   "execution_count": 221,
   "id": "03ea0a9f",
   "metadata": {},
   "outputs": [
    {
     "data": {
      "text/html": [
       "<div>\n",
       "<style scoped>\n",
       "    .dataframe tbody tr th:only-of-type {\n",
       "        vertical-align: middle;\n",
       "    }\n",
       "\n",
       "    .dataframe tbody tr th {\n",
       "        vertical-align: top;\n",
       "    }\n",
       "\n",
       "    .dataframe thead th {\n",
       "        text-align: right;\n",
       "    }\n",
       "</style>\n",
       "<table border=\"1\" class=\"dataframe\">\n",
       "  <thead>\n",
       "    <tr style=\"text-align: right;\">\n",
       "      <th></th>\n",
       "      <th>Posted_By</th>\n",
       "      <th>Under_Construction</th>\n",
       "      <th>approved</th>\n",
       "      <th>Number_of_Rooms</th>\n",
       "      <th>Property_type</th>\n",
       "      <th>House_areaSQF</th>\n",
       "      <th>Ready_to_move</th>\n",
       "      <th>Resale</th>\n",
       "      <th>Price</th>\n",
       "      <th>LogArea</th>\n",
       "      <th>LogPrice</th>\n",
       "      <th>City</th>\n",
       "    </tr>\n",
       "  </thead>\n",
       "  <tbody>\n",
       "    <tr>\n",
       "      <th>0</th>\n",
       "      <td>Owner</td>\n",
       "      <td>0</td>\n",
       "      <td>0</td>\n",
       "      <td>2</td>\n",
       "      <td>BHK</td>\n",
       "      <td>1300.236407</td>\n",
       "      <td>1</td>\n",
       "      <td>1</td>\n",
       "      <td>55.0</td>\n",
       "      <td>7.170301</td>\n",
       "      <td>4.007333</td>\n",
       "      <td>bangalore</td>\n",
       "    </tr>\n",
       "    <tr>\n",
       "      <th>1</th>\n",
       "      <td>Dealer</td>\n",
       "      <td>0</td>\n",
       "      <td>0</td>\n",
       "      <td>2</td>\n",
       "      <td>BHK</td>\n",
       "      <td>1275.000000</td>\n",
       "      <td>1</td>\n",
       "      <td>1</td>\n",
       "      <td>51.0</td>\n",
       "      <td>7.150701</td>\n",
       "      <td>3.931826</td>\n",
       "      <td>mysore</td>\n",
       "    </tr>\n",
       "    <tr>\n",
       "      <th>2</th>\n",
       "      <td>Owner</td>\n",
       "      <td>0</td>\n",
       "      <td>0</td>\n",
       "      <td>2</td>\n",
       "      <td>BHK</td>\n",
       "      <td>933.159722</td>\n",
       "      <td>1</td>\n",
       "      <td>1</td>\n",
       "      <td>43.0</td>\n",
       "      <td>6.838576</td>\n",
       "      <td>3.761200</td>\n",
       "      <td>bangalore</td>\n",
       "    </tr>\n",
       "  </tbody>\n",
       "</table>\n",
       "</div>"
      ],
      "text/plain": [
       "  Posted_By  Under_Construction  approved  Number_of_Rooms Property_type  \\\n",
       "0     Owner                   0         0                2           BHK   \n",
       "1    Dealer                   0         0                2           BHK   \n",
       "2     Owner                   0         0                2           BHK   \n",
       "\n",
       "   House_areaSQF  Ready_to_move  Resale  Price   LogArea  LogPrice       City  \n",
       "0    1300.236407              1       1   55.0  7.170301  4.007333  bangalore  \n",
       "1    1275.000000              1       1   51.0  7.150701  3.931826     mysore  \n",
       "2     933.159722              1       1   43.0  6.838576  3.761200  bangalore  "
      ]
     },
     "execution_count": 221,
     "metadata": {},
     "output_type": "execute_result"
    }
   ],
   "source": [
    "df.head(3)"
   ]
  },
  {
   "cell_type": "code",
   "execution_count": 222,
   "id": "0b35ee9c",
   "metadata": {
    "scrolled": true
   },
   "outputs": [
    {
     "data": {
      "text/plain": [
       "2     13108\n",
       "3     10294\n",
       "1      3522\n",
       "4      1687\n",
       "5       189\n",
       "6        52\n",
       "8        10\n",
       "7        10\n",
       "20        4\n",
       "15        4\n",
       "12        3\n",
       "9         3\n",
       "10        3\n",
       "13        1\n",
       "17        1\n",
       "11        1\n",
       "Name: Number_of_Rooms, dtype: int64"
      ]
     },
     "execution_count": 222,
     "metadata": {},
     "output_type": "execute_result"
    }
   ],
   "source": [
    "df['Number_of_Rooms'].value_counts()"
   ]
  },
  {
   "cell_type": "code",
   "execution_count": 223,
   "id": "588b4fce",
   "metadata": {
    "scrolled": true
   },
   "outputs": [
    {
     "data": {
      "text/plain": [
       "<AxesSubplot:xlabel='Number_of_Rooms'>"
      ]
     },
     "execution_count": 223,
     "metadata": {},
     "output_type": "execute_result"
    },
    {
     "data": {
      "image/png": "[encoded data removed]",
      "text/plain": [
       "<Figure size 432x288 with 1 Axes>"
      ]
     },
     "metadata": {
      "needs_background": "light"
     },
     "output_type": "display_data"
    }
   ],
   "source": [
    "sns.boxplot(df['Number_of_Rooms'])"
   ]
  },
  {
   "cell_type": "code",
   "execution_count": 224,
   "id": "19ddef27",
   "metadata": {},
   "outputs": [
    {
     "data": {
      "text/plain": [
       "<AxesSubplot:xlabel='Number_of_Rooms', ylabel='LogPrice'>"
      ]
     },
     "execution_count": 224,
     "metadata": {},
     "output_type": "execute_result"
    },
    {
     "data": {
      "image/png": "[encoded data removed]",
      "text/plain": [
       "<Figure size 432x288 with 1 Axes>"
      ]
     },
     "metadata": {
      "needs_background": "light"
     },
     "output_type": "display_data"
    }
   ],
   "source": [
    "sns.lineplot(data = df , x = 'Number_of_Rooms' , y = 'LogPrice')"
   ]
  },
  {
   "cell_type": "markdown",
   "id": "07424f19",
   "metadata": {},
   "source": [
    "###### more than 6 rooms can confuse model so drop them "
   ]
  },
  {
   "cell_type": "code",
   "execution_count": 225,
   "id": "28f5b83c",
   "metadata": {},
   "outputs": [],
   "source": [
    "df.drop(df[df['Number_of_Rooms'] > 6 ].index , inplace = True , axis = 0)"
   ]
  },
  {
   "cell_type": "code",
   "execution_count": 226,
   "id": "26f5e7a2",
   "metadata": {},
   "outputs": [],
   "source": [
    "df.reset_index(inplace = True, drop = True)"
   ]
  },
  {
   "cell_type": "code",
   "execution_count": 227,
   "id": "2a0e3149",
   "metadata": {},
   "outputs": [],
   "source": [
    "df.drop(['Price' , 'House_areaSQF'] , axis = 1 , inplace = True)"
   ]
  },
  {
   "cell_type": "code",
   "execution_count": 228,
   "id": "7ee44241",
   "metadata": {},
   "outputs": [
    {
     "data": {
      "text/html": [
       "<div>\n",
       "<style scoped>\n",
       "    .dataframe tbody tr th:only-of-type {\n",
       "        vertical-align: middle;\n",
       "    }\n",
       "\n",
       "    .dataframe tbody tr th {\n",
       "        vertical-align: top;\n",
       "    }\n",
       "\n",
       "    .dataframe thead th {\n",
       "        text-align: right;\n",
       "    }\n",
       "</style>\n",
       "<table border=\"1\" class=\"dataframe\">\n",
       "  <thead>\n",
       "    <tr style=\"text-align: right;\">\n",
       "      <th></th>\n",
       "      <th>Posted_By</th>\n",
       "      <th>Under_Construction</th>\n",
       "      <th>approved</th>\n",
       "      <th>Number_of_Rooms</th>\n",
       "      <th>Property_type</th>\n",
       "      <th>Ready_to_move</th>\n",
       "      <th>Resale</th>\n",
       "      <th>LogArea</th>\n",
       "      <th>LogPrice</th>\n",
       "      <th>City</th>\n",
       "    </tr>\n",
       "  </thead>\n",
       "  <tbody>\n",
       "    <tr>\n",
       "      <th>0</th>\n",
       "      <td>Owner</td>\n",
       "      <td>0</td>\n",
       "      <td>0</td>\n",
       "      <td>2</td>\n",
       "      <td>BHK</td>\n",
       "      <td>1</td>\n",
       "      <td>1</td>\n",
       "      <td>7.170301</td>\n",
       "      <td>4.007333</td>\n",
       "      <td>bangalore</td>\n",
       "    </tr>\n",
       "    <tr>\n",
       "      <th>1</th>\n",
       "      <td>Dealer</td>\n",
       "      <td>0</td>\n",
       "      <td>0</td>\n",
       "      <td>2</td>\n",
       "      <td>BHK</td>\n",
       "      <td>1</td>\n",
       "      <td>1</td>\n",
       "      <td>7.150701</td>\n",
       "      <td>3.931826</td>\n",
       "      <td>mysore</td>\n",
       "    </tr>\n",
       "    <tr>\n",
       "      <th>2</th>\n",
       "      <td>Owner</td>\n",
       "      <td>0</td>\n",
       "      <td>0</td>\n",
       "      <td>2</td>\n",
       "      <td>BHK</td>\n",
       "      <td>1</td>\n",
       "      <td>1</td>\n",
       "      <td>6.838576</td>\n",
       "      <td>3.761200</td>\n",
       "      <td>bangalore</td>\n",
       "    </tr>\n",
       "  </tbody>\n",
       "</table>\n",
       "</div>"
      ],
      "text/plain": [
       "  Posted_By  Under_Construction  approved  Number_of_Rooms Property_type  \\\n",
       "0     Owner                   0         0                2           BHK   \n",
       "1    Dealer                   0         0                2           BHK   \n",
       "2     Owner                   0         0                2           BHK   \n",
       "\n",
       "   Ready_to_move  Resale   LogArea  LogPrice       City  \n",
       "0              1       1  7.170301  4.007333  bangalore  \n",
       "1              1       1  7.150701  3.931826     mysore  \n",
       "2              1       1  6.838576  3.761200  bangalore  "
      ]
     },
     "execution_count": 228,
     "metadata": {},
     "output_type": "execute_result"
    }
   ],
   "source": [
    "df.head(3)"
   ]
  },
  {
   "cell_type": "markdown",
   "id": "f5c0d957",
   "metadata": {},
   "source": [
    "#### Encode our categorical Feature "
   ]
  },
  {
   "cell_type": "code",
   "execution_count": 229,
   "id": "97a75840",
   "metadata": {},
   "outputs": [],
   "source": [
    "col_to_encd = ['Posted_By' , 'Property_type' , 'City']"
   ]
  },
  {
   "cell_type": "code",
   "execution_count": 230,
   "id": "942df86f",
   "metadata": {},
   "outputs": [],
   "source": [
    "#using Binary encoder \n",
    "encoder = BinaryEncoder()"
   ]
  },
  {
   "cell_type": "code",
   "execution_count": 231,
   "id": "59d6bba9",
   "metadata": {},
   "outputs": [],
   "source": [
    "df = pd.concat([df , encoder.fit_transform(df[col_to_encd])] , axis = 1)"
   ]
  },
  {
   "cell_type": "code",
   "execution_count": 232,
   "id": "04338840",
   "metadata": {},
   "outputs": [],
   "source": [
    "df.drop(col_to_encd , inplace = True , axis = 1 )"
   ]
  },
  {
   "cell_type": "code",
   "execution_count": 233,
   "id": "79e9d728",
   "metadata": {},
   "outputs": [
    {
     "data": {
      "text/html": [
       "<div>\n",
       "<style scoped>\n",
       "    .dataframe tbody tr th:only-of-type {\n",
       "        vertical-align: middle;\n",
       "    }\n",
       "\n",
       "    .dataframe tbody tr th {\n",
       "        vertical-align: top;\n",
       "    }\n",
       "\n",
       "    .dataframe thead th {\n",
       "        text-align: right;\n",
       "    }\n",
       "</style>\n",
       "<table border=\"1\" class=\"dataframe\">\n",
       "  <thead>\n",
       "    <tr style=\"text-align: right;\">\n",
       "      <th></th>\n",
       "      <th>Under_Construction</th>\n",
       "      <th>approved</th>\n",
       "      <th>Number_of_Rooms</th>\n",
       "      <th>Ready_to_move</th>\n",
       "      <th>Resale</th>\n",
       "      <th>LogArea</th>\n",
       "      <th>LogPrice</th>\n",
       "      <th>Posted_By_0</th>\n",
       "      <th>Posted_By_1</th>\n",
       "      <th>Property_type_0</th>\n",
       "      <th>Property_type_1</th>\n",
       "      <th>City_0</th>\n",
       "      <th>City_1</th>\n",
       "      <th>City_2</th>\n",
       "      <th>City_3</th>\n",
       "      <th>City_4</th>\n",
       "      <th>City_5</th>\n",
       "      <th>City_6</th>\n",
       "      <th>City_7</th>\n",
       "      <th>City_8</th>\n",
       "    </tr>\n",
       "  </thead>\n",
       "  <tbody>\n",
       "    <tr>\n",
       "      <th>0</th>\n",
       "      <td>0</td>\n",
       "      <td>0</td>\n",
       "      <td>2</td>\n",
       "      <td>1</td>\n",
       "      <td>1</td>\n",
       "      <td>7.170301</td>\n",
       "      <td>4.007333</td>\n",
       "      <td>0</td>\n",
       "      <td>1</td>\n",
       "      <td>0</td>\n",
       "      <td>1</td>\n",
       "      <td>0</td>\n",
       "      <td>0</td>\n",
       "      <td>0</td>\n",
       "      <td>0</td>\n",
       "      <td>0</td>\n",
       "      <td>0</td>\n",
       "      <td>0</td>\n",
       "      <td>0</td>\n",
       "      <td>1</td>\n",
       "    </tr>\n",
       "    <tr>\n",
       "      <th>1</th>\n",
       "      <td>0</td>\n",
       "      <td>0</td>\n",
       "      <td>2</td>\n",
       "      <td>1</td>\n",
       "      <td>1</td>\n",
       "      <td>7.150701</td>\n",
       "      <td>3.931826</td>\n",
       "      <td>1</td>\n",
       "      <td>0</td>\n",
       "      <td>0</td>\n",
       "      <td>1</td>\n",
       "      <td>0</td>\n",
       "      <td>0</td>\n",
       "      <td>0</td>\n",
       "      <td>0</td>\n",
       "      <td>0</td>\n",
       "      <td>0</td>\n",
       "      <td>0</td>\n",
       "      <td>1</td>\n",
       "      <td>0</td>\n",
       "    </tr>\n",
       "    <tr>\n",
       "      <th>2</th>\n",
       "      <td>0</td>\n",
       "      <td>0</td>\n",
       "      <td>2</td>\n",
       "      <td>1</td>\n",
       "      <td>1</td>\n",
       "      <td>6.838576</td>\n",
       "      <td>3.761200</td>\n",
       "      <td>0</td>\n",
       "      <td>1</td>\n",
       "      <td>0</td>\n",
       "      <td>1</td>\n",
       "      <td>0</td>\n",
       "      <td>0</td>\n",
       "      <td>0</td>\n",
       "      <td>0</td>\n",
       "      <td>0</td>\n",
       "      <td>0</td>\n",
       "      <td>0</td>\n",
       "      <td>0</td>\n",
       "      <td>1</td>\n",
       "    </tr>\n",
       "  </tbody>\n",
       "</table>\n",
       "</div>"
      ],
      "text/plain": [
       "   Under_Construction  approved  Number_of_Rooms  Ready_to_move  Resale  \\\n",
       "0                   0         0                2              1       1   \n",
       "1                   0         0                2              1       1   \n",
       "2                   0         0                2              1       1   \n",
       "\n",
       "    LogArea  LogPrice  Posted_By_0  Posted_By_1  Property_type_0  \\\n",
       "0  7.170301  4.007333            0            1                0   \n",
       "1  7.150701  3.931826            1            0                0   \n",
       "2  6.838576  3.761200            0            1                0   \n",
       "\n",
       "   Property_type_1  City_0  City_1  City_2  City_3  City_4  City_5  City_6  \\\n",
       "0                1       0       0       0       0       0       0       0   \n",
       "1                1       0       0       0       0       0       0       0   \n",
       "2                1       0       0       0       0       0       0       0   \n",
       "\n",
       "   City_7  City_8  \n",
       "0       0       1  \n",
       "1       1       0  \n",
       "2       0       1  "
      ]
     },
     "execution_count": 233,
     "metadata": {},
     "output_type": "execute_result"
    }
   ],
   "source": [
    "df.head(3)"
   ]
  },
  {
   "cell_type": "markdown",
   "id": "1d5ffb67",
   "metadata": {},
   "source": [
    "### Split Data to Train & Test from Modeling "
   ]
  },
  {
   "cell_type": "code",
   "execution_count": 234,
   "id": "bb334980",
   "metadata": {},
   "outputs": [],
   "source": [
    "x = df.drop(['LogPrice'] , axis = 1)\n",
    "y = df['LogPrice']"
   ]
  },
  {
   "cell_type": "code",
   "execution_count": 235,
   "id": "c3c201f4",
   "metadata": {},
   "outputs": [],
   "source": [
    "#take 20 % as test set \n",
    "x_train , x_test , y_train , y_test = train_test_split(x , y , test_size = 0.2 ,\n",
    "                                                       random_state = 7 ) "
   ]
  },
  {
   "cell_type": "markdown",
   "id": "a44d1704",
   "metadata": {},
   "source": [
    "###### Scale our numerical columns to be in same scale "
   ]
  },
  {
   "cell_type": "code",
   "execution_count": 236,
   "id": "71dc7905",
   "metadata": {},
   "outputs": [],
   "source": [
    "sclr = RobustScaler()"
   ]
  },
  {
   "cell_type": "code",
   "execution_count": 237,
   "id": "60d0bea8",
   "metadata": {},
   "outputs": [],
   "source": [
    "x_train['LogArea'] = sclr.fit_transform(x_train[['LogArea']])"
   ]
  },
  {
   "cell_type": "code",
   "execution_count": 238,
   "id": "96703952",
   "metadata": {},
   "outputs": [],
   "source": [
    "x_test['LogArea'] = sclr.transform(x_test[['LogArea']])"
   ]
  },
  {
   "cell_type": "markdown",
   "id": "a2633e3b",
   "metadata": {},
   "source": [
    "###### increase degree of Model to 4 to be more complex "
   ]
  },
  {
   "cell_type": "code",
   "execution_count": 239,
   "id": "87c8cf80",
   "metadata": {},
   "outputs": [],
   "source": [
    "poly = PolynomialFeatures(degree = 4)"
   ]
  },
  {
   "cell_type": "code",
   "execution_count": 240,
   "id": "f41bedf5",
   "metadata": {},
   "outputs": [],
   "source": [
    "x_train = poly.fit_transform(x_train)"
   ]
  },
  {
   "cell_type": "markdown",
   "id": "e63c5fe0",
   "metadata": {},
   "source": [
    "### Fisrt we train on Multivariable Regression "
   ]
  },
  {
   "cell_type": "code",
   "execution_count": 241,
   "id": "e83f6011",
   "metadata": {},
   "outputs": [],
   "source": [
    "linr_modl = LinearRegression()"
   ]
  },
  {
   "cell_type": "markdown",
   "id": "384d9c08",
   "metadata": {},
   "source": [
    "###### train model "
   ]
  },
  {
   "cell_type": "code",
   "execution_count": 242,
   "id": "68be7bc0",
   "metadata": {},
   "outputs": [
    {
     "data": {
      "text/html": [
       "<style>#sk-container-id-5 {color: black;background-color: white;}#sk-container-id-5 pre{padding: 0;}#sk-container-id-5 div.sk-toggleable {background-color: white;}#sk-container-id-5 label.sk-toggleable__label {cursor: pointer;display: block;width: 100%;margin-bottom: 0;padding: 0.3em;box-sizing: border-box;text-align: center;}#sk-container-id-5 label.sk-toggleable__label-arrow:before {content: \"▸\";float: left;margin-right: 0.25em;color: #696969;}#sk-container-id-5 label.sk-toggleable__label-arrow:hover:before {color: black;}#sk-container-id-5 div.sk-estimator:hover label.sk-toggleable__label-arrow:before {color: black;}#sk-container-id-5 div.sk-toggleable__content {max-height: 0;max-width: 0;overflow: hidden;text-align: left;background-color: #f0f8ff;}#sk-container-id-5 div.sk-toggleable__content pre {margin: 0.2em;color: black;border-radius: 0.25em;background-color: #f0f8ff;}#sk-container-id-5 input.sk-toggleable__control:checked~div.sk-toggleable__content {max-height: 200px;max-width: 100%;overflow: auto;}#sk-container-id-5 input.sk-toggleable__control:checked~label.sk-toggleable__label-arrow:before {content: \"▾\";}#sk-container-id-5 div.sk-estimator input.sk-toggleable__control:checked~label.sk-toggleable__label {background-color: #d4ebff;}#sk-container-id-5 div.sk-label input.sk-toggleable__control:checked~label.sk-toggleable__label {background-color: #d4ebff;}#sk-container-id-5 input.sk-hidden--visually {border: 0;clip: rect(1px 1px 1px 1px);clip: rect(1px, 1px, 1px, 1px);height: 1px;margin: -1px;overflow: hidden;padding: 0;position: absolute;width: 1px;}#sk-container-id-5 div.sk-estimator {font-family: monospace;background-color: #f0f8ff;border: 1px dotted black;border-radius: 0.25em;box-sizing: border-box;margin-bottom: 0.5em;}#sk-container-id-5 div.sk-estimator:hover {background-color: #d4ebff;}#sk-container-id-5 div.sk-parallel-item::after {content: \"\";width: 100%;border-bottom: 1px solid gray;flex-grow: 1;}#sk-container-id-5 div.sk-label:hover label.sk-toggleable__label {background-color: #d4ebff;}#sk-container-id-5 div.sk-serial::before {content: \"\";position: absolute;border-left: 1px solid gray;box-sizing: border-box;top: 0;bottom: 0;left: 50%;z-index: 0;}#sk-container-id-5 div.sk-serial {display: flex;flex-direction: column;align-items: center;background-color: white;padding-right: 0.2em;padding-left: 0.2em;position: relative;}#sk-container-id-5 div.sk-item {position: relative;z-index: 1;}#sk-container-id-5 div.sk-parallel {display: flex;align-items: stretch;justify-content: center;background-color: white;position: relative;}#sk-container-id-5 div.sk-item::before, #sk-container-id-5 div.sk-parallel-item::before {content: \"\";position: absolute;border-left: 1px solid gray;box-sizing: border-box;top: 0;bottom: 0;left: 50%;z-index: -1;}#sk-container-id-5 div.sk-parallel-item {display: flex;flex-direction: column;z-index: 1;position: relative;background-color: white;}#sk-container-id-5 div.sk-parallel-item:first-child::after {align-self: flex-end;width: 50%;}#sk-container-id-5 div.sk-parallel-item:last-child::after {align-self: flex-start;width: 50%;}#sk-container-id-5 div.sk-parallel-item:only-child::after {width: 0;}#sk-container-id-5 div.sk-dashed-wrapped {border: 1px dashed gray;margin: 0 0.4em 0.5em 0.4em;box-sizing: border-box;padding-bottom: 0.4em;background-color: white;}#sk-container-id-5 div.sk-label label {font-family: monospace;font-weight: bold;display: inline-block;line-height: 1.2em;}#sk-container-id-5 div.sk-label-container {text-align: center;}#sk-container-id-5 div.sk-container {/* jupyter's `normalize.less` sets `[hidden] { display: none; }` but bootstrap.min.css set `[hidden] { display: none !important; }` so we also need the `!important` here to be able to override the default hidden behavior on the sphinx rendered scikit-learn.org. See: https://github.com/scikit-learn/scikit-learn/issues/21755 */display: inline-block !important;position: relative;}#sk-container-id-5 div.sk-text-repr-fallback {display: none;}</style><div id=\"sk-container-id-5\" class=\"sk-top-container\"><div class=\"sk-text-repr-fallback\"><pre>LinearRegression()</pre><b>In a Jupyter environment, please rerun this cell to show the HTML representation or trust the notebook. <br />On GitHub, the HTML representation is unable to render, please try loading this page with nbviewer.org.</b></div><div class=\"sk-container\" hidden><div class=\"sk-item\"><div class=\"sk-estimator sk-toggleable\"><input class=\"sk-toggleable__control sk-hidden--visually\" id=\"sk-estimator-id-5\" type=\"checkbox\" checked><label for=\"sk-estimator-id-5\" class=\"sk-toggleable__label sk-toggleable__label-arrow\">LinearRegression</label><div class=\"sk-toggleable__content\"><pre>LinearRegression()</pre></div></div></div></div></div>"
      ],
      "text/plain": [
       "LinearRegression()"
      ]
     },
     "execution_count": 242,
     "metadata": {},
     "output_type": "execute_result"
    }
   ],
   "source": [
    "linr_modl.fit(x_train , y_train)"
   ]
  },
  {
   "cell_type": "markdown",
   "id": "87c282f2",
   "metadata": {},
   "source": [
    "###### try to make prediction on train data to get train data error "
   ]
  },
  {
   "cell_type": "code",
   "execution_count": 243,
   "id": "141cd596",
   "metadata": {},
   "outputs": [],
   "source": [
    "ly_train_pred = linr_modl.predict(x_train)"
   ]
  },
  {
   "cell_type": "code",
   "execution_count": 244,
   "id": "333c7521",
   "metadata": {},
   "outputs": [
    {
     "data": {
      "text/plain": [
       "0.3522985729275938"
      ]
     },
     "execution_count": 244,
     "metadata": {},
     "output_type": "execute_result"
    }
   ],
   "source": [
    "mean_squared_error(y_true = y_train , y_pred = ly_train_pred , squared=False)"
   ]
  },
  {
   "cell_type": "markdown",
   "id": "d7099f06",
   "metadata": {},
   "source": [
    "###### make prediction on test to get test error and score model "
   ]
  },
  {
   "cell_type": "code",
   "execution_count": 245,
   "id": "4560e766",
   "metadata": {},
   "outputs": [],
   "source": [
    "ly_test_pred = linr_modl.predict(poly.transform(x_test))"
   ]
  },
  {
   "cell_type": "code",
   "execution_count": 246,
   "id": "531f28e9",
   "metadata": {},
   "outputs": [
    {
     "data": {
      "text/plain": [
       "74275326.96074158"
      ]
     },
     "execution_count": 246,
     "metadata": {},
     "output_type": "execute_result"
    }
   ],
   "source": [
    "mean_squared_error(y_true = y_test , y_pred = ly_test_pred , squared = False) "
   ]
  },
  {
   "cell_type": "code",
   "execution_count": 247,
   "id": "16dcd718",
   "metadata": {
    "scrolled": true
   },
   "outputs": [
    {
     "data": {
      "text/plain": [
       "0.819752523081313"
      ]
     },
     "execution_count": 247,
     "metadata": {},
     "output_type": "execute_result"
    }
   ],
   "source": [
    "r2_score(y_true = y_train , y_pred = ly_train_pred)"
   ]
  },
  {
   "cell_type": "code",
   "execution_count": 248,
   "id": "15198bbf",
   "metadata": {
    "scrolled": true
   },
   "outputs": [
    {
     "data": {
      "text/plain": [
       "-7812495338609697.0"
      ]
     },
     "execution_count": 248,
     "metadata": {},
     "output_type": "execute_result"
    }
   ],
   "source": [
    "r2_score(y_true = y_test , y_pred = ly_test_pred )"
   ]
  },
  {
   "cell_type": "markdown",
   "id": "9f547092",
   "metadata": {},
   "source": [
    "### OOPS there was high overfitting "
   ]
  },
  {
   "cell_type": "markdown",
   "id": "871d9f33",
   "metadata": {},
   "source": [
    "### Now try to use Ridge Model to avoid overfitting and regularize model "
   ]
  },
  {
   "cell_type": "code",
   "execution_count": 249,
   "id": "1d33f7ea",
   "metadata": {},
   "outputs": [],
   "source": [
    "model = Ridge()"
   ]
  },
  {
   "cell_type": "code",
   "execution_count": 250,
   "id": "9f640e62",
   "metadata": {},
   "outputs": [
    {
     "data": {
      "text/html": [
       "<style>#sk-container-id-6 {color: black;background-color: white;}#sk-container-id-6 pre{padding: 0;}#sk-container-id-6 div.sk-toggleable {background-color: white;}#sk-container-id-6 label.sk-toggleable__label {cursor: pointer;display: block;width: 100%;margin-bottom: 0;padding: 0.3em;box-sizing: border-box;text-align: center;}#sk-container-id-6 label.sk-toggleable__label-arrow:before {content: \"▸\";float: left;margin-right: 0.25em;color: #696969;}#sk-container-id-6 label.sk-toggleable__label-arrow:hover:before {color: black;}#sk-container-id-6 div.sk-estimator:hover label.sk-toggleable__label-arrow:before {color: black;}#sk-container-id-6 div.sk-toggleable__content {max-height: 0;max-width: 0;overflow: hidden;text-align: left;background-color: #f0f8ff;}#sk-container-id-6 div.sk-toggleable__content pre {margin: 0.2em;color: black;border-radius: 0.25em;background-color: #f0f8ff;}#sk-container-id-6 input.sk-toggleable__control:checked~div.sk-toggleable__content {max-height: 200px;max-width: 100%;overflow: auto;}#sk-container-id-6 input.sk-toggleable__control:checked~label.sk-toggleable__label-arrow:before {content: \"▾\";}#sk-container-id-6 div.sk-estimator input.sk-toggleable__control:checked~label.sk-toggleable__label {background-color: #d4ebff;}#sk-container-id-6 div.sk-label input.sk-toggleable__control:checked~label.sk-toggleable__label {background-color: #d4ebff;}#sk-container-id-6 input.sk-hidden--visually {border: 0;clip: rect(1px 1px 1px 1px);clip: rect(1px, 1px, 1px, 1px);height: 1px;margin: -1px;overflow: hidden;padding: 0;position: absolute;width: 1px;}#sk-container-id-6 div.sk-estimator {font-family: monospace;background-color: #f0f8ff;border: 1px dotted black;border-radius: 0.25em;box-sizing: border-box;margin-bottom: 0.5em;}#sk-container-id-6 div.sk-estimator:hover {background-color: #d4ebff;}#sk-container-id-6 div.sk-parallel-item::after {content: \"\";width: 100%;border-bottom: 1px solid gray;flex-grow: 1;}#sk-container-id-6 div.sk-label:hover label.sk-toggleable__label {background-color: #d4ebff;}#sk-container-id-6 div.sk-serial::before {content: \"\";position: absolute;border-left: 1px solid gray;box-sizing: border-box;top: 0;bottom: 0;left: 50%;z-index: 0;}#sk-container-id-6 div.sk-serial {display: flex;flex-direction: column;align-items: center;background-color: white;padding-right: 0.2em;padding-left: 0.2em;position: relative;}#sk-container-id-6 div.sk-item {position: relative;z-index: 1;}#sk-container-id-6 div.sk-parallel {display: flex;align-items: stretch;justify-content: center;background-color: white;position: relative;}#sk-container-id-6 div.sk-item::before, #sk-container-id-6 div.sk-parallel-item::before {content: \"\";position: absolute;border-left: 1px solid gray;box-sizing: border-box;top: 0;bottom: 0;left: 50%;z-index: -1;}#sk-container-id-6 div.sk-parallel-item {display: flex;flex-direction: column;z-index: 1;position: relative;background-color: white;}#sk-container-id-6 div.sk-parallel-item:first-child::after {align-self: flex-end;width: 50%;}#sk-container-id-6 div.sk-parallel-item:last-child::after {align-self: flex-start;width: 50%;}#sk-container-id-6 div.sk-parallel-item:only-child::after {width: 0;}#sk-container-id-6 div.sk-dashed-wrapped {border: 1px dashed gray;margin: 0 0.4em 0.5em 0.4em;box-sizing: border-box;padding-bottom: 0.4em;background-color: white;}#sk-container-id-6 div.sk-label label {font-family: monospace;font-weight: bold;display: inline-block;line-height: 1.2em;}#sk-container-id-6 div.sk-label-container {text-align: center;}#sk-container-id-6 div.sk-container {/* jupyter's `normalize.less` sets `[hidden] { display: none; }` but bootstrap.min.css set `[hidden] { display: none !important; }` so we also need the `!important` here to be able to override the default hidden behavior on the sphinx rendered scikit-learn.org. See: https://github.com/scikit-learn/scikit-learn/issues/21755 */display: inline-block !important;position: relative;}#sk-container-id-6 div.sk-text-repr-fallback {display: none;}</style><div id=\"sk-container-id-6\" class=\"sk-top-container\"><div class=\"sk-text-repr-fallback\"><pre>Ridge()</pre><b>In a Jupyter environment, please rerun this cell to show the HTML representation or trust the notebook. <br />On GitHub, the HTML representation is unable to render, please try loading this page with nbviewer.org.</b></div><div class=\"sk-container\" hidden><div class=\"sk-item\"><div class=\"sk-estimator sk-toggleable\"><input class=\"sk-toggleable__control sk-hidden--visually\" id=\"sk-estimator-id-6\" type=\"checkbox\" checked><label for=\"sk-estimator-id-6\" class=\"sk-toggleable__label sk-toggleable__label-arrow\">Ridge</label><div class=\"sk-toggleable__content\"><pre>Ridge()</pre></div></div></div></div></div>"
      ],
      "text/plain": [
       "Ridge()"
      ]
     },
     "execution_count": 250,
     "metadata": {},
     "output_type": "execute_result"
    }
   ],
   "source": [
    "model.fit(x_train , y_train)"
   ]
  },
  {
   "cell_type": "code",
   "execution_count": 251,
   "id": "54a413c9",
   "metadata": {},
   "outputs": [],
   "source": [
    "y_train_pred = model.predict(x_train)"
   ]
  },
  {
   "cell_type": "code",
   "execution_count": 252,
   "id": "f1b0cab5",
   "metadata": {},
   "outputs": [
    {
     "data": {
      "text/plain": [
       "0.3542152989490129"
      ]
     },
     "execution_count": 252,
     "metadata": {},
     "output_type": "execute_result"
    }
   ],
   "source": [
    "mean_squared_error(y_pred = y_train_pred , y_true = y_train , squared = False)"
   ]
  },
  {
   "cell_type": "code",
   "execution_count": 253,
   "id": "3c36e7e0",
   "metadata": {},
   "outputs": [],
   "source": [
    "y_test_pred = model.predict(poly.transform(x_test))"
   ]
  },
  {
   "cell_type": "code",
   "execution_count": 254,
   "id": "cf222c1e",
   "metadata": {},
   "outputs": [
    {
     "data": {
      "text/plain": [
       "0.4171143618314098"
      ]
     },
     "execution_count": 254,
     "metadata": {},
     "output_type": "execute_result"
    }
   ],
   "source": [
    "mean_squared_error(y_true = y_test , y_pred = y_test_pred , squared = False)"
   ]
  },
  {
   "cell_type": "markdown",
   "id": "5a0df454",
   "metadata": {},
   "source": [
    "##### using regularization technique we get good score some how and avoid overfitting "
   ]
  },
  {
   "cell_type": "code",
   "execution_count": 255,
   "id": "405d0dfb",
   "metadata": {},
   "outputs": [
    {
     "data": {
      "text/plain": [
       "0.8177858681814434"
      ]
     },
     "execution_count": 255,
     "metadata": {},
     "output_type": "execute_result"
    }
   ],
   "source": [
    "r2_score(y_pred = y_train_pred , y_true = y_train)"
   ]
  },
  {
   "cell_type": "code",
   "execution_count": 256,
   "id": "76436473",
   "metadata": {},
   "outputs": [
    {
     "data": {
      "text/plain": [
       "0.753616900883571"
      ]
     },
     "execution_count": 256,
     "metadata": {},
     "output_type": "execute_result"
    }
   ],
   "source": [
    "r2_score(y_true = y_test , y_pred = y_test_pred)"
   ]
  },
  {
   "cell_type": "markdown",
   "id": "e0e84069",
   "metadata": {},
   "source": [
    "###### finally save our scaler & model "
   ]
  },
  {
   "cell_type": "code",
   "execution_count": 257,
   "id": "19947ffa",
   "metadata": {},
   "outputs": [
    {
     "data": {
      "text/plain": [
       "['model.pkl']"
      ]
     },
     "execution_count": 257,
     "metadata": {},
     "output_type": "execute_result"
    }
   ],
   "source": [
    "joblib.dump(model , 'model.pkl')"
   ]
  },
  {
   "cell_type": "code",
   "execution_count": 258,
   "id": "9e2e21e4",
   "metadata": {},
   "outputs": [
    {
     "data": {
      "text/plain": [
       "['sclr.pkl']"
      ]
     },
     "execution_count": 258,
     "metadata": {},
     "output_type": "execute_result"
    }
   ],
   "source": [
    "joblib.dump(sclr , 'sclr.pkl')"
   ]
  },
  {
   "cell_type": "code",
   "execution_count": null,
   "id": "d3eb86d0",
   "metadata": {},
   "outputs": [],
   "source": []
  }
 ],
 "metadata": {
  "kernelspec": {
   "display_name": "Python 3 (ipykernel)",
   "language": "python",
   "name": "python3"
  },
  "language_info": {
   "codemirror_mode": {
    "name": "ipython",
    "version": 3
   },
   "file_extension": ".py",
   "mimetype": "text/x-python",
   "name": "python",
   "nbconvert_exporter": "python",
   "pygments_lexer": "ipython3",
   "version": "3.10.4"
  }
 },
 "nbformat": 4,
 "nbformat_minor": 5
}
