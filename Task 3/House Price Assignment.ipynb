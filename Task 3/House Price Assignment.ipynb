{
 "cells": [
  {
   "cell_type": "markdown",
   "id": "5f4a34b7",
   "metadata": {},
   "source": [
    "## Import some helper modules "
   ]
  },
  {
   "cell_type": "code",
   "execution_count": 812,
   "id": "41bdb219",
   "metadata": {},
   "outputs": [],
   "source": [
    "import pandas as pd \n",
    "import numpy as np \n",
    "import seaborn as sns\n",
    "import matplotlib.pyplot as plt\n",
    "import warnings"
   ]
  },
  {
   "cell_type": "code",
   "execution_count": 813,
   "id": "021e43ee",
   "metadata": {},
   "outputs": [],
   "source": [
    "from datasist.structdata import detect_outliers\n",
    "from sklearn.preprocessing import OneHotEncoder , StandardScaler , RobustScaler\n",
    "from sklearn.model_selection import train_test_split\n",
    "from sklearn.linear_model import LinearRegression\n",
    "from sklearn.metrics import mean_squared_error , mean_absolute_error , r2_score\n",
    "from category_encoders import BinaryEncoder\n",
    "import joblib"
   ]
  },
  {
   "cell_type": "code",
   "execution_count": 814,
   "id": "d8bba530",
   "metadata": {},
   "outputs": [],
   "source": [
    "warnings.filterwarnings('ignore')"
   ]
  },
  {
   "cell_type": "code",
   "execution_count": 815,
   "id": "a40a8df4",
   "metadata": {},
   "outputs": [],
   "source": [
    "sns.set_theme(context = 'notebook' , style = 'darkgrid' , palette = 'mako' \n",
    "              , font_scale = 1.1 , rc = {'figure.figsize' : (8 , 4)})"
   ]
  },
  {
   "cell_type": "code",
   "execution_count": 816,
   "id": "98abd333",
   "metadata": {},
   "outputs": [],
   "source": [
    "%matplotlib inline"
   ]
  },
  {
   "cell_type": "markdown",
   "id": "85c3b9e3",
   "metadata": {},
   "source": [
    "###### Read dataset"
   ]
  },
  {
   "cell_type": "code",
   "execution_count": 817,
   "id": "72428b4a",
   "metadata": {
    "scrolled": false
   },
   "outputs": [
    {
     "data": {
      "text/html": [
       "<div>\n",
       "<style scoped>\n",
       "    .dataframe tbody tr th:only-of-type {\n",
       "        vertical-align: middle;\n",
       "    }\n",
       "\n",
       "    .dataframe tbody tr th {\n",
       "        vertical-align: top;\n",
       "    }\n",
       "\n",
       "    .dataframe thead th {\n",
       "        text-align: right;\n",
       "    }\n",
       "</style>\n",
       "<table border=\"1\" class=\"dataframe\">\n",
       "  <thead>\n",
       "    <tr style=\"text-align: right;\">\n",
       "      <th></th>\n",
       "      <th>POSTED_BY</th>\n",
       "      <th>UNDER_CONSTRUCTION</th>\n",
       "      <th>RERA</th>\n",
       "      <th>BHK_NO.</th>\n",
       "      <th>BHK_OR_RK</th>\n",
       "      <th>SQUARE_FT</th>\n",
       "      <th>READY_TO_MOVE</th>\n",
       "      <th>RESALE</th>\n",
       "      <th>ADDRESS</th>\n",
       "      <th>LONGITUDE</th>\n",
       "      <th>LATITUDE</th>\n",
       "      <th>TARGET(PRICE_IN_LACS)</th>\n",
       "    </tr>\n",
       "  </thead>\n",
       "  <tbody>\n",
       "    <tr>\n",
       "      <th>0</th>\n",
       "      <td>Owner</td>\n",
       "      <td>0</td>\n",
       "      <td>0</td>\n",
       "      <td>2</td>\n",
       "      <td>BHK</td>\n",
       "      <td>1300.236407</td>\n",
       "      <td>1</td>\n",
       "      <td>1</td>\n",
       "      <td>Ksfc Layout,Bangalore</td>\n",
       "      <td>12.969910</td>\n",
       "      <td>77.597960</td>\n",
       "      <td>55.0</td>\n",
       "    </tr>\n",
       "    <tr>\n",
       "      <th>1</th>\n",
       "      <td>Dealer</td>\n",
       "      <td>0</td>\n",
       "      <td>0</td>\n",
       "      <td>2</td>\n",
       "      <td>BHK</td>\n",
       "      <td>1275.000000</td>\n",
       "      <td>1</td>\n",
       "      <td>1</td>\n",
       "      <td>Vishweshwara Nagar,Mysore</td>\n",
       "      <td>12.274538</td>\n",
       "      <td>76.644605</td>\n",
       "      <td>51.0</td>\n",
       "    </tr>\n",
       "    <tr>\n",
       "      <th>2</th>\n",
       "      <td>Owner</td>\n",
       "      <td>0</td>\n",
       "      <td>0</td>\n",
       "      <td>2</td>\n",
       "      <td>BHK</td>\n",
       "      <td>933.159722</td>\n",
       "      <td>1</td>\n",
       "      <td>1</td>\n",
       "      <td>Jigani,Bangalore</td>\n",
       "      <td>12.778033</td>\n",
       "      <td>77.632191</td>\n",
       "      <td>43.0</td>\n",
       "    </tr>\n",
       "    <tr>\n",
       "      <th>3</th>\n",
       "      <td>Owner</td>\n",
       "      <td>0</td>\n",
       "      <td>1</td>\n",
       "      <td>2</td>\n",
       "      <td>BHK</td>\n",
       "      <td>929.921143</td>\n",
       "      <td>1</td>\n",
       "      <td>1</td>\n",
       "      <td>Sector-1 Vaishali,Ghaziabad</td>\n",
       "      <td>28.642300</td>\n",
       "      <td>77.344500</td>\n",
       "      <td>62.5</td>\n",
       "    </tr>\n",
       "    <tr>\n",
       "      <th>4</th>\n",
       "      <td>Dealer</td>\n",
       "      <td>1</td>\n",
       "      <td>0</td>\n",
       "      <td>2</td>\n",
       "      <td>BHK</td>\n",
       "      <td>999.009247</td>\n",
       "      <td>0</td>\n",
       "      <td>1</td>\n",
       "      <td>New Town,Kolkata</td>\n",
       "      <td>22.592200</td>\n",
       "      <td>88.484911</td>\n",
       "      <td>60.5</td>\n",
       "    </tr>\n",
       "  </tbody>\n",
       "</table>\n",
       "</div>"
      ],
      "text/plain": [
       "  POSTED_BY  UNDER_CONSTRUCTION  RERA  BHK_NO. BHK_OR_RK    SQUARE_FT  \\\n",
       "0     Owner                   0     0        2       BHK  1300.236407   \n",
       "1    Dealer                   0     0        2       BHK  1275.000000   \n",
       "2     Owner                   0     0        2       BHK   933.159722   \n",
       "3     Owner                   0     1        2       BHK   929.921143   \n",
       "4    Dealer                   1     0        2       BHK   999.009247   \n",
       "\n",
       "   READY_TO_MOVE  RESALE                      ADDRESS  LONGITUDE   LATITUDE  \\\n",
       "0              1       1        Ksfc Layout,Bangalore  12.969910  77.597960   \n",
       "1              1       1    Vishweshwara Nagar,Mysore  12.274538  76.644605   \n",
       "2              1       1             Jigani,Bangalore  12.778033  77.632191   \n",
       "3              1       1  Sector-1 Vaishali,Ghaziabad  28.642300  77.344500   \n",
       "4              0       1             New Town,Kolkata  22.592200  88.484911   \n",
       "\n",
       "   TARGET(PRICE_IN_LACS)  \n",
       "0                   55.0  \n",
       "1                   51.0  \n",
       "2                   43.0  \n",
       "3                   62.5  \n",
       "4                   60.5  "
      ]
     },
     "execution_count": 817,
     "metadata": {},
     "output_type": "execute_result"
    }
   ],
   "source": [
    "df = pd.read_csv('dataset.csv')\n",
    "df.head()"
   ]
  },
  {
   "cell_type": "markdown",
   "id": "f1e1442f",
   "metadata": {},
   "source": [
    "###### Change columns name"
   ]
  },
  {
   "cell_type": "code",
   "execution_count": 818,
   "id": "29859255",
   "metadata": {},
   "outputs": [],
   "source": [
    "col = ['Posted_By', 'Under_Construction', 'approved', 'Number_of_Rooms', 'Property_type',\n",
    "       'House_areaSQF', 'Ready_to_move', 'Resale', 'Address', 'Longitude',\n",
    "       'Latitude', 'Price']"
   ]
  },
  {
   "cell_type": "code",
   "execution_count": 819,
   "id": "04428fc6",
   "metadata": {
    "scrolled": true
   },
   "outputs": [],
   "source": [
    "df.columns = col"
   ]
  },
  {
   "cell_type": "code",
   "execution_count": 820,
   "id": "266fa00f",
   "metadata": {},
   "outputs": [
    {
     "name": "stdout",
     "output_type": "stream",
     "text": [
      "<class 'pandas.core.frame.DataFrame'>\n",
      "RangeIndex: 29451 entries, 0 to 29450\n",
      "Data columns (total 12 columns):\n",
      " #   Column              Non-Null Count  Dtype  \n",
      "---  ------              --------------  -----  \n",
      " 0   Posted_By           29451 non-null  object \n",
      " 1   Under_Construction  29451 non-null  int64  \n",
      " 2   approved            29451 non-null  int64  \n",
      " 3   Number_of_Rooms     29451 non-null  int64  \n",
      " 4   Property_type       29451 non-null  object \n",
      " 5   House_areaSQF       29451 non-null  float64\n",
      " 6   Ready_to_move       29451 non-null  int64  \n",
      " 7   Resale              29451 non-null  int64  \n",
      " 8   Address             29451 non-null  object \n",
      " 9   Longitude           29451 non-null  float64\n",
      " 10  Latitude            29451 non-null  float64\n",
      " 11  Price               29451 non-null  float64\n",
      "dtypes: float64(4), int64(5), object(3)\n",
      "memory usage: 2.7+ MB\n"
     ]
    }
   ],
   "source": [
    "df.info()"
   ]
  },
  {
   "cell_type": "markdown",
   "id": "99714848",
   "metadata": {},
   "source": [
    "###### Remove duplicates "
   ]
  },
  {
   "cell_type": "code",
   "execution_count": 821,
   "id": "1f3e1a6b",
   "metadata": {
    "scrolled": true
   },
   "outputs": [
    {
     "data": {
      "text/plain": [
       "401"
      ]
     },
     "execution_count": 821,
     "metadata": {},
     "output_type": "execute_result"
    }
   ],
   "source": [
    "df.duplicated().sum()"
   ]
  },
  {
   "cell_type": "code",
   "execution_count": 822,
   "id": "0e48e9b1",
   "metadata": {},
   "outputs": [],
   "source": [
    "df.drop_duplicates(inplace = True , ignore_index = True)"
   ]
  },
  {
   "cell_type": "code",
   "execution_count": 823,
   "id": "de9dce8b",
   "metadata": {},
   "outputs": [
    {
     "data": {
      "text/plain": [
       "RangeIndex(start=0, stop=29050, step=1)"
      ]
     },
     "execution_count": 823,
     "metadata": {},
     "output_type": "execute_result"
    }
   ],
   "source": [
    "df.index"
   ]
  },
  {
   "cell_type": "code",
   "execution_count": 824,
   "id": "0e92b584",
   "metadata": {
    "scrolled": true
   },
   "outputs": [
    {
     "data": {
      "text/plain": [
       "Posted_By             0.0\n",
       "Under_Construction    0.0\n",
       "approved              0.0\n",
       "Number_of_Rooms       0.0\n",
       "Property_type         0.0\n",
       "House_areaSQF         0.0\n",
       "Ready_to_move         0.0\n",
       "Resale                0.0\n",
       "Address               0.0\n",
       "Longitude             0.0\n",
       "Latitude              0.0\n",
       "Price                 0.0\n",
       "dtype: float64"
      ]
     },
     "execution_count": 824,
     "metadata": {},
     "output_type": "execute_result"
    }
   ],
   "source": [
    "df.isnull().mean()*100"
   ]
  },
  {
   "cell_type": "markdown",
   "id": "069dd35a",
   "metadata": {},
   "source": [
    "###### Univariate Analysis"
   ]
  },
  {
   "cell_type": "code",
   "execution_count": 825,
   "id": "6b646e1d",
   "metadata": {
    "scrolled": true
   },
   "outputs": [
    {
     "data": {
      "text/html": [
       "<div>\n",
       "<style scoped>\n",
       "    .dataframe tbody tr th:only-of-type {\n",
       "        vertical-align: middle;\n",
       "    }\n",
       "\n",
       "    .dataframe tbody tr th {\n",
       "        vertical-align: top;\n",
       "    }\n",
       "\n",
       "    .dataframe thead th {\n",
       "        text-align: right;\n",
       "    }\n",
       "</style>\n",
       "<table border=\"1\" class=\"dataframe\">\n",
       "  <thead>\n",
       "    <tr style=\"text-align: right;\">\n",
       "      <th></th>\n",
       "      <th>Dealer</th>\n",
       "      <th>Owner</th>\n",
       "      <th>Builder</th>\n",
       "    </tr>\n",
       "  </thead>\n",
       "  <tbody>\n",
       "    <tr>\n",
       "      <th>Posted_By</th>\n",
       "      <td>17961</td>\n",
       "      <td>10470</td>\n",
       "      <td>619</td>\n",
       "    </tr>\n",
       "  </tbody>\n",
       "</table>\n",
       "</div>"
      ],
      "text/plain": [
       "           Dealer  Owner  Builder\n",
       "Posted_By   17961  10470      619"
      ]
     },
     "execution_count": 825,
     "metadata": {},
     "output_type": "execute_result"
    }
   ],
   "source": [
    "df['Posted_By'].value_counts().to_frame().T"
   ]
  },
  {
   "cell_type": "code",
   "execution_count": 826,
   "id": "b81e997d",
   "metadata": {},
   "outputs": [
    {
     "data": {
      "text/plain": [
       "<AxesSubplot:xlabel='Posted_By', ylabel='count'>"
      ]
     },
     "execution_count": 826,
     "metadata": {},
     "output_type": "execute_result"
    },
    {
     "data": {
      "image/png": "[encoded data removed]",
      "text/plain": [
       "<Figure size 432x288 with 1 Axes>"
      ]
     },
     "metadata": {
      "needs_background": "light"
     },
     "output_type": "display_data"
    }
   ],
   "source": [
    "sns.countplot(df['Posted_By'])"
   ]
  },
  {
   "cell_type": "code",
   "execution_count": 827,
   "id": "7863afdf",
   "metadata": {},
   "outputs": [
    {
     "data": {
      "text/html": [
       "<div>\n",
       "<style scoped>\n",
       "    .dataframe tbody tr th:only-of-type {\n",
       "        vertical-align: middle;\n",
       "    }\n",
       "\n",
       "    .dataframe tbody tr th {\n",
       "        vertical-align: top;\n",
       "    }\n",
       "\n",
       "    .dataframe thead th {\n",
       "        text-align: right;\n",
       "    }\n",
       "</style>\n",
       "<table border=\"1\" class=\"dataframe\">\n",
       "  <thead>\n",
       "    <tr style=\"text-align: right;\">\n",
       "      <th></th>\n",
       "      <th>0</th>\n",
       "      <th>1</th>\n",
       "    </tr>\n",
       "  </thead>\n",
       "  <tbody>\n",
       "    <tr>\n",
       "      <th>Under_Construction</th>\n",
       "      <td>23851</td>\n",
       "      <td>5199</td>\n",
       "    </tr>\n",
       "  </tbody>\n",
       "</table>\n",
       "</div>"
      ],
      "text/plain": [
       "                        0     1\n",
       "Under_Construction  23851  5199"
      ]
     },
     "execution_count": 827,
     "metadata": {},
     "output_type": "execute_result"
    }
   ],
   "source": [
    "df['Under_Construction'].value_counts().to_frame().T"
   ]
  },
  {
   "cell_type": "code",
   "execution_count": 828,
   "id": "b91f7eed",
   "metadata": {},
   "outputs": [
    {
     "data": {
      "text/plain": [
       "<AxesSubplot:xlabel='Under_Construction', ylabel='count'>"
      ]
     },
     "execution_count": 828,
     "metadata": {},
     "output_type": "execute_result"
    },
    {
     "data": {
      "image/png": "[encoded data removed]",
      "text/plain": [
       "<Figure size 432x288 with 1 Axes>"
      ]
     },
     "metadata": {
      "needs_background": "light"
     },
     "output_type": "display_data"
    }
   ],
   "source": [
    "sns.countplot(df['Under_Construction'])"
   ]
  },
  {
   "cell_type": "code",
   "execution_count": 829,
   "id": "097c0cf9",
   "metadata": {},
   "outputs": [
    {
     "data": {
      "text/plain": [
       "Index(['Posted_By', 'Under_Construction', 'approved', 'Number_of_Rooms',\n",
       "       'Property_type', 'House_areaSQF', 'Ready_to_move', 'Resale', 'Address',\n",
       "       'Longitude', 'Latitude', 'Price'],\n",
       "      dtype='object')"
      ]
     },
     "execution_count": 829,
     "metadata": {},
     "output_type": "execute_result"
    }
   ],
   "source": [
    "df.columns"
   ]
  },
  {
   "cell_type": "code",
   "execution_count": 830,
   "id": "47aeb958",
   "metadata": {},
   "outputs": [
    {
     "data": {
      "text/html": [
       "<div>\n",
       "<style scoped>\n",
       "    .dataframe tbody tr th:only-of-type {\n",
       "        vertical-align: middle;\n",
       "    }\n",
       "\n",
       "    .dataframe tbody tr th {\n",
       "        vertical-align: top;\n",
       "    }\n",
       "\n",
       "    .dataframe thead th {\n",
       "        text-align: right;\n",
       "    }\n",
       "</style>\n",
       "<table border=\"1\" class=\"dataframe\">\n",
       "  <thead>\n",
       "    <tr style=\"text-align: right;\">\n",
       "      <th></th>\n",
       "      <th>0</th>\n",
       "      <th>1</th>\n",
       "    </tr>\n",
       "  </thead>\n",
       "  <tbody>\n",
       "    <tr>\n",
       "      <th>approved</th>\n",
       "      <td>19874</td>\n",
       "      <td>9176</td>\n",
       "    </tr>\n",
       "  </tbody>\n",
       "</table>\n",
       "</div>"
      ],
      "text/plain": [
       "              0     1\n",
       "approved  19874  9176"
      ]
     },
     "execution_count": 830,
     "metadata": {},
     "output_type": "execute_result"
    }
   ],
   "source": [
    "df['approved'].value_counts().to_frame().T"
   ]
  },
  {
   "cell_type": "code",
   "execution_count": 831,
   "id": "4a14819d",
   "metadata": {},
   "outputs": [
    {
     "data": {
      "text/plain": [
       "<AxesSubplot:xlabel='approved', ylabel='count'>"
      ]
     },
     "execution_count": 831,
     "metadata": {},
     "output_type": "execute_result"
    },
    {
     "data": {
      "image/png": "[encoded data removed]",
      "text/plain": [
       "<Figure size 432x288 with 1 Axes>"
      ]
     },
     "metadata": {
      "needs_background": "light"
     },
     "output_type": "display_data"
    }
   ],
   "source": [
    "sns.countplot(df['approved'])"
   ]
  },
  {
   "cell_type": "code",
   "execution_count": 832,
   "id": "b0ac9abf",
   "metadata": {
    "scrolled": false
   },
   "outputs": [
    {
     "data": {
      "text/html": [
       "<div>\n",
       "<style scoped>\n",
       "    .dataframe tbody tr th:only-of-type {\n",
       "        vertical-align: middle;\n",
       "    }\n",
       "\n",
       "    .dataframe tbody tr th {\n",
       "        vertical-align: top;\n",
       "    }\n",
       "\n",
       "    .dataframe thead th {\n",
       "        text-align: right;\n",
       "    }\n",
       "</style>\n",
       "<table border=\"1\" class=\"dataframe\">\n",
       "  <thead>\n",
       "    <tr style=\"text-align: right;\">\n",
       "      <th></th>\n",
       "      <th>2</th>\n",
       "      <th>3</th>\n",
       "      <th>1</th>\n",
       "      <th>4</th>\n",
       "      <th>5</th>\n",
       "      <th>6</th>\n",
       "      <th>7</th>\n",
       "      <th>8</th>\n",
       "      <th>20</th>\n",
       "      <th>10</th>\n",
       "      <th>15</th>\n",
       "      <th>12</th>\n",
       "      <th>9</th>\n",
       "      <th>13</th>\n",
       "      <th>17</th>\n",
       "      <th>11</th>\n",
       "    </tr>\n",
       "  </thead>\n",
       "  <tbody>\n",
       "    <tr>\n",
       "      <th>Number_of_Rooms</th>\n",
       "      <td>13164</td>\n",
       "      <td>10365</td>\n",
       "      <td>3540</td>\n",
       "      <td>1698</td>\n",
       "      <td>189</td>\n",
       "      <td>52</td>\n",
       "      <td>11</td>\n",
       "      <td>10</td>\n",
       "      <td>4</td>\n",
       "      <td>4</td>\n",
       "      <td>4</td>\n",
       "      <td>3</td>\n",
       "      <td>3</td>\n",
       "      <td>1</td>\n",
       "      <td>1</td>\n",
       "      <td>1</td>\n",
       "    </tr>\n",
       "  </tbody>\n",
       "</table>\n",
       "</div>"
      ],
      "text/plain": [
       "                    2      3     1     4    5   6   7   8   20  10  15  12  \\\n",
       "Number_of_Rooms  13164  10365  3540  1698  189  52  11  10   4   4   4   3   \n",
       "\n",
       "                 9   13  17  11  \n",
       "Number_of_Rooms   3   1   1   1  "
      ]
     },
     "execution_count": 832,
     "metadata": {},
     "output_type": "execute_result"
    }
   ],
   "source": [
    "df['Number_of_Rooms'].value_counts().to_frame().T"
   ]
  },
  {
   "cell_type": "code",
   "execution_count": 833,
   "id": "0474169b",
   "metadata": {},
   "outputs": [
    {
     "data": {
      "text/plain": [
       "BHK    29026\n",
       "RK        24\n",
       "Name: Property_type, dtype: int64"
      ]
     },
     "execution_count": 833,
     "metadata": {},
     "output_type": "execute_result"
    }
   ],
   "source": [
    "df['Property_type'].value_counts()"
   ]
  },
  {
   "cell_type": "code",
   "execution_count": 834,
   "id": "3d4c0960",
   "metadata": {},
   "outputs": [
    {
     "data": {
      "text/plain": [
       "<AxesSubplot:xlabel='Property_type', ylabel='count'>"
      ]
     },
     "execution_count": 834,
     "metadata": {},
     "output_type": "execute_result"
    },
    {
     "data": {
      "image/png": "[encoded data removed]",
      "text/plain": [
       "<Figure size 432x288 with 1 Axes>"
      ]
     },
     "metadata": {
      "needs_background": "light"
     },
     "output_type": "display_data"
    }
   ],
   "source": [
    "sns.countplot(df['Property_type'])"
   ]
  },
  {
   "cell_type": "code",
   "execution_count": 835,
   "id": "0fb7d3de",
   "metadata": {},
   "outputs": [
    {
     "data": {
      "text/plain": [
       "Index(['Posted_By', 'Under_Construction', 'approved', 'Number_of_Rooms',\n",
       "       'Property_type', 'House_areaSQF', 'Ready_to_move', 'Resale', 'Address',\n",
       "       'Longitude', 'Latitude', 'Price'],\n",
       "      dtype='object')"
      ]
     },
     "execution_count": 835,
     "metadata": {},
     "output_type": "execute_result"
    }
   ],
   "source": [
    "df.columns"
   ]
  },
  {
   "cell_type": "code",
   "execution_count": 836,
   "id": "970d1d0f",
   "metadata": {
    "scrolled": false
   },
   "outputs": [
    {
     "data": {
      "text/html": [
       "<div>\n",
       "<style scoped>\n",
       "    .dataframe tbody tr th:only-of-type {\n",
       "        vertical-align: middle;\n",
       "    }\n",
       "\n",
       "    .dataframe tbody tr th {\n",
       "        vertical-align: top;\n",
       "    }\n",
       "\n",
       "    .dataframe thead th {\n",
       "        text-align: right;\n",
       "    }\n",
       "</style>\n",
       "<table border=\"1\" class=\"dataframe\">\n",
       "  <thead>\n",
       "    <tr style=\"text-align: right;\">\n",
       "      <th></th>\n",
       "      <th>count</th>\n",
       "      <th>mean</th>\n",
       "      <th>std</th>\n",
       "      <th>min</th>\n",
       "      <th>25%</th>\n",
       "      <th>50%</th>\n",
       "      <th>75%</th>\n",
       "      <th>max</th>\n",
       "    </tr>\n",
       "  </thead>\n",
       "  <tbody>\n",
       "    <tr>\n",
       "      <th>House_areaSQF</th>\n",
       "      <td>29050.0</td>\n",
       "      <td>20031.714046</td>\n",
       "      <td>1.914411e+06</td>\n",
       "      <td>3.0</td>\n",
       "      <td>900.0</td>\n",
       "      <td>1172.741625</td>\n",
       "      <td>1550.169109</td>\n",
       "      <td>254545454.5</td>\n",
       "    </tr>\n",
       "  </tbody>\n",
       "</table>\n",
       "</div>"
      ],
      "text/plain": [
       "                 count          mean           std  min    25%          50%  \\\n",
       "House_areaSQF  29050.0  20031.714046  1.914411e+06  3.0  900.0  1172.741625   \n",
       "\n",
       "                       75%          max  \n",
       "House_areaSQF  1550.169109  254545454.5  "
      ]
     },
     "execution_count": 836,
     "metadata": {},
     "output_type": "execute_result"
    }
   ],
   "source": [
    "df['House_areaSQF'].describe().to_frame().T"
   ]
  },
  {
   "cell_type": "code",
   "execution_count": 837,
   "id": "3874e9ab",
   "metadata": {
    "scrolled": true
   },
   "outputs": [
    {
     "data": {
      "text/plain": [
       "<AxesSubplot:xlabel='House_areaSQF'>"
      ]
     },
     "execution_count": 837,
     "metadata": {},
     "output_type": "execute_result"
    },
    {
     "data": {
      "image/png": "[encoded data removed]",
      "text/plain": [
       "<Figure size 432x288 with 1 Axes>"
      ]
     },
     "metadata": {
      "needs_background": "light"
     },
     "output_type": "display_data"
    }
   ],
   "source": [
    "sns.boxplot(df['House_areaSQF'])"
   ]
  },
  {
   "cell_type": "code",
   "execution_count": 838,
   "id": "d23898e6",
   "metadata": {},
   "outputs": [
    {
     "data": {
      "text/plain": [
       "<AxesSubplot:xlabel='House_areaSQF', ylabel='Density'>"
      ]
     },
     "execution_count": 838,
     "metadata": {},
     "output_type": "execute_result"
    },
    {
     "data": {
      "image/png": "[encoded data removed]",
      "text/plain": [
       "<Figure size 432x288 with 1 Axes>"
      ]
     },
     "metadata": {
      "needs_background": "light"
     },
     "output_type": "display_data"
    }
   ],
   "source": [
    "sns.distplot(df['House_areaSQF'])"
   ]
  },
  {
   "cell_type": "code",
   "execution_count": 839,
   "id": "269f2e09",
   "metadata": {},
   "outputs": [
    {
     "data": {
      "text/plain": [
       "1612"
      ]
     },
     "execution_count": 839,
     "metadata": {},
     "output_type": "execute_result"
    }
   ],
   "source": [
    "len(detect_outliers(df, 0 , ['House_areaSQF']))"
   ]
  },
  {
   "cell_type": "markdown",
   "id": "3012fddf",
   "metadata": {},
   "source": [
    "###### Drop House area outliers "
   ]
  },
  {
   "cell_type": "code",
   "execution_count": 840,
   "id": "c09ca309",
   "metadata": {},
   "outputs": [],
   "source": [
    "df.drop(detect_outliers(df, 0 , ['House_areaSQF']) , axis = 0 , inplace = True)"
   ]
  },
  {
   "cell_type": "code",
   "execution_count": 841,
   "id": "9688699f",
   "metadata": {},
   "outputs": [],
   "source": [
    "df.reset_index(inplace = True , drop = True)"
   ]
  },
  {
   "cell_type": "code",
   "execution_count": 842,
   "id": "2334ece2",
   "metadata": {},
   "outputs": [
    {
     "data": {
      "text/plain": [
       "<AxesSubplot:xlabel='House_areaSQF'>"
      ]
     },
     "execution_count": 842,
     "metadata": {},
     "output_type": "execute_result"
    },
    {
     "data": {
      "image/png": "[encoded data removed]",
      "text/plain": [
       "<Figure size 432x288 with 1 Axes>"
      ]
     },
     "metadata": {
      "needs_background": "light"
     },
     "output_type": "display_data"
    }
   ],
   "source": [
    "sns.boxplot(df['House_areaSQF'])"
   ]
  },
  {
   "cell_type": "code",
   "execution_count": 843,
   "id": "f33f5bce",
   "metadata": {},
   "outputs": [
    {
     "data": {
      "text/plain": [
       "<AxesSubplot:xlabel='House_areaSQF', ylabel='Density'>"
      ]
     },
     "execution_count": 843,
     "metadata": {},
     "output_type": "execute_result"
    },
    {
     "data": {
      "image/png": "[encoded data removed]",
      "text/plain": [
       "<Figure size 432x288 with 1 Axes>"
      ]
     },
     "metadata": {
      "needs_background": "light"
     },
     "output_type": "display_data"
    }
   ],
   "source": [
    "sns.distplot(df['House_areaSQF'])"
   ]
  },
  {
   "cell_type": "code",
   "execution_count": 844,
   "id": "edc1626e",
   "metadata": {},
   "outputs": [
    {
     "data": {
      "text/html": [
       "<div>\n",
       "<style scoped>\n",
       "    .dataframe tbody tr th:only-of-type {\n",
       "        vertical-align: middle;\n",
       "    }\n",
       "\n",
       "    .dataframe tbody tr th {\n",
       "        vertical-align: top;\n",
       "    }\n",
       "\n",
       "    .dataframe thead th {\n",
       "        text-align: right;\n",
       "    }\n",
       "</style>\n",
       "<table border=\"1\" class=\"dataframe\">\n",
       "  <thead>\n",
       "    <tr style=\"text-align: right;\">\n",
       "      <th></th>\n",
       "      <th>1</th>\n",
       "      <th>0</th>\n",
       "    </tr>\n",
       "  </thead>\n",
       "  <tbody>\n",
       "    <tr>\n",
       "      <th>Ready_to_move</th>\n",
       "      <td>22518</td>\n",
       "      <td>4920</td>\n",
       "    </tr>\n",
       "  </tbody>\n",
       "</table>\n",
       "</div>"
      ],
      "text/plain": [
       "                   1     0\n",
       "Ready_to_move  22518  4920"
      ]
     },
     "execution_count": 844,
     "metadata": {},
     "output_type": "execute_result"
    }
   ],
   "source": [
    "df['Ready_to_move'].value_counts().to_frame().T"
   ]
  },
  {
   "cell_type": "code",
   "execution_count": 845,
   "id": "c44b63a8",
   "metadata": {},
   "outputs": [
    {
     "data": {
      "text/plain": [
       "<AxesSubplot:xlabel='Ready_to_move', ylabel='count'>"
      ]
     },
     "execution_count": 845,
     "metadata": {},
     "output_type": "execute_result"
    },
    {
     "data": {
      "image/png": "[encoded data removed]",
      "text/plain": [
       "<Figure size 432x288 with 1 Axes>"
      ]
     },
     "metadata": {
      "needs_background": "light"
     },
     "output_type": "display_data"
    }
   ],
   "source": [
    "sns.countplot(df['Ready_to_move'])"
   ]
  },
  {
   "cell_type": "code",
   "execution_count": 846,
   "id": "0f4a0443",
   "metadata": {},
   "outputs": [
    {
     "data": {
      "text/plain": [
       "1    25642\n",
       "0     1796\n",
       "Name: Resale, dtype: int64"
      ]
     },
     "execution_count": 846,
     "metadata": {},
     "output_type": "execute_result"
    }
   ],
   "source": [
    "df['Resale'].value_counts()"
   ]
  },
  {
   "cell_type": "code",
   "execution_count": 847,
   "id": "2bc8c732",
   "metadata": {},
   "outputs": [
    {
     "data": {
      "text/plain": [
       "<AxesSubplot:xlabel='Resale', ylabel='count'>"
      ]
     },
     "execution_count": 847,
     "metadata": {},
     "output_type": "execute_result"
    },
    {
     "data": {
      "image/png": "[encoded data removed]",
      "text/plain": [
       "<Figure size 432x288 with 1 Axes>"
      ]
     },
     "metadata": {
      "needs_background": "light"
     },
     "output_type": "display_data"
    }
   ],
   "source": [
    "sns.countplot(df['Resale'])"
   ]
  },
  {
   "cell_type": "code",
   "execution_count": 848,
   "id": "382b257f",
   "metadata": {},
   "outputs": [
    {
     "data": {
      "text/plain": [
       "Index(['Posted_By', 'Under_Construction', 'approved', 'Number_of_Rooms',\n",
       "       'Property_type', 'House_areaSQF', 'Ready_to_move', 'Resale', 'Address',\n",
       "       'Longitude', 'Latitude', 'Price'],\n",
       "      dtype='object')"
      ]
     },
     "execution_count": 848,
     "metadata": {},
     "output_type": "execute_result"
    }
   ],
   "source": [
    "df.columns"
   ]
  },
  {
   "cell_type": "markdown",
   "id": "ee713f1f",
   "metadata": {},
   "source": [
    "###### Get city & road from address"
   ]
  },
  {
   "cell_type": "code",
   "execution_count": 849,
   "id": "779d87ca",
   "metadata": {},
   "outputs": [],
   "source": [
    "df['Road'] = df['Address'].apply(lambda x : x.split(',')[0].strip().lower())\n",
    "df['City'] = df['Address'].apply(lambda x : x.split(',')[1].strip().lower())"
   ]
  },
  {
   "cell_type": "code",
   "execution_count": 850,
   "id": "053daf83",
   "metadata": {},
   "outputs": [],
   "source": [
    "cty_freq = df['City'].value_counts()\n",
    "cty_lst = [i for i,j in zip(cty_freq.index , cty_freq.values) if j < 80]\n",
    "df['City'] = df['City'].apply(lambda x : 'Other' if x in cty_lst else x)"
   ]
  },
  {
   "cell_type": "code",
   "execution_count": 851,
   "id": "d67cc01f",
   "metadata": {},
   "outputs": [],
   "source": [
    "rod_freq = df['Road'].value_counts()\n",
    "rod_lst = [i for i,j in zip(rod_freq.index , rod_freq.values) if j < 70]\n",
    "df['Road'] = df['Road'].apply(lambda x : 'Other' if x in rod_lst else x)"
   ]
  },
  {
   "cell_type": "code",
   "execution_count": 852,
   "id": "d3ad559f",
   "metadata": {},
   "outputs": [
    {
     "data": {
      "text/plain": [
       "47"
      ]
     },
     "execution_count": 852,
     "metadata": {},
     "output_type": "execute_result"
    }
   ],
   "source": [
    "len(df['Road'].value_counts())"
   ]
  },
  {
   "cell_type": "code",
   "execution_count": 853,
   "id": "d02dad59",
   "metadata": {},
   "outputs": [],
   "source": [
    "df.drop(['Address','Longitude', 'Latitude'] , axis = 1 , inplace = True)"
   ]
  },
  {
   "cell_type": "markdown",
   "id": "b5606acb",
   "metadata": {},
   "source": [
    "###### Encode categorical Columns "
   ]
  },
  {
   "cell_type": "code",
   "execution_count": 854,
   "id": "72396faa",
   "metadata": {},
   "outputs": [],
   "source": [
    "col_to_encode = ['Posted_By' , 'Property_type' , 'Road' , 'City']"
   ]
  },
  {
   "cell_type": "code",
   "execution_count": 855,
   "id": "79309d2f",
   "metadata": {},
   "outputs": [],
   "source": [
    "encoder = BinaryEncoder()"
   ]
  },
  {
   "cell_type": "code",
   "execution_count": 856,
   "id": "d9e0c2c8",
   "metadata": {},
   "outputs": [],
   "source": [
    "df = pd.concat([df , encoder.fit_transform(df[col_to_encode]) ] , axis = 1)"
   ]
  },
  {
   "cell_type": "code",
   "execution_count": 857,
   "id": "60abb2b6",
   "metadata": {},
   "outputs": [],
   "source": [
    "df.drop(col_to_encode , inplace = True , axis = 1 )"
   ]
  },
  {
   "cell_type": "code",
   "execution_count": 858,
   "id": "972672b6",
   "metadata": {},
   "outputs": [
    {
     "data": {
      "text/html": [
       "<div>\n",
       "<style scoped>\n",
       "    .dataframe tbody tr th:only-of-type {\n",
       "        vertical-align: middle;\n",
       "    }\n",
       "\n",
       "    .dataframe tbody tr th {\n",
       "        vertical-align: top;\n",
       "    }\n",
       "\n",
       "    .dataframe thead th {\n",
       "        text-align: right;\n",
       "    }\n",
       "</style>\n",
       "<table border=\"1\" class=\"dataframe\">\n",
       "  <thead>\n",
       "    <tr style=\"text-align: right;\">\n",
       "      <th></th>\n",
       "      <th>Under_Construction</th>\n",
       "      <th>approved</th>\n",
       "      <th>Number_of_Rooms</th>\n",
       "      <th>House_areaSQF</th>\n",
       "      <th>Ready_to_move</th>\n",
       "      <th>Resale</th>\n",
       "      <th>Price</th>\n",
       "      <th>Posted_By_0</th>\n",
       "      <th>Posted_By_1</th>\n",
       "      <th>Property_type_0</th>\n",
       "      <th>...</th>\n",
       "      <th>Road_2</th>\n",
       "      <th>Road_3</th>\n",
       "      <th>Road_4</th>\n",
       "      <th>Road_5</th>\n",
       "      <th>City_0</th>\n",
       "      <th>City_1</th>\n",
       "      <th>City_2</th>\n",
       "      <th>City_3</th>\n",
       "      <th>City_4</th>\n",
       "      <th>City_5</th>\n",
       "    </tr>\n",
       "  </thead>\n",
       "  <tbody>\n",
       "    <tr>\n",
       "      <th>0</th>\n",
       "      <td>0</td>\n",
       "      <td>0</td>\n",
       "      <td>2</td>\n",
       "      <td>1300.236407</td>\n",
       "      <td>1</td>\n",
       "      <td>1</td>\n",
       "      <td>55.0</td>\n",
       "      <td>0</td>\n",
       "      <td>1</td>\n",
       "      <td>0</td>\n",
       "      <td>...</td>\n",
       "      <td>0</td>\n",
       "      <td>0</td>\n",
       "      <td>0</td>\n",
       "      <td>1</td>\n",
       "      <td>0</td>\n",
       "      <td>0</td>\n",
       "      <td>0</td>\n",
       "      <td>0</td>\n",
       "      <td>0</td>\n",
       "      <td>1</td>\n",
       "    </tr>\n",
       "    <tr>\n",
       "      <th>1</th>\n",
       "      <td>0</td>\n",
       "      <td>0</td>\n",
       "      <td>2</td>\n",
       "      <td>1275.000000</td>\n",
       "      <td>1</td>\n",
       "      <td>1</td>\n",
       "      <td>51.0</td>\n",
       "      <td>1</td>\n",
       "      <td>0</td>\n",
       "      <td>0</td>\n",
       "      <td>...</td>\n",
       "      <td>0</td>\n",
       "      <td>0</td>\n",
       "      <td>0</td>\n",
       "      <td>1</td>\n",
       "      <td>0</td>\n",
       "      <td>0</td>\n",
       "      <td>0</td>\n",
       "      <td>0</td>\n",
       "      <td>1</td>\n",
       "      <td>0</td>\n",
       "    </tr>\n",
       "    <tr>\n",
       "      <th>2</th>\n",
       "      <td>0</td>\n",
       "      <td>0</td>\n",
       "      <td>2</td>\n",
       "      <td>933.159722</td>\n",
       "      <td>1</td>\n",
       "      <td>1</td>\n",
       "      <td>43.0</td>\n",
       "      <td>0</td>\n",
       "      <td>1</td>\n",
       "      <td>0</td>\n",
       "      <td>...</td>\n",
       "      <td>0</td>\n",
       "      <td>0</td>\n",
       "      <td>0</td>\n",
       "      <td>1</td>\n",
       "      <td>0</td>\n",
       "      <td>0</td>\n",
       "      <td>0</td>\n",
       "      <td>0</td>\n",
       "      <td>0</td>\n",
       "      <td>1</td>\n",
       "    </tr>\n",
       "    <tr>\n",
       "      <th>3</th>\n",
       "      <td>0</td>\n",
       "      <td>1</td>\n",
       "      <td>2</td>\n",
       "      <td>929.921143</td>\n",
       "      <td>1</td>\n",
       "      <td>1</td>\n",
       "      <td>62.5</td>\n",
       "      <td>0</td>\n",
       "      <td>1</td>\n",
       "      <td>0</td>\n",
       "      <td>...</td>\n",
       "      <td>0</td>\n",
       "      <td>0</td>\n",
       "      <td>0</td>\n",
       "      <td>1</td>\n",
       "      <td>0</td>\n",
       "      <td>0</td>\n",
       "      <td>0</td>\n",
       "      <td>0</td>\n",
       "      <td>1</td>\n",
       "      <td>1</td>\n",
       "    </tr>\n",
       "    <tr>\n",
       "      <th>4</th>\n",
       "      <td>1</td>\n",
       "      <td>0</td>\n",
       "      <td>2</td>\n",
       "      <td>999.009247</td>\n",
       "      <td>0</td>\n",
       "      <td>1</td>\n",
       "      <td>60.5</td>\n",
       "      <td>1</td>\n",
       "      <td>0</td>\n",
       "      <td>0</td>\n",
       "      <td>...</td>\n",
       "      <td>0</td>\n",
       "      <td>0</td>\n",
       "      <td>1</td>\n",
       "      <td>0</td>\n",
       "      <td>0</td>\n",
       "      <td>0</td>\n",
       "      <td>0</td>\n",
       "      <td>1</td>\n",
       "      <td>0</td>\n",
       "      <td>0</td>\n",
       "    </tr>\n",
       "    <tr>\n",
       "      <th>...</th>\n",
       "      <td>...</td>\n",
       "      <td>...</td>\n",
       "      <td>...</td>\n",
       "      <td>...</td>\n",
       "      <td>...</td>\n",
       "      <td>...</td>\n",
       "      <td>...</td>\n",
       "      <td>...</td>\n",
       "      <td>...</td>\n",
       "      <td>...</td>\n",
       "      <td>...</td>\n",
       "      <td>...</td>\n",
       "      <td>...</td>\n",
       "      <td>...</td>\n",
       "      <td>...</td>\n",
       "      <td>...</td>\n",
       "      <td>...</td>\n",
       "      <td>...</td>\n",
       "      <td>...</td>\n",
       "      <td>...</td>\n",
       "      <td>...</td>\n",
       "    </tr>\n",
       "    <tr>\n",
       "      <th>27433</th>\n",
       "      <td>0</td>\n",
       "      <td>0</td>\n",
       "      <td>3</td>\n",
       "      <td>2500.000000</td>\n",
       "      <td>1</td>\n",
       "      <td>1</td>\n",
       "      <td>45.0</td>\n",
       "      <td>0</td>\n",
       "      <td>1</td>\n",
       "      <td>0</td>\n",
       "      <td>...</td>\n",
       "      <td>0</td>\n",
       "      <td>0</td>\n",
       "      <td>0</td>\n",
       "      <td>1</td>\n",
       "      <td>0</td>\n",
       "      <td>0</td>\n",
       "      <td>0</td>\n",
       "      <td>0</td>\n",
       "      <td>1</td>\n",
       "      <td>0</td>\n",
       "    </tr>\n",
       "    <tr>\n",
       "      <th>27434</th>\n",
       "      <td>0</td>\n",
       "      <td>0</td>\n",
       "      <td>2</td>\n",
       "      <td>769.230769</td>\n",
       "      <td>1</td>\n",
       "      <td>1</td>\n",
       "      <td>16.0</td>\n",
       "      <td>0</td>\n",
       "      <td>1</td>\n",
       "      <td>0</td>\n",
       "      <td>...</td>\n",
       "      <td>0</td>\n",
       "      <td>0</td>\n",
       "      <td>0</td>\n",
       "      <td>1</td>\n",
       "      <td>0</td>\n",
       "      <td>0</td>\n",
       "      <td>0</td>\n",
       "      <td>0</td>\n",
       "      <td>1</td>\n",
       "      <td>0</td>\n",
       "    </tr>\n",
       "    <tr>\n",
       "      <th>27435</th>\n",
       "      <td>0</td>\n",
       "      <td>0</td>\n",
       "      <td>2</td>\n",
       "      <td>1022.641509</td>\n",
       "      <td>1</td>\n",
       "      <td>1</td>\n",
       "      <td>27.1</td>\n",
       "      <td>1</td>\n",
       "      <td>0</td>\n",
       "      <td>0</td>\n",
       "      <td>...</td>\n",
       "      <td>0</td>\n",
       "      <td>1</td>\n",
       "      <td>1</td>\n",
       "      <td>0</td>\n",
       "      <td>0</td>\n",
       "      <td>0</td>\n",
       "      <td>0</td>\n",
       "      <td>1</td>\n",
       "      <td>1</td>\n",
       "      <td>0</td>\n",
       "    </tr>\n",
       "    <tr>\n",
       "      <th>27436</th>\n",
       "      <td>0</td>\n",
       "      <td>0</td>\n",
       "      <td>2</td>\n",
       "      <td>927.079009</td>\n",
       "      <td>1</td>\n",
       "      <td>1</td>\n",
       "      <td>67.0</td>\n",
       "      <td>0</td>\n",
       "      <td>1</td>\n",
       "      <td>0</td>\n",
       "      <td>...</td>\n",
       "      <td>0</td>\n",
       "      <td>0</td>\n",
       "      <td>0</td>\n",
       "      <td>1</td>\n",
       "      <td>0</td>\n",
       "      <td>0</td>\n",
       "      <td>1</td>\n",
       "      <td>0</td>\n",
       "      <td>0</td>\n",
       "      <td>0</td>\n",
       "    </tr>\n",
       "    <tr>\n",
       "      <th>27437</th>\n",
       "      <td>0</td>\n",
       "      <td>1</td>\n",
       "      <td>2</td>\n",
       "      <td>896.774194</td>\n",
       "      <td>1</td>\n",
       "      <td>1</td>\n",
       "      <td>27.8</td>\n",
       "      <td>1</td>\n",
       "      <td>0</td>\n",
       "      <td>0</td>\n",
       "      <td>...</td>\n",
       "      <td>0</td>\n",
       "      <td>1</td>\n",
       "      <td>1</td>\n",
       "      <td>1</td>\n",
       "      <td>0</td>\n",
       "      <td>0</td>\n",
       "      <td>0</td>\n",
       "      <td>1</td>\n",
       "      <td>1</td>\n",
       "      <td>0</td>\n",
       "    </tr>\n",
       "  </tbody>\n",
       "</table>\n",
       "<p>27438 rows × 23 columns</p>\n",
       "</div>"
      ],
      "text/plain": [
       "       Under_Construction  approved  Number_of_Rooms  House_areaSQF  \\\n",
       "0                       0         0                2    1300.236407   \n",
       "1                       0         0                2    1275.000000   \n",
       "2                       0         0                2     933.159722   \n",
       "3                       0         1                2     929.921143   \n",
       "4                       1         0                2     999.009247   \n",
       "...                   ...       ...              ...            ...   \n",
       "27433                   0         0                3    2500.000000   \n",
       "27434                   0         0                2     769.230769   \n",
       "27435                   0         0                2    1022.641509   \n",
       "27436                   0         0                2     927.079009   \n",
       "27437                   0         1                2     896.774194   \n",
       "\n",
       "       Ready_to_move  Resale  Price  Posted_By_0  Posted_By_1  \\\n",
       "0                  1       1   55.0            0            1   \n",
       "1                  1       1   51.0            1            0   \n",
       "2                  1       1   43.0            0            1   \n",
       "3                  1       1   62.5            0            1   \n",
       "4                  0       1   60.5            1            0   \n",
       "...              ...     ...    ...          ...          ...   \n",
       "27433              1       1   45.0            0            1   \n",
       "27434              1       1   16.0            0            1   \n",
       "27435              1       1   27.1            1            0   \n",
       "27436              1       1   67.0            0            1   \n",
       "27437              1       1   27.8            1            0   \n",
       "\n",
       "       Property_type_0  ...  Road_2  Road_3  Road_4  Road_5  City_0  City_1  \\\n",
       "0                    0  ...       0       0       0       1       0       0   \n",
       "1                    0  ...       0       0       0       1       0       0   \n",
       "2                    0  ...       0       0       0       1       0       0   \n",
       "3                    0  ...       0       0       0       1       0       0   \n",
       "4                    0  ...       0       0       1       0       0       0   \n",
       "...                ...  ...     ...     ...     ...     ...     ...     ...   \n",
       "27433                0  ...       0       0       0       1       0       0   \n",
       "27434                0  ...       0       0       0       1       0       0   \n",
       "27435                0  ...       0       1       1       0       0       0   \n",
       "27436                0  ...       0       0       0       1       0       0   \n",
       "27437                0  ...       0       1       1       1       0       0   \n",
       "\n",
       "       City_2  City_3  City_4  City_5  \n",
       "0           0       0       0       1  \n",
       "1           0       0       1       0  \n",
       "2           0       0       0       1  \n",
       "3           0       0       1       1  \n",
       "4           0       1       0       0  \n",
       "...       ...     ...     ...     ...  \n",
       "27433       0       0       1       0  \n",
       "27434       0       0       1       0  \n",
       "27435       0       1       1       0  \n",
       "27436       1       0       0       0  \n",
       "27437       0       1       1       0  \n",
       "\n",
       "[27438 rows x 23 columns]"
      ]
     },
     "execution_count": 858,
     "metadata": {},
     "output_type": "execute_result"
    }
   ],
   "source": [
    "df"
   ]
  },
  {
   "cell_type": "markdown",
   "id": "56b76646",
   "metadata": {},
   "source": [
    "###### Split data into train & test "
   ]
  },
  {
   "cell_type": "code",
   "execution_count": 859,
   "id": "247d321c",
   "metadata": {},
   "outputs": [],
   "source": [
    "x = df.drop(['Price'] , axis = 1)\n",
    "y = np.log(df['Price'])"
   ]
  },
  {
   "cell_type": "code",
   "execution_count": 860,
   "id": "61a02d2b",
   "metadata": {},
   "outputs": [],
   "source": [
    "x_train , x_test , y_train , y_test = train_test_split(x , y , test_size = 0.20 \n",
    "                                                       , random_state = 7)"
   ]
  },
  {
   "cell_type": "markdown",
   "id": "02a4c66f",
   "metadata": {},
   "source": [
    "###### Scale numerical columns "
   ]
  },
  {
   "cell_type": "code",
   "execution_count": 861,
   "id": "38fab6a6",
   "metadata": {},
   "outputs": [],
   "source": [
    "sclr = RobustScaler()"
   ]
  },
  {
   "cell_type": "code",
   "execution_count": 862,
   "id": "afb4cfbf",
   "metadata": {},
   "outputs": [],
   "source": [
    "col_to_scale = ['House_areaSQF' , 'Number_of_Rooms']"
   ]
  },
  {
   "cell_type": "code",
   "execution_count": 863,
   "id": "335c53c3",
   "metadata": {},
   "outputs": [],
   "source": [
    "x_train[col_to_scale] = sclr.fit_transform(x_train[col_to_scale])"
   ]
  },
  {
   "cell_type": "code",
   "execution_count": 864,
   "id": "96b4a346",
   "metadata": {},
   "outputs": [],
   "source": [
    "x_test[col_to_scale] = sclr.transform(x_test[col_to_scale])"
   ]
  },
  {
   "cell_type": "code",
   "execution_count": 865,
   "id": "2acb66c0",
   "metadata": {},
   "outputs": [],
   "source": [
    "model = LinearRegression()"
   ]
  },
  {
   "cell_type": "code",
   "execution_count": 866,
   "id": "df010984",
   "metadata": {},
   "outputs": [
    {
     "data": {
      "text/html": [
       "<style>#sk-container-id-14 {color: black;background-color: white;}#sk-container-id-14 pre{padding: 0;}#sk-container-id-14 div.sk-toggleable {background-color: white;}#sk-container-id-14 label.sk-toggleable__label {cursor: pointer;display: block;width: 100%;margin-bottom: 0;padding: 0.3em;box-sizing: border-box;text-align: center;}#sk-container-id-14 label.sk-toggleable__label-arrow:before {content: \"▸\";float: left;margin-right: 0.25em;color: #696969;}#sk-container-id-14 label.sk-toggleable__label-arrow:hover:before {color: black;}#sk-container-id-14 div.sk-estimator:hover label.sk-toggleable__label-arrow:before {color: black;}#sk-container-id-14 div.sk-toggleable__content {max-height: 0;max-width: 0;overflow: hidden;text-align: left;background-color: #f0f8ff;}#sk-container-id-14 div.sk-toggleable__content pre {margin: 0.2em;color: black;border-radius: 0.25em;background-color: #f0f8ff;}#sk-container-id-14 input.sk-toggleable__control:checked~div.sk-toggleable__content {max-height: 200px;max-width: 100%;overflow: auto;}#sk-container-id-14 input.sk-toggleable__control:checked~label.sk-toggleable__label-arrow:before {content: \"▾\";}#sk-container-id-14 div.sk-estimator input.sk-toggleable__control:checked~label.sk-toggleable__label {background-color: #d4ebff;}#sk-container-id-14 div.sk-label input.sk-toggleable__control:checked~label.sk-toggleable__label {background-color: #d4ebff;}#sk-container-id-14 input.sk-hidden--visually {border: 0;clip: rect(1px 1px 1px 1px);clip: rect(1px, 1px, 1px, 1px);height: 1px;margin: -1px;overflow: hidden;padding: 0;position: absolute;width: 1px;}#sk-container-id-14 div.sk-estimator {font-family: monospace;background-color: #f0f8ff;border: 1px dotted black;border-radius: 0.25em;box-sizing: border-box;margin-bottom: 0.5em;}#sk-container-id-14 div.sk-estimator:hover {background-color: #d4ebff;}#sk-container-id-14 div.sk-parallel-item::after {content: \"\";width: 100%;border-bottom: 1px solid gray;flex-grow: 1;}#sk-container-id-14 div.sk-label:hover label.sk-toggleable__label {background-color: #d4ebff;}#sk-container-id-14 div.sk-serial::before {content: \"\";position: absolute;border-left: 1px solid gray;box-sizing: border-box;top: 0;bottom: 0;left: 50%;z-index: 0;}#sk-container-id-14 div.sk-serial {display: flex;flex-direction: column;align-items: center;background-color: white;padding-right: 0.2em;padding-left: 0.2em;position: relative;}#sk-container-id-14 div.sk-item {position: relative;z-index: 1;}#sk-container-id-14 div.sk-parallel {display: flex;align-items: stretch;justify-content: center;background-color: white;position: relative;}#sk-container-id-14 div.sk-item::before, #sk-container-id-14 div.sk-parallel-item::before {content: \"\";position: absolute;border-left: 1px solid gray;box-sizing: border-box;top: 0;bottom: 0;left: 50%;z-index: -1;}#sk-container-id-14 div.sk-parallel-item {display: flex;flex-direction: column;z-index: 1;position: relative;background-color: white;}#sk-container-id-14 div.sk-parallel-item:first-child::after {align-self: flex-end;width: 50%;}#sk-container-id-14 div.sk-parallel-item:last-child::after {align-self: flex-start;width: 50%;}#sk-container-id-14 div.sk-parallel-item:only-child::after {width: 0;}#sk-container-id-14 div.sk-dashed-wrapped {border: 1px dashed gray;margin: 0 0.4em 0.5em 0.4em;box-sizing: border-box;padding-bottom: 0.4em;background-color: white;}#sk-container-id-14 div.sk-label label {font-family: monospace;font-weight: bold;display: inline-block;line-height: 1.2em;}#sk-container-id-14 div.sk-label-container {text-align: center;}#sk-container-id-14 div.sk-container {/* jupyter's `normalize.less` sets `[hidden] { display: none; }` but bootstrap.min.css set `[hidden] { display: none !important; }` so we also need the `!important` here to be able to override the default hidden behavior on the sphinx rendered scikit-learn.org. See: https://github.com/scikit-learn/scikit-learn/issues/21755 */display: inline-block !important;position: relative;}#sk-container-id-14 div.sk-text-repr-fallback {display: none;}</style><div id=\"sk-container-id-14\" class=\"sk-top-container\"><div class=\"sk-text-repr-fallback\"><pre>LinearRegression()</pre><b>In a Jupyter environment, please rerun this cell to show the HTML representation or trust the notebook. <br />On GitHub, the HTML representation is unable to render, please try loading this page with nbviewer.org.</b></div><div class=\"sk-container\" hidden><div class=\"sk-item\"><div class=\"sk-estimator sk-toggleable\"><input class=\"sk-toggleable__control sk-hidden--visually\" id=\"sk-estimator-id-14\" type=\"checkbox\" checked><label for=\"sk-estimator-id-14\" class=\"sk-toggleable__label sk-toggleable__label-arrow\">LinearRegression</label><div class=\"sk-toggleable__content\"><pre>LinearRegression()</pre></div></div></div></div></div>"
      ],
      "text/plain": [
       "LinearRegression()"
      ]
     },
     "execution_count": 866,
     "metadata": {},
     "output_type": "execute_result"
    }
   ],
   "source": [
    "model.fit(x_train , y_train)"
   ]
  },
  {
   "cell_type": "code",
   "execution_count": 867,
   "id": "099d8c27",
   "metadata": {},
   "outputs": [],
   "source": [
    "y_pred = model.predict(x_test)"
   ]
  },
  {
   "cell_type": "code",
   "execution_count": 868,
   "id": "64fbed39",
   "metadata": {},
   "outputs": [
    {
     "data": {
      "text/plain": [
       "0.5213734210553259"
      ]
     },
     "execution_count": 868,
     "metadata": {},
     "output_type": "execute_result"
    }
   ],
   "source": [
    "mean_squared_error(y_true = y_test , y_pred = y_pred , squared = False)"
   ]
  },
  {
   "cell_type": "code",
   "execution_count": 869,
   "id": "0ce6d440",
   "metadata": {},
   "outputs": [
    {
     "data": {
      "text/plain": [
       "0.39352110234803367"
      ]
     },
     "execution_count": 869,
     "metadata": {},
     "output_type": "execute_result"
    }
   ],
   "source": [
    "mean_absolute_error(y_true = y_test , y_pred = y_pred)"
   ]
  },
  {
   "cell_type": "code",
   "execution_count": 870,
   "id": "9988a7ba",
   "metadata": {},
   "outputs": [
    {
     "data": {
      "text/plain": [
       "0.5301398418590403"
      ]
     },
     "execution_count": 870,
     "metadata": {},
     "output_type": "execute_result"
    }
   ],
   "source": [
    "model.score(x_test , y_test)"
   ]
  },
  {
   "cell_type": "code",
   "execution_count": 871,
   "id": "fd1133a6",
   "metadata": {},
   "outputs": [
    {
     "data": {
      "text/plain": [
       "0.5301398418590403"
      ]
     },
     "execution_count": 871,
     "metadata": {},
     "output_type": "execute_result"
    }
   ],
   "source": [
    "r2_score(y_true = y_test , y_pred = y_pred)"
   ]
  },
  {
   "cell_type": "code",
   "execution_count": 872,
   "id": "40b3c9d3",
   "metadata": {},
   "outputs": [
    {
     "data": {
      "text/plain": [
       "['model.pkl']"
      ]
     },
     "execution_count": 872,
     "metadata": {},
     "output_type": "execute_result"
    }
   ],
   "source": [
    "joblib.dump(model , 'model.pkl')"
   ]
  },
  {
   "cell_type": "code",
   "execution_count": 873,
   "id": "258d2707",
   "metadata": {},
   "outputs": [
    {
     "data": {
      "text/plain": [
       "['sclr.pkl']"
      ]
     },
     "execution_count": 873,
     "metadata": {},
     "output_type": "execute_result"
    }
   ],
   "source": [
    "joblib.dump(sclr , 'sclr.pkl') "
   ]
  },
  {
   "cell_type": "code",
   "execution_count": null,
   "id": "5f8bfd65",
   "metadata": {},
   "outputs": [],
   "source": []
  }
 ],
 "metadata": {
  "kernelspec": {
   "display_name": "Python 3 (ipykernel)",
   "language": "python",
   "name": "python3"
  },
  "language_info": {
   "codemirror_mode": {
    "name": "ipython",
    "version": 3
   },
   "file_extension": ".py",
   "mimetype": "text/x-python",
   "name": "python",
   "nbconvert_exporter": "python",
   "pygments_lexer": "ipython3",
   "version": "3.10.4"
  }
 },
 "nbformat": 4,
 "nbformat_minor": 5
}
