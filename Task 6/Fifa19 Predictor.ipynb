{
 "cells": [
  {
   "cell_type": "markdown",
   "id": "3bd395de",
   "metadata": {},
   "source": [
    "##### Import Modules "
   ]
  },
  {
   "cell_type": "code",
   "execution_count": 415,
   "id": "be981364",
   "metadata": {},
   "outputs": [],
   "source": [
    "import pandas as pd \n",
    "import numpy as np \n",
    "import seaborn as sns\n",
    "import matplotlib.pyplot as plt \n",
    "import warnings"
   ]
  },
  {
   "cell_type": "code",
   "execution_count": 416,
   "id": "8c6dca47",
   "metadata": {},
   "outputs": [],
   "source": [
    "from category_encoders import BinaryEncoder\n",
    "from datasist.structdata import detect_outliers\n",
    "from sklearn.linear_model import LinearRegression\n",
    "from sklearn.model_selection import train_test_split\n",
    "from sklearn.preprocessing import PolynomialFeatures , StandardScaler , RobustScaler\n",
    "from sklearn.metrics import r2_score , mean_squared_error"
   ]
  },
  {
   "cell_type": "code",
   "execution_count": 417,
   "id": "dd30a6c2",
   "metadata": {},
   "outputs": [],
   "source": [
    "warnings.filterwarnings('ignore')"
   ]
  },
  {
   "cell_type": "code",
   "execution_count": 418,
   "id": "811475da",
   "metadata": {},
   "outputs": [],
   "source": [
    "sns.set_theme(context = 'notebook' , style = 'ticks' , palette = 'Set1' , \n",
    "             rc = {'figure.figsize' : (8,4)}) "
   ]
  },
  {
   "cell_type": "markdown",
   "id": "53667f60",
   "metadata": {},
   "source": [
    "###### Read Dataset"
   ]
  },
  {
   "cell_type": "code",
   "execution_count": 419,
   "id": "61a0fa51",
   "metadata": {},
   "outputs": [],
   "source": [
    "df = pd.read_csv('fifa19.csv')"
   ]
  },
  {
   "cell_type": "code",
   "execution_count": 420,
   "id": "404d9366",
   "metadata": {},
   "outputs": [
    {
     "data": {
      "text/html": [
       "<div>\n",
       "<style scoped>\n",
       "    .dataframe tbody tr th:only-of-type {\n",
       "        vertical-align: middle;\n",
       "    }\n",
       "\n",
       "    .dataframe tbody tr th {\n",
       "        vertical-align: top;\n",
       "    }\n",
       "\n",
       "    .dataframe thead th {\n",
       "        text-align: right;\n",
       "    }\n",
       "</style>\n",
       "<table border=\"1\" class=\"dataframe\">\n",
       "  <thead>\n",
       "    <tr style=\"text-align: right;\">\n",
       "      <th></th>\n",
       "      <th>Name</th>\n",
       "      <th>Age</th>\n",
       "      <th>Nationality</th>\n",
       "      <th>Overall</th>\n",
       "      <th>Potential</th>\n",
       "      <th>Club</th>\n",
       "      <th>Position</th>\n",
       "      <th>Crossing</th>\n",
       "      <th>Finishing</th>\n",
       "      <th>HeadingAccuracy</th>\n",
       "      <th>...</th>\n",
       "      <th>Penalties</th>\n",
       "      <th>Composure</th>\n",
       "      <th>Marking</th>\n",
       "      <th>StandingTackle</th>\n",
       "      <th>SlidingTackle</th>\n",
       "      <th>GKDiving</th>\n",
       "      <th>GKHandling</th>\n",
       "      <th>GKKicking</th>\n",
       "      <th>GKPositioning</th>\n",
       "      <th>Value</th>\n",
       "    </tr>\n",
       "  </thead>\n",
       "  <tbody>\n",
       "    <tr>\n",
       "      <th>0</th>\n",
       "      <td>L. Messi</td>\n",
       "      <td>31</td>\n",
       "      <td>Argentina</td>\n",
       "      <td>94</td>\n",
       "      <td>94</td>\n",
       "      <td>FC Barcelona</td>\n",
       "      <td>RF</td>\n",
       "      <td>84.0</td>\n",
       "      <td>95.0</td>\n",
       "      <td>70.0</td>\n",
       "      <td>...</td>\n",
       "      <td>75.0</td>\n",
       "      <td>96.0</td>\n",
       "      <td>33.0</td>\n",
       "      <td>28.0</td>\n",
       "      <td>26.0</td>\n",
       "      <td>6.0</td>\n",
       "      <td>11.0</td>\n",
       "      <td>15.0</td>\n",
       "      <td>14.0</td>\n",
       "      <td>110.5</td>\n",
       "    </tr>\n",
       "    <tr>\n",
       "      <th>1</th>\n",
       "      <td>Cristiano Ronaldo</td>\n",
       "      <td>33</td>\n",
       "      <td>Portugal</td>\n",
       "      <td>94</td>\n",
       "      <td>94</td>\n",
       "      <td>Juventus</td>\n",
       "      <td>ST</td>\n",
       "      <td>84.0</td>\n",
       "      <td>94.0</td>\n",
       "      <td>89.0</td>\n",
       "      <td>...</td>\n",
       "      <td>85.0</td>\n",
       "      <td>95.0</td>\n",
       "      <td>28.0</td>\n",
       "      <td>31.0</td>\n",
       "      <td>23.0</td>\n",
       "      <td>7.0</td>\n",
       "      <td>11.0</td>\n",
       "      <td>15.0</td>\n",
       "      <td>14.0</td>\n",
       "      <td>77.0</td>\n",
       "    </tr>\n",
       "    <tr>\n",
       "      <th>2</th>\n",
       "      <td>Neymar Jr</td>\n",
       "      <td>26</td>\n",
       "      <td>Brazil</td>\n",
       "      <td>92</td>\n",
       "      <td>93</td>\n",
       "      <td>Paris Saint-Germain</td>\n",
       "      <td>LW</td>\n",
       "      <td>79.0</td>\n",
       "      <td>87.0</td>\n",
       "      <td>62.0</td>\n",
       "      <td>...</td>\n",
       "      <td>81.0</td>\n",
       "      <td>94.0</td>\n",
       "      <td>27.0</td>\n",
       "      <td>24.0</td>\n",
       "      <td>33.0</td>\n",
       "      <td>9.0</td>\n",
       "      <td>9.0</td>\n",
       "      <td>15.0</td>\n",
       "      <td>15.0</td>\n",
       "      <td>118.5</td>\n",
       "    </tr>\n",
       "    <tr>\n",
       "      <th>3</th>\n",
       "      <td>De Gea</td>\n",
       "      <td>27</td>\n",
       "      <td>Spain</td>\n",
       "      <td>91</td>\n",
       "      <td>93</td>\n",
       "      <td>Manchester United</td>\n",
       "      <td>GK</td>\n",
       "      <td>17.0</td>\n",
       "      <td>13.0</td>\n",
       "      <td>21.0</td>\n",
       "      <td>...</td>\n",
       "      <td>40.0</td>\n",
       "      <td>68.0</td>\n",
       "      <td>15.0</td>\n",
       "      <td>21.0</td>\n",
       "      <td>13.0</td>\n",
       "      <td>90.0</td>\n",
       "      <td>85.0</td>\n",
       "      <td>87.0</td>\n",
       "      <td>88.0</td>\n",
       "      <td>72.0</td>\n",
       "    </tr>\n",
       "    <tr>\n",
       "      <th>4</th>\n",
       "      <td>K. De Bruyne</td>\n",
       "      <td>27</td>\n",
       "      <td>Belgium</td>\n",
       "      <td>91</td>\n",
       "      <td>92</td>\n",
       "      <td>Manchester City</td>\n",
       "      <td>RCM</td>\n",
       "      <td>93.0</td>\n",
       "      <td>82.0</td>\n",
       "      <td>55.0</td>\n",
       "      <td>...</td>\n",
       "      <td>79.0</td>\n",
       "      <td>88.0</td>\n",
       "      <td>68.0</td>\n",
       "      <td>58.0</td>\n",
       "      <td>51.0</td>\n",
       "      <td>15.0</td>\n",
       "      <td>13.0</td>\n",
       "      <td>5.0</td>\n",
       "      <td>10.0</td>\n",
       "      <td>102.0</td>\n",
       "    </tr>\n",
       "  </tbody>\n",
       "</table>\n",
       "<p>5 rows × 41 columns</p>\n",
       "</div>"
      ],
      "text/plain": [
       "                Name  Age Nationality  Overall  Potential  \\\n",
       "0           L. Messi   31   Argentina       94         94   \n",
       "1  Cristiano Ronaldo   33    Portugal       94         94   \n",
       "2          Neymar Jr   26      Brazil       92         93   \n",
       "3             De Gea   27       Spain       91         93   \n",
       "4       K. De Bruyne   27     Belgium       91         92   \n",
       "\n",
       "                  Club Position  Crossing  Finishing  HeadingAccuracy  ...  \\\n",
       "0         FC Barcelona       RF      84.0       95.0             70.0  ...   \n",
       "1             Juventus       ST      84.0       94.0             89.0  ...   \n",
       "2  Paris Saint-Germain       LW      79.0       87.0             62.0  ...   \n",
       "3    Manchester United       GK      17.0       13.0             21.0  ...   \n",
       "4      Manchester City      RCM      93.0       82.0             55.0  ...   \n",
       "\n",
       "   Penalties  Composure  Marking  StandingTackle  SlidingTackle  GKDiving  \\\n",
       "0       75.0       96.0     33.0            28.0           26.0       6.0   \n",
       "1       85.0       95.0     28.0            31.0           23.0       7.0   \n",
       "2       81.0       94.0     27.0            24.0           33.0       9.0   \n",
       "3       40.0       68.0     15.0            21.0           13.0      90.0   \n",
       "4       79.0       88.0     68.0            58.0           51.0      15.0   \n",
       "\n",
       "   GKHandling  GKKicking  GKPositioning  Value  \n",
       "0        11.0       15.0           14.0  110.5  \n",
       "1        11.0       15.0           14.0   77.0  \n",
       "2         9.0       15.0           15.0  118.5  \n",
       "3        85.0       87.0           88.0   72.0  \n",
       "4        13.0        5.0           10.0  102.0  \n",
       "\n",
       "[5 rows x 41 columns]"
      ]
     },
     "execution_count": 420,
     "metadata": {},
     "output_type": "execute_result"
    }
   ],
   "source": [
    "df.head()"
   ]
  },
  {
   "cell_type": "markdown",
   "id": "b61ffb4f",
   "metadata": {},
   "source": [
    "###### Check Feature "
   ]
  },
  {
   "cell_type": "code",
   "execution_count": 421,
   "id": "c5576753",
   "metadata": {
    "scrolled": false
   },
   "outputs": [
    {
     "name": "stdout",
     "output_type": "stream",
     "text": [
      "<class 'pandas.core.frame.DataFrame'>\n",
      "RangeIndex: 17955 entries, 0 to 17954\n",
      "Data columns (total 41 columns):\n",
      " #   Column           Non-Null Count  Dtype  \n",
      "---  ------           --------------  -----  \n",
      " 0   Name             17955 non-null  object \n",
      " 1   Age              17955 non-null  int64  \n",
      " 2   Nationality      17955 non-null  object \n",
      " 3   Overall          17955 non-null  int64  \n",
      " 4   Potential        17955 non-null  int64  \n",
      " 5   Club             17955 non-null  object \n",
      " 6   Position         17907 non-null  object \n",
      " 7   Crossing         17907 non-null  float64\n",
      " 8   Finishing        17907 non-null  float64\n",
      " 9   HeadingAccuracy  17907 non-null  float64\n",
      " 10  ShortPassing     17907 non-null  float64\n",
      " 11  Volleys          17907 non-null  float64\n",
      " 12  Dribbling        17907 non-null  float64\n",
      " 13  Curve            17907 non-null  float64\n",
      " 14  FKAccuracy       17907 non-null  float64\n",
      " 15  LongPassing      17907 non-null  float64\n",
      " 16  BallControl      17907 non-null  float64\n",
      " 17  Acceleration     17907 non-null  float64\n",
      " 18  SprintSpeed      17907 non-null  float64\n",
      " 19  Agility          17907 non-null  float64\n",
      " 20  Reactions        17907 non-null  float64\n",
      " 21  Balance          17907 non-null  float64\n",
      " 22  ShotPower        17907 non-null  float64\n",
      " 23  Jumping          17907 non-null  float64\n",
      " 24  Stamina          17907 non-null  float64\n",
      " 25  Strength         17907 non-null  float64\n",
      " 26  LongShots        17907 non-null  float64\n",
      " 27  Aggression       17907 non-null  float64\n",
      " 28  Interceptions    17907 non-null  float64\n",
      " 29  Positioning      17907 non-null  float64\n",
      " 30  Vision           17907 non-null  float64\n",
      " 31  Penalties        17907 non-null  float64\n",
      " 32  Composure        17907 non-null  float64\n",
      " 33  Marking          17907 non-null  float64\n",
      " 34  StandingTackle   17907 non-null  float64\n",
      " 35  SlidingTackle    17907 non-null  float64\n",
      " 36  GKDiving         17907 non-null  float64\n",
      " 37  GKHandling       17907 non-null  float64\n",
      " 38  GKKicking        17907 non-null  float64\n",
      " 39  GKPositioning    17907 non-null  float64\n",
      " 40  Value            17955 non-null  float64\n",
      "dtypes: float64(34), int64(3), object(4)\n",
      "memory usage: 5.6+ MB\n"
     ]
    }
   ],
   "source": [
    "df.info()"
   ]
  },
  {
   "cell_type": "markdown",
   "id": "8696a892",
   "metadata": {},
   "source": [
    "###### Check missing records "
   ]
  },
  {
   "cell_type": "code",
   "execution_count": 422,
   "id": "ddb19676",
   "metadata": {
    "scrolled": true
   },
   "outputs": [
    {
     "data": {
      "text/html": [
       "<div>\n",
       "<style scoped>\n",
       "    .dataframe tbody tr th:only-of-type {\n",
       "        vertical-align: middle;\n",
       "    }\n",
       "\n",
       "    .dataframe tbody tr th {\n",
       "        vertical-align: top;\n",
       "    }\n",
       "\n",
       "    .dataframe thead th {\n",
       "        text-align: right;\n",
       "    }\n",
       "</style>\n",
       "<table border=\"1\" class=\"dataframe\">\n",
       "  <thead>\n",
       "    <tr style=\"text-align: right;\">\n",
       "      <th></th>\n",
       "      <th>Name</th>\n",
       "      <th>Age</th>\n",
       "      <th>Nationality</th>\n",
       "      <th>Overall</th>\n",
       "      <th>Potential</th>\n",
       "      <th>Club</th>\n",
       "      <th>Position</th>\n",
       "      <th>Crossing</th>\n",
       "      <th>Finishing</th>\n",
       "      <th>HeadingAccuracy</th>\n",
       "      <th>...</th>\n",
       "      <th>Penalties</th>\n",
       "      <th>Composure</th>\n",
       "      <th>Marking</th>\n",
       "      <th>StandingTackle</th>\n",
       "      <th>SlidingTackle</th>\n",
       "      <th>GKDiving</th>\n",
       "      <th>GKHandling</th>\n",
       "      <th>GKKicking</th>\n",
       "      <th>GKPositioning</th>\n",
       "      <th>Value</th>\n",
       "    </tr>\n",
       "  </thead>\n",
       "  <tbody>\n",
       "    <tr>\n",
       "      <th>0</th>\n",
       "      <td>0.0</td>\n",
       "      <td>0.0</td>\n",
       "      <td>0.0</td>\n",
       "      <td>0.0</td>\n",
       "      <td>0.0</td>\n",
       "      <td>0.0</td>\n",
       "      <td>0.267335</td>\n",
       "      <td>0.267335</td>\n",
       "      <td>0.267335</td>\n",
       "      <td>0.267335</td>\n",
       "      <td>...</td>\n",
       "      <td>0.267335</td>\n",
       "      <td>0.267335</td>\n",
       "      <td>0.267335</td>\n",
       "      <td>0.267335</td>\n",
       "      <td>0.267335</td>\n",
       "      <td>0.267335</td>\n",
       "      <td>0.267335</td>\n",
       "      <td>0.267335</td>\n",
       "      <td>0.267335</td>\n",
       "      <td>0.0</td>\n",
       "    </tr>\n",
       "  </tbody>\n",
       "</table>\n",
       "<p>1 rows × 41 columns</p>\n",
       "</div>"
      ],
      "text/plain": [
       "   Name  Age  Nationality  Overall  Potential  Club  Position  Crossing  \\\n",
       "0   0.0  0.0          0.0      0.0        0.0   0.0  0.267335  0.267335   \n",
       "\n",
       "   Finishing  HeadingAccuracy  ...  Penalties  Composure   Marking  \\\n",
       "0   0.267335         0.267335  ...   0.267335   0.267335  0.267335   \n",
       "\n",
       "   StandingTackle  SlidingTackle  GKDiving  GKHandling  GKKicking  \\\n",
       "0        0.267335       0.267335  0.267335    0.267335   0.267335   \n",
       "\n",
       "   GKPositioning  Value  \n",
       "0       0.267335    0.0  \n",
       "\n",
       "[1 rows x 41 columns]"
      ]
     },
     "execution_count": 422,
     "metadata": {},
     "output_type": "execute_result"
    }
   ],
   "source": [
    "(df.isnull().mean()*100).to_frame().T"
   ]
  },
  {
   "cell_type": "markdown",
   "id": "ed8f1438",
   "metadata": {},
   "source": [
    "###### Check duplicates "
   ]
  },
  {
   "cell_type": "code",
   "execution_count": 423,
   "id": "d3f3c50f",
   "metadata": {
    "scrolled": true
   },
   "outputs": [
    {
     "data": {
      "text/plain": [
       "0"
      ]
     },
     "execution_count": 423,
     "metadata": {},
     "output_type": "execute_result"
    }
   ],
   "source": [
    "df.duplicated().sum()"
   ]
  },
  {
   "cell_type": "code",
   "execution_count": 424,
   "id": "c4ac5000",
   "metadata": {},
   "outputs": [],
   "source": [
    "df.dropna(axis = 0 , inplace = True  )"
   ]
  },
  {
   "cell_type": "code",
   "execution_count": 425,
   "id": "e4e7a390",
   "metadata": {},
   "outputs": [],
   "source": [
    "df.reset_index(inplace = True , drop = True)"
   ]
  },
  {
   "cell_type": "code",
   "execution_count": 426,
   "id": "9aedbe81",
   "metadata": {},
   "outputs": [],
   "source": [
    "df.drop(['Name'] , axis = 1 , inplace = True)"
   ]
  },
  {
   "cell_type": "code",
   "execution_count": 427,
   "id": "88c3c121",
   "metadata": {},
   "outputs": [
    {
     "data": {
      "text/plain": [
       "England      1655\n",
       "Germany      1195\n",
       "Spain        1071\n",
       "Argentina     935\n",
       "France        910\n",
       "             ... \n",
       "Guam            1\n",
       "Fiji            1\n",
       "Liberia         1\n",
       "Mauritius       1\n",
       "Botswana        1\n",
       "Name: Nationality, Length: 163, dtype: int64"
      ]
     },
     "execution_count": 427,
     "metadata": {},
     "output_type": "execute_result"
    }
   ],
   "source": [
    "df['Nationality'].value_counts()"
   ]
  },
  {
   "cell_type": "code",
   "execution_count": 428,
   "id": "61f4ca26",
   "metadata": {
    "scrolled": false
   },
   "outputs": [
    {
     "data": {
      "text/html": [
       "<div>\n",
       "<style scoped>\n",
       "    .dataframe tbody tr th:only-of-type {\n",
       "        vertical-align: middle;\n",
       "    }\n",
       "\n",
       "    .dataframe tbody tr th {\n",
       "        vertical-align: top;\n",
       "    }\n",
       "\n",
       "    .dataframe thead th {\n",
       "        text-align: right;\n",
       "    }\n",
       "</style>\n",
       "<table border=\"1\" class=\"dataframe\">\n",
       "  <thead>\n",
       "    <tr style=\"text-align: right;\">\n",
       "      <th></th>\n",
       "      <th>ST</th>\n",
       "      <th>GK</th>\n",
       "      <th>CB</th>\n",
       "      <th>CM</th>\n",
       "      <th>LB</th>\n",
       "      <th>RB</th>\n",
       "      <th>RM</th>\n",
       "      <th>LM</th>\n",
       "      <th>CAM</th>\n",
       "      <th>CDM</th>\n",
       "      <th>...</th>\n",
       "      <th>LDM</th>\n",
       "      <th>LS</th>\n",
       "      <th>RS</th>\n",
       "      <th>RWB</th>\n",
       "      <th>LWB</th>\n",
       "      <th>CF</th>\n",
       "      <th>LAM</th>\n",
       "      <th>RAM</th>\n",
       "      <th>RF</th>\n",
       "      <th>LF</th>\n",
       "    </tr>\n",
       "  </thead>\n",
       "  <tbody>\n",
       "    <tr>\n",
       "      <th>Position</th>\n",
       "      <td>2130</td>\n",
       "      <td>1989</td>\n",
       "      <td>1751</td>\n",
       "      <td>1377</td>\n",
       "      <td>1304</td>\n",
       "      <td>1268</td>\n",
       "      <td>1114</td>\n",
       "      <td>1086</td>\n",
       "      <td>946</td>\n",
       "      <td>936</td>\n",
       "      <td>...</td>\n",
       "      <td>239</td>\n",
       "      <td>206</td>\n",
       "      <td>201</td>\n",
       "      <td>87</td>\n",
       "      <td>78</td>\n",
       "      <td>74</td>\n",
       "      <td>21</td>\n",
       "      <td>21</td>\n",
       "      <td>16</td>\n",
       "      <td>15</td>\n",
       "    </tr>\n",
       "  </tbody>\n",
       "</table>\n",
       "<p>1 rows × 27 columns</p>\n",
       "</div>"
      ],
      "text/plain": [
       "            ST    GK    CB    CM    LB    RB    RM    LM  CAM  CDM  ...  LDM  \\\n",
       "Position  2130  1989  1751  1377  1304  1268  1114  1086  946  936  ...  239   \n",
       "\n",
       "           LS   RS  RWB  LWB  CF  LAM  RAM  RF  LF  \n",
       "Position  206  201   87   78  74   21   21  16  15  \n",
       "\n",
       "[1 rows x 27 columns]"
      ]
     },
     "execution_count": 428,
     "metadata": {},
     "output_type": "execute_result"
    }
   ],
   "source": [
    "df['Position'].value_counts().to_frame().T"
   ]
  },
  {
   "cell_type": "code",
   "execution_count": 429,
   "id": "c7b3b56a",
   "metadata": {
    "scrolled": false
   },
   "outputs": [
    {
     "data": {
      "text/plain": [
       "FC Barcelona               33\n",
       "Southampton                33\n",
       "Cardiff City               33\n",
       "TSG 1899 Hoffenheim        33\n",
       "Wolverhampton Wanderers    33\n",
       "                           ..\n",
       "Vitória                    20\n",
       "Bahia                      20\n",
       "Sligo Rovers               19\n",
       "Limerick FC                19\n",
       "Derry City                 18\n",
       "Name: Club, Length: 651, dtype: int64"
      ]
     },
     "execution_count": 429,
     "metadata": {},
     "output_type": "execute_result"
    }
   ],
   "source": [
    "df['Club'].value_counts()"
   ]
  },
  {
   "cell_type": "markdown",
   "id": "94b130c5",
   "metadata": {},
   "source": [
    "###### Get high correlated Feature "
   ]
  },
  {
   "cell_type": "code",
   "execution_count": 430,
   "id": "f60a7351",
   "metadata": {},
   "outputs": [],
   "source": [
    "df_cat = df.select_dtypes('object_')"
   ]
  },
  {
   "cell_type": "code",
   "execution_count": 431,
   "id": "31584235",
   "metadata": {},
   "outputs": [],
   "source": [
    "df_num = df.select_dtypes('number')"
   ]
  },
  {
   "cell_type": "code",
   "execution_count": 432,
   "id": "ee411c06",
   "metadata": {},
   "outputs": [],
   "source": [
    "top_corr = df_num.corr()[np.abs(df_num.corr()['Value']) > 0.4].index"
   ]
  },
  {
   "cell_type": "code",
   "execution_count": 433,
   "id": "496deae5",
   "metadata": {
    "scrolled": false
   },
   "outputs": [
    {
     "data": {
      "text/plain": [
       "<AxesSubplot:>"
      ]
     },
     "execution_count": 433,
     "metadata": {},
     "output_type": "execute_result"
    },
    {
     "data": {
      "image/png": "[encoded data removed]",
      "text/plain": [
       "<Figure size 576x288 with 2 Axes>"
      ]
     },
     "metadata": {},
     "output_type": "display_data"
    }
   ],
   "source": [
    "sns.heatmap(df[top_corr].corr() , annot = True , cmap = 'Paired' , )"
   ]
  },
  {
   "cell_type": "code",
   "execution_count": 434,
   "id": "de347c26",
   "metadata": {
    "scrolled": false
   },
   "outputs": [
    {
     "data": {
      "image/png": "[encoded data removed]",
      "text/plain": [
       "<Figure size 576x288 with 1 Axes>"
      ]
     },
     "metadata": {},
     "output_type": "display_data"
    },
    {
     "data": {
      "image/png": "[encoded data removed]",
      "text/plain": [
       "<Figure size 576x288 with 1 Axes>"
      ]
     },
     "metadata": {},
     "output_type": "display_data"
    },
    {
     "data": {
      "image/png": "[encoded data removed]",
      "text/plain": [
       "<Figure size 576x288 with 1 Axes>"
      ]
     },
     "metadata": {},
     "output_type": "display_data"
    },
    {
     "data": {
      "image/png": "[encoded data removed]",
      "text/plain": [
       "<Figure size 576x288 with 1 Axes>"
      ]
     },
     "metadata": {},
     "output_type": "display_data"
    }
   ],
   "source": [
    "for i in df_num[top_corr].columns[:-1]:\n",
    "    plt.figure()\n",
    "    sns.boxplot(df_num[i])\n",
    "    plt.show()"
   ]
  },
  {
   "cell_type": "code",
   "execution_count": 435,
   "id": "232d3a42",
   "metadata": {},
   "outputs": [],
   "source": [
    "df = pd.concat([df_cat , df_num[top_corr]] , axis = 1 )"
   ]
  },
  {
   "cell_type": "code",
   "execution_count": 436,
   "id": "a7b9095e",
   "metadata": {},
   "outputs": [
    {
     "data": {
      "text/plain": [
       "480"
      ]
     },
     "execution_count": 436,
     "metadata": {},
     "output_type": "execute_result"
    }
   ],
   "source": [
    "len(detect_outliers(df , 0 , ['Overall' , 'Potential' , 'Reactions' , 'Composure']))"
   ]
  },
  {
   "cell_type": "markdown",
   "id": "fa11ecdf",
   "metadata": {},
   "source": [
    "###### Remove outliers "
   ]
  },
  {
   "cell_type": "code",
   "execution_count": 438,
   "id": "ae4b49bf",
   "metadata": {},
   "outputs": [],
   "source": [
    "df.drop(detect_outliers(df , 0 , ['Overall' , 'Potential' , 'Reactions' , 'Composure']) , \n",
    "        axis = 0 , inplace = True)"
   ]
  },
  {
   "cell_type": "code",
   "execution_count": 439,
   "id": "0d962393",
   "metadata": {},
   "outputs": [],
   "source": [
    "df.reset_index(inplace = True , drop = True)"
   ]
  },
  {
   "cell_type": "code",
   "execution_count": 440,
   "id": "809460a1",
   "metadata": {
    "scrolled": true
   },
   "outputs": [
    {
     "data": {
      "text/html": [
       "<div>\n",
       "<style scoped>\n",
       "    .dataframe tbody tr th:only-of-type {\n",
       "        vertical-align: middle;\n",
       "    }\n",
       "\n",
       "    .dataframe tbody tr th {\n",
       "        vertical-align: top;\n",
       "    }\n",
       "\n",
       "    .dataframe thead th {\n",
       "        text-align: right;\n",
       "    }\n",
       "</style>\n",
       "<table border=\"1\" class=\"dataframe\">\n",
       "  <thead>\n",
       "    <tr style=\"text-align: right;\">\n",
       "      <th></th>\n",
       "      <th>Nationality</th>\n",
       "      <th>Club</th>\n",
       "      <th>Position</th>\n",
       "      <th>Overall</th>\n",
       "      <th>Potential</th>\n",
       "      <th>Reactions</th>\n",
       "      <th>Composure</th>\n",
       "      <th>Value</th>\n",
       "    </tr>\n",
       "  </thead>\n",
       "  <tbody>\n",
       "    <tr>\n",
       "      <th>0</th>\n",
       "      <td>Brazil</td>\n",
       "      <td>FC Porto</td>\n",
       "      <td>LB</td>\n",
       "      <td>84</td>\n",
       "      <td>87</td>\n",
       "      <td>83.0</td>\n",
       "      <td>80.0</td>\n",
       "      <td>32.00</td>\n",
       "    </tr>\n",
       "    <tr>\n",
       "      <th>1</th>\n",
       "      <td>Italy</td>\n",
       "      <td>Chelsea</td>\n",
       "      <td>CM</td>\n",
       "      <td>84</td>\n",
       "      <td>87</td>\n",
       "      <td>83.0</td>\n",
       "      <td>79.0</td>\n",
       "      <td>38.00</td>\n",
       "    </tr>\n",
       "    <tr>\n",
       "      <th>2</th>\n",
       "      <td>France</td>\n",
       "      <td>Olympique de Marseille</td>\n",
       "      <td>RM</td>\n",
       "      <td>84</td>\n",
       "      <td>87</td>\n",
       "      <td>83.0</td>\n",
       "      <td>82.0</td>\n",
       "      <td>39.00</td>\n",
       "    </tr>\n",
       "    <tr>\n",
       "      <th>3</th>\n",
       "      <td>Spain</td>\n",
       "      <td>Real Madrid</td>\n",
       "      <td>RB</td>\n",
       "      <td>84</td>\n",
       "      <td>87</td>\n",
       "      <td>82.0</td>\n",
       "      <td>77.0</td>\n",
       "      <td>31.50</td>\n",
       "    </tr>\n",
       "    <tr>\n",
       "      <th>4</th>\n",
       "      <td>Korea Republic</td>\n",
       "      <td>Tottenham Hotspur</td>\n",
       "      <td>LM</td>\n",
       "      <td>84</td>\n",
       "      <td>85</td>\n",
       "      <td>84.0</td>\n",
       "      <td>82.0</td>\n",
       "      <td>37.00</td>\n",
       "    </tr>\n",
       "    <tr>\n",
       "      <th>...</th>\n",
       "      <td>...</td>\n",
       "      <td>...</td>\n",
       "      <td>...</td>\n",
       "      <td>...</td>\n",
       "      <td>...</td>\n",
       "      <td>...</td>\n",
       "      <td>...</td>\n",
       "      <td>...</td>\n",
       "    </tr>\n",
       "    <tr>\n",
       "      <th>17373</th>\n",
       "      <td>England</td>\n",
       "      <td>Stevenage</td>\n",
       "      <td>CM</td>\n",
       "      <td>49</td>\n",
       "      <td>70</td>\n",
       "      <td>51.0</td>\n",
       "      <td>36.0</td>\n",
       "      <td>0.06</td>\n",
       "    </tr>\n",
       "    <tr>\n",
       "      <th>17374</th>\n",
       "      <td>Republic of Ireland</td>\n",
       "      <td>Bohemian FC</td>\n",
       "      <td>CM</td>\n",
       "      <td>49</td>\n",
       "      <td>59</td>\n",
       "      <td>48.0</td>\n",
       "      <td>42.0</td>\n",
       "      <td>0.05</td>\n",
       "    </tr>\n",
       "    <tr>\n",
       "      <th>17375</th>\n",
       "      <td>Scotland</td>\n",
       "      <td>Hamilton Academical FC</td>\n",
       "      <td>CM</td>\n",
       "      <td>49</td>\n",
       "      <td>64</td>\n",
       "      <td>48.0</td>\n",
       "      <td>48.0</td>\n",
       "      <td>0.06</td>\n",
       "    </tr>\n",
       "    <tr>\n",
       "      <th>17376</th>\n",
       "      <td>Colombia</td>\n",
       "      <td>Atlético Nacional</td>\n",
       "      <td>CM</td>\n",
       "      <td>49</td>\n",
       "      <td>62</td>\n",
       "      <td>52.0</td>\n",
       "      <td>44.0</td>\n",
       "      <td>0.05</td>\n",
       "    </tr>\n",
       "    <tr>\n",
       "      <th>17377</th>\n",
       "      <td>Denmark</td>\n",
       "      <td>SønderjyskE</td>\n",
       "      <td>LB</td>\n",
       "      <td>49</td>\n",
       "      <td>69</td>\n",
       "      <td>47.0</td>\n",
       "      <td>35.0</td>\n",
       "      <td>0.05</td>\n",
       "    </tr>\n",
       "  </tbody>\n",
       "</table>\n",
       "<p>17378 rows × 8 columns</p>\n",
       "</div>"
      ],
      "text/plain": [
       "               Nationality                    Club Position  Overall  \\\n",
       "0                   Brazil                FC Porto       LB       84   \n",
       "1                    Italy                 Chelsea       CM       84   \n",
       "2                   France  Olympique de Marseille       RM       84   \n",
       "3                    Spain             Real Madrid       RB       84   \n",
       "4           Korea Republic       Tottenham Hotspur       LM       84   \n",
       "...                    ...                     ...      ...      ...   \n",
       "17373              England               Stevenage       CM       49   \n",
       "17374  Republic of Ireland             Bohemian FC       CM       49   \n",
       "17375             Scotland  Hamilton Academical FC       CM       49   \n",
       "17376             Colombia       Atlético Nacional       CM       49   \n",
       "17377              Denmark             SønderjyskE       LB       49   \n",
       "\n",
       "       Potential  Reactions  Composure  Value  \n",
       "0             87       83.0       80.0  32.00  \n",
       "1             87       83.0       79.0  38.00  \n",
       "2             87       83.0       82.0  39.00  \n",
       "3             87       82.0       77.0  31.50  \n",
       "4             85       84.0       82.0  37.00  \n",
       "...          ...        ...        ...    ...  \n",
       "17373         70       51.0       36.0   0.06  \n",
       "17374         59       48.0       42.0   0.05  \n",
       "17375         64       48.0       48.0   0.06  \n",
       "17376         62       52.0       44.0   0.05  \n",
       "17377         69       47.0       35.0   0.05  \n",
       "\n",
       "[17378 rows x 8 columns]"
      ]
     },
     "execution_count": 440,
     "metadata": {},
     "output_type": "execute_result"
    }
   ],
   "source": [
    "df"
   ]
  },
  {
   "cell_type": "code",
   "execution_count": 441,
   "id": "f0a47209",
   "metadata": {
    "scrolled": true
   },
   "outputs": [
    {
     "data": {
      "text/plain": [
       "<AxesSubplot:xlabel='Overall', ylabel='Value'>"
      ]
     },
     "execution_count": 441,
     "metadata": {},
     "output_type": "execute_result"
    },
    {
     "data": {
      "image/png": "[encoded data removed]",
      "text/plain": [
       "<Figure size 576x288 with 1 Axes>"
      ]
     },
     "metadata": {},
     "output_type": "display_data"
    }
   ],
   "source": [
    "sns.scatterplot(data = df , x = 'Overall' , y = 'Value')"
   ]
  },
  {
   "cell_type": "code",
   "execution_count": 442,
   "id": "5eae6b7a",
   "metadata": {
    "scrolled": true
   },
   "outputs": [
    {
     "data": {
      "text/plain": [
       "<AxesSubplot:xlabel='Potential', ylabel='Value'>"
      ]
     },
     "execution_count": 442,
     "metadata": {},
     "output_type": "execute_result"
    },
    {
     "data": {
      "image/png": "[encoded data removed]",
      "text/plain": [
       "<Figure size 576x288 with 1 Axes>"
      ]
     },
     "metadata": {},
     "output_type": "display_data"
    }
   ],
   "source": [
    "sns.scatterplot(data = df , x = 'Potential' , y = 'Value')"
   ]
  },
  {
   "cell_type": "code",
   "execution_count": 443,
   "id": "d7dd1681",
   "metadata": {
    "scrolled": true
   },
   "outputs": [
    {
     "data": {
      "text/plain": [
       "<AxesSubplot:xlabel='Reactions', ylabel='Value'>"
      ]
     },
     "execution_count": 443,
     "metadata": {},
     "output_type": "execute_result"
    },
    {
     "data": {
      "image/png": "[encoded data removed]",
      "text/plain": [
       "<Figure size 576x288 with 1 Axes>"
      ]
     },
     "metadata": {},
     "output_type": "display_data"
    }
   ],
   "source": [
    "sns.scatterplot(data = df , x = 'Reactions' , y = 'Value')"
   ]
  },
  {
   "cell_type": "code",
   "execution_count": 445,
   "id": "8781b153",
   "metadata": {},
   "outputs": [
    {
     "data": {
      "text/plain": [
       "<AxesSubplot:xlabel='Composure', ylabel='Value'>"
      ]
     },
     "execution_count": 445,
     "metadata": {},
     "output_type": "execute_result"
    },
    {
     "data": {
      "image/png": "[encoded data removed]",
      "text/plain": [
       "<Figure size 576x288 with 1 Axes>"
      ]
     },
     "metadata": {},
     "output_type": "display_data"
    }
   ],
   "source": [
    "sns.scatterplot(data = df , x = 'Composure' , y = 'Value')"
   ]
  },
  {
   "cell_type": "markdown",
   "id": "a45c1080",
   "metadata": {},
   "source": [
    "###### Time to encode our categorical "
   ]
  },
  {
   "cell_type": "code",
   "execution_count": 446,
   "id": "3dc8b022",
   "metadata": {},
   "outputs": [],
   "source": [
    "col_to_encod = ['Nationality' , 'Club' , 'Position']"
   ]
  },
  {
   "cell_type": "code",
   "execution_count": 447,
   "id": "2ef19ad4",
   "metadata": {},
   "outputs": [],
   "source": [
    "encoder = BinaryEncoder()"
   ]
  },
  {
   "cell_type": "code",
   "execution_count": 448,
   "id": "28d0c954",
   "metadata": {},
   "outputs": [],
   "source": [
    "df = pd.concat([df , encoder.fit_transform(df[col_to_encod])] , axis = 1 )"
   ]
  },
  {
   "cell_type": "code",
   "execution_count": 449,
   "id": "151b5e3f",
   "metadata": {},
   "outputs": [],
   "source": [
    "df.drop(col_to_encod , axis = 1 , inplace = True)"
   ]
  },
  {
   "cell_type": "code",
   "execution_count": 450,
   "id": "bf55c625",
   "metadata": {},
   "outputs": [
    {
     "data": {
      "text/plain": [
       "Index(['Overall', 'Potential', 'Reactions', 'Composure', 'Value',\n",
       "       'Nationality_0', 'Nationality_1', 'Nationality_2', 'Nationality_3',\n",
       "       'Nationality_4', 'Nationality_5', 'Nationality_6', 'Nationality_7',\n",
       "       'Club_0', 'Club_1', 'Club_2', 'Club_3', 'Club_4', 'Club_5', 'Club_6',\n",
       "       'Club_7', 'Club_8', 'Club_9', 'Position_0', 'Position_1', 'Position_2',\n",
       "       'Position_3', 'Position_4'],\n",
       "      dtype='object')"
      ]
     },
     "execution_count": 450,
     "metadata": {},
     "output_type": "execute_result"
    }
   ],
   "source": [
    "df.columns"
   ]
  },
  {
   "cell_type": "markdown",
   "id": "3c7cc875",
   "metadata": {},
   "source": [
    "###### Split data to train & test "
   ]
  },
  {
   "cell_type": "code",
   "execution_count": 451,
   "id": "ff001056",
   "metadata": {},
   "outputs": [],
   "source": [
    "x = df.drop(['Value'] , axis = 1 )"
   ]
  },
  {
   "cell_type": "code",
   "execution_count": 452,
   "id": "3f7e0cff",
   "metadata": {},
   "outputs": [],
   "source": [
    "y = np.log(df['Value'])"
   ]
  },
  {
   "cell_type": "code",
   "execution_count": 453,
   "id": "7c1c5324",
   "metadata": {},
   "outputs": [],
   "source": [
    "x_train , x_test , y_train , y_test = train_test_split(x , y , \n",
    "                                                       test_size = 0.2 , random_state = 7 , \n",
    "                                                       shuffle = True)"
   ]
  },
  {
   "cell_type": "markdown",
   "id": "cab3864e",
   "metadata": {},
   "source": [
    "###### Scale our Numerical "
   ]
  },
  {
   "cell_type": "code",
   "execution_count": 454,
   "id": "85fb142a",
   "metadata": {},
   "outputs": [],
   "source": [
    "col_to_scl = ['Overall' , 'Potential' , 'Reactions' , 'Composure']"
   ]
  },
  {
   "cell_type": "code",
   "execution_count": 455,
   "id": "dde1fbe3",
   "metadata": {},
   "outputs": [],
   "source": [
    "sclr = StandardScaler()"
   ]
  },
  {
   "cell_type": "code",
   "execution_count": 456,
   "id": "c66ca87d",
   "metadata": {},
   "outputs": [],
   "source": [
    "x_train[col_to_scl] = sclr.fit_transform(x_train[col_to_scl])"
   ]
  },
  {
   "cell_type": "code",
   "execution_count": 457,
   "id": "3be73cc8",
   "metadata": {},
   "outputs": [],
   "source": [
    "x_test[col_to_scl] = sclr.transform(x_test[col_to_scl])"
   ]
  },
  {
   "cell_type": "markdown",
   "id": "5c7d7366",
   "metadata": {},
   "source": [
    "###### Multivariable Regression "
   ]
  },
  {
   "cell_type": "code",
   "execution_count": 458,
   "id": "04de31df",
   "metadata": {},
   "outputs": [],
   "source": [
    "lmodel = LinearRegression()"
   ]
  },
  {
   "cell_type": "code",
   "execution_count": 459,
   "id": "ed5075b3",
   "metadata": {},
   "outputs": [
    {
     "data": {
      "text/html": [
       "<style>#sk-container-id-21 {color: black;background-color: white;}#sk-container-id-21 pre{padding: 0;}#sk-container-id-21 div.sk-toggleable {background-color: white;}#sk-container-id-21 label.sk-toggleable__label {cursor: pointer;display: block;width: 100%;margin-bottom: 0;padding: 0.3em;box-sizing: border-box;text-align: center;}#sk-container-id-21 label.sk-toggleable__label-arrow:before {content: \"▸\";float: left;margin-right: 0.25em;color: #696969;}#sk-container-id-21 label.sk-toggleable__label-arrow:hover:before {color: black;}#sk-container-id-21 div.sk-estimator:hover label.sk-toggleable__label-arrow:before {color: black;}#sk-container-id-21 div.sk-toggleable__content {max-height: 0;max-width: 0;overflow: hidden;text-align: left;background-color: #f0f8ff;}#sk-container-id-21 div.sk-toggleable__content pre {margin: 0.2em;color: black;border-radius: 0.25em;background-color: #f0f8ff;}#sk-container-id-21 input.sk-toggleable__control:checked~div.sk-toggleable__content {max-height: 200px;max-width: 100%;overflow: auto;}#sk-container-id-21 input.sk-toggleable__control:checked~label.sk-toggleable__label-arrow:before {content: \"▾\";}#sk-container-id-21 div.sk-estimator input.sk-toggleable__control:checked~label.sk-toggleable__label {background-color: #d4ebff;}#sk-container-id-21 div.sk-label input.sk-toggleable__control:checked~label.sk-toggleable__label {background-color: #d4ebff;}#sk-container-id-21 input.sk-hidden--visually {border: 0;clip: rect(1px 1px 1px 1px);clip: rect(1px, 1px, 1px, 1px);height: 1px;margin: -1px;overflow: hidden;padding: 0;position: absolute;width: 1px;}#sk-container-id-21 div.sk-estimator {font-family: monospace;background-color: #f0f8ff;border: 1px dotted black;border-radius: 0.25em;box-sizing: border-box;margin-bottom: 0.5em;}#sk-container-id-21 div.sk-estimator:hover {background-color: #d4ebff;}#sk-container-id-21 div.sk-parallel-item::after {content: \"\";width: 100%;border-bottom: 1px solid gray;flex-grow: 1;}#sk-container-id-21 div.sk-label:hover label.sk-toggleable__label {background-color: #d4ebff;}#sk-container-id-21 div.sk-serial::before {content: \"\";position: absolute;border-left: 1px solid gray;box-sizing: border-box;top: 0;bottom: 0;left: 50%;z-index: 0;}#sk-container-id-21 div.sk-serial {display: flex;flex-direction: column;align-items: center;background-color: white;padding-right: 0.2em;padding-left: 0.2em;position: relative;}#sk-container-id-21 div.sk-item {position: relative;z-index: 1;}#sk-container-id-21 div.sk-parallel {display: flex;align-items: stretch;justify-content: center;background-color: white;position: relative;}#sk-container-id-21 div.sk-item::before, #sk-container-id-21 div.sk-parallel-item::before {content: \"\";position: absolute;border-left: 1px solid gray;box-sizing: border-box;top: 0;bottom: 0;left: 50%;z-index: -1;}#sk-container-id-21 div.sk-parallel-item {display: flex;flex-direction: column;z-index: 1;position: relative;background-color: white;}#sk-container-id-21 div.sk-parallel-item:first-child::after {align-self: flex-end;width: 50%;}#sk-container-id-21 div.sk-parallel-item:last-child::after {align-self: flex-start;width: 50%;}#sk-container-id-21 div.sk-parallel-item:only-child::after {width: 0;}#sk-container-id-21 div.sk-dashed-wrapped {border: 1px dashed gray;margin: 0 0.4em 0.5em 0.4em;box-sizing: border-box;padding-bottom: 0.4em;background-color: white;}#sk-container-id-21 div.sk-label label {font-family: monospace;font-weight: bold;display: inline-block;line-height: 1.2em;}#sk-container-id-21 div.sk-label-container {text-align: center;}#sk-container-id-21 div.sk-container {/* jupyter's `normalize.less` sets `[hidden] { display: none; }` but bootstrap.min.css set `[hidden] { display: none !important; }` so we also need the `!important` here to be able to override the default hidden behavior on the sphinx rendered scikit-learn.org. See: https://github.com/scikit-learn/scikit-learn/issues/21755 */display: inline-block !important;position: relative;}#sk-container-id-21 div.sk-text-repr-fallback {display: none;}</style><div id=\"sk-container-id-21\" class=\"sk-top-container\"><div class=\"sk-text-repr-fallback\"><pre>LinearRegression()</pre><b>In a Jupyter environment, please rerun this cell to show the HTML representation or trust the notebook. <br />On GitHub, the HTML representation is unable to render, please try loading this page with nbviewer.org.</b></div><div class=\"sk-container\" hidden><div class=\"sk-item\"><div class=\"sk-estimator sk-toggleable\"><input class=\"sk-toggleable__control sk-hidden--visually\" id=\"sk-estimator-id-21\" type=\"checkbox\" checked><label for=\"sk-estimator-id-21\" class=\"sk-toggleable__label sk-toggleable__label-arrow\">LinearRegression</label><div class=\"sk-toggleable__content\"><pre>LinearRegression()</pre></div></div></div></div></div>"
      ],
      "text/plain": [
       "LinearRegression()"
      ]
     },
     "execution_count": 459,
     "metadata": {},
     "output_type": "execute_result"
    }
   ],
   "source": [
    "lmodel.fit(x_train , y_train)"
   ]
  },
  {
   "cell_type": "code",
   "execution_count": 460,
   "id": "ee8319df",
   "metadata": {},
   "outputs": [],
   "source": [
    "y_pred = lmodel.predict(x_test)"
   ]
  },
  {
   "cell_type": "code",
   "execution_count": 461,
   "id": "3146057a",
   "metadata": {},
   "outputs": [
    {
     "data": {
      "text/plain": [
       "0.33871983445410714"
      ]
     },
     "execution_count": 461,
     "metadata": {},
     "output_type": "execute_result"
    }
   ],
   "source": [
    "mean_squared_error(y_true = y_test , y_pred = y_pred , squared = False)"
   ]
  },
  {
   "cell_type": "code",
   "execution_count": 462,
   "id": "2eab77ad",
   "metadata": {},
   "outputs": [
    {
     "data": {
      "text/plain": [
       "0.935170639791307"
      ]
     },
     "execution_count": 462,
     "metadata": {},
     "output_type": "execute_result"
    }
   ],
   "source": [
    "r2_score(y_true = y_test , y_pred = y_pred )"
   ]
  },
  {
   "cell_type": "code",
   "execution_count": 463,
   "id": "b326b2b4",
   "metadata": {
    "scrolled": true
   },
   "outputs": [
    {
     "data": {
      "text/plain": [
       "array([ 9.86745516e-01,  4.17673724e-01, -8.73254025e-03,  6.81232481e-03,\n",
       "       -1.16026082e-02,  5.01685002e-02,  8.84752397e-03,  2.02928736e-02,\n",
       "       -9.76892925e-03,  2.40274216e-03,  7.39454188e-04, -4.41939258e-03,\n",
       "       -3.69490195e-03, -5.80520811e-02,  5.23682374e-07,  1.40989002e-02,\n",
       "        3.66010946e-03, -1.91319480e-03, -8.56673599e-03,  9.22588789e-03,\n",
       "       -6.68071556e-03,  5.90767156e-03,  3.36277319e-02,  6.50272563e-02,\n",
       "       -7.83050684e-02, -5.09713410e-02,  8.76336894e-02])"
      ]
     },
     "execution_count": 463,
     "metadata": {},
     "output_type": "execute_result"
    }
   ],
   "source": [
    "lmodel.coef_"
   ]
  },
  {
   "cell_type": "markdown",
   "id": "feb5c797",
   "metadata": {},
   "source": [
    "###### Polynomial Regression "
   ]
  },
  {
   "cell_type": "code",
   "execution_count": 464,
   "id": "87c1571b",
   "metadata": {},
   "outputs": [],
   "source": [
    "pf = PolynomialFeatures(degree = 2)"
   ]
  },
  {
   "cell_type": "code",
   "execution_count": 465,
   "id": "5c0750cf",
   "metadata": {},
   "outputs": [],
   "source": [
    "x_train = pf.fit_transform(x_train)"
   ]
  },
  {
   "cell_type": "code",
   "execution_count": 466,
   "id": "c7bfc658",
   "metadata": {},
   "outputs": [],
   "source": [
    "x_test = pf.fit_transform(x_test)"
   ]
  },
  {
   "cell_type": "code",
   "execution_count": 467,
   "id": "4efe28a3",
   "metadata": {},
   "outputs": [],
   "source": [
    "pmodel = LinearRegression()"
   ]
  },
  {
   "cell_type": "code",
   "execution_count": 468,
   "id": "d7e50685",
   "metadata": {
    "scrolled": true
   },
   "outputs": [
    {
     "data": {
      "text/html": [
       "<style>#sk-container-id-22 {color: black;background-color: white;}#sk-container-id-22 pre{padding: 0;}#sk-container-id-22 div.sk-toggleable {background-color: white;}#sk-container-id-22 label.sk-toggleable__label {cursor: pointer;display: block;width: 100%;margin-bottom: 0;padding: 0.3em;box-sizing: border-box;text-align: center;}#sk-container-id-22 label.sk-toggleable__label-arrow:before {content: \"▸\";float: left;margin-right: 0.25em;color: #696969;}#sk-container-id-22 label.sk-toggleable__label-arrow:hover:before {color: black;}#sk-container-id-22 div.sk-estimator:hover label.sk-toggleable__label-arrow:before {color: black;}#sk-container-id-22 div.sk-toggleable__content {max-height: 0;max-width: 0;overflow: hidden;text-align: left;background-color: #f0f8ff;}#sk-container-id-22 div.sk-toggleable__content pre {margin: 0.2em;color: black;border-radius: 0.25em;background-color: #f0f8ff;}#sk-container-id-22 input.sk-toggleable__control:checked~div.sk-toggleable__content {max-height: 200px;max-width: 100%;overflow: auto;}#sk-container-id-22 input.sk-toggleable__control:checked~label.sk-toggleable__label-arrow:before {content: \"▾\";}#sk-container-id-22 div.sk-estimator input.sk-toggleable__control:checked~label.sk-toggleable__label {background-color: #d4ebff;}#sk-container-id-22 div.sk-label input.sk-toggleable__control:checked~label.sk-toggleable__label {background-color: #d4ebff;}#sk-container-id-22 input.sk-hidden--visually {border: 0;clip: rect(1px 1px 1px 1px);clip: rect(1px, 1px, 1px, 1px);height: 1px;margin: -1px;overflow: hidden;padding: 0;position: absolute;width: 1px;}#sk-container-id-22 div.sk-estimator {font-family: monospace;background-color: #f0f8ff;border: 1px dotted black;border-radius: 0.25em;box-sizing: border-box;margin-bottom: 0.5em;}#sk-container-id-22 div.sk-estimator:hover {background-color: #d4ebff;}#sk-container-id-22 div.sk-parallel-item::after {content: \"\";width: 100%;border-bottom: 1px solid gray;flex-grow: 1;}#sk-container-id-22 div.sk-label:hover label.sk-toggleable__label {background-color: #d4ebff;}#sk-container-id-22 div.sk-serial::before {content: \"\";position: absolute;border-left: 1px solid gray;box-sizing: border-box;top: 0;bottom: 0;left: 50%;z-index: 0;}#sk-container-id-22 div.sk-serial {display: flex;flex-direction: column;align-items: center;background-color: white;padding-right: 0.2em;padding-left: 0.2em;position: relative;}#sk-container-id-22 div.sk-item {position: relative;z-index: 1;}#sk-container-id-22 div.sk-parallel {display: flex;align-items: stretch;justify-content: center;background-color: white;position: relative;}#sk-container-id-22 div.sk-item::before, #sk-container-id-22 div.sk-parallel-item::before {content: \"\";position: absolute;border-left: 1px solid gray;box-sizing: border-box;top: 0;bottom: 0;left: 50%;z-index: -1;}#sk-container-id-22 div.sk-parallel-item {display: flex;flex-direction: column;z-index: 1;position: relative;background-color: white;}#sk-container-id-22 div.sk-parallel-item:first-child::after {align-self: flex-end;width: 50%;}#sk-container-id-22 div.sk-parallel-item:last-child::after {align-self: flex-start;width: 50%;}#sk-container-id-22 div.sk-parallel-item:only-child::after {width: 0;}#sk-container-id-22 div.sk-dashed-wrapped {border: 1px dashed gray;margin: 0 0.4em 0.5em 0.4em;box-sizing: border-box;padding-bottom: 0.4em;background-color: white;}#sk-container-id-22 div.sk-label label {font-family: monospace;font-weight: bold;display: inline-block;line-height: 1.2em;}#sk-container-id-22 div.sk-label-container {text-align: center;}#sk-container-id-22 div.sk-container {/* jupyter's `normalize.less` sets `[hidden] { display: none; }` but bootstrap.min.css set `[hidden] { display: none !important; }` so we also need the `!important` here to be able to override the default hidden behavior on the sphinx rendered scikit-learn.org. See: https://github.com/scikit-learn/scikit-learn/issues/21755 */display: inline-block !important;position: relative;}#sk-container-id-22 div.sk-text-repr-fallback {display: none;}</style><div id=\"sk-container-id-22\" class=\"sk-top-container\"><div class=\"sk-text-repr-fallback\"><pre>LinearRegression()</pre><b>In a Jupyter environment, please rerun this cell to show the HTML representation or trust the notebook. <br />On GitHub, the HTML representation is unable to render, please try loading this page with nbviewer.org.</b></div><div class=\"sk-container\" hidden><div class=\"sk-item\"><div class=\"sk-estimator sk-toggleable\"><input class=\"sk-toggleable__control sk-hidden--visually\" id=\"sk-estimator-id-22\" type=\"checkbox\" checked><label for=\"sk-estimator-id-22\" class=\"sk-toggleable__label sk-toggleable__label-arrow\">LinearRegression</label><div class=\"sk-toggleable__content\"><pre>LinearRegression()</pre></div></div></div></div></div>"
      ],
      "text/plain": [
       "LinearRegression()"
      ]
     },
     "execution_count": 468,
     "metadata": {},
     "output_type": "execute_result"
    }
   ],
   "source": [
    "pmodel.fit(x_train , y_train)"
   ]
  },
  {
   "cell_type": "code",
   "execution_count": 469,
   "id": "d5661842",
   "metadata": {},
   "outputs": [],
   "source": [
    "y_pred = pmodel.predict(x_test)"
   ]
  },
  {
   "cell_type": "code",
   "execution_count": 470,
   "id": "1b99003a",
   "metadata": {
    "scrolled": true
   },
   "outputs": [
    {
     "data": {
      "text/plain": [
       "0.30027055902715827"
      ]
     },
     "execution_count": 470,
     "metadata": {},
     "output_type": "execute_result"
    }
   ],
   "source": [
    "mean_squared_error(y_true = y_test , y_pred = y_pred , squared = False)"
   ]
  },
  {
   "cell_type": "code",
   "execution_count": 473,
   "id": "dcb52299",
   "metadata": {},
   "outputs": [
    {
     "data": {
      "text/plain": [
       "0.9490533087530152"
      ]
     },
     "execution_count": 473,
     "metadata": {},
     "output_type": "execute_result"
    }
   ],
   "source": [
    "r2_score(y_true = y_test , y_pred = y_pred)"
   ]
  },
  {
   "cell_type": "code",
   "execution_count": null,
   "id": "cf1cb8b9",
   "metadata": {},
   "outputs": [],
   "source": []
  }
 ],
 "metadata": {
  "kernelspec": {
   "display_name": "Python 3 (ipykernel)",
   "language": "python",
   "name": "python3"
  },
  "language_info": {
   "codemirror_mode": {
    "name": "ipython",
    "version": 3
   },
   "file_extension": ".py",
   "mimetype": "text/x-python",
   "name": "python",
   "nbconvert_exporter": "python",
   "pygments_lexer": "ipython3",
   "version": "3.10.4"
  }
 },
 "nbformat": 4,
 "nbformat_minor": 5
}
